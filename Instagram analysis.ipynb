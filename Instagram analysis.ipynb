{
 "cells": [
  {
   "cell_type": "markdown",
   "id": "b6820620-13ce-431a-af61-c60eebe9b2a4",
   "metadata": {},
   "source": [
    "# Instagram data analysis"
   ]
  },
  {
   "cell_type": "markdown",
   "id": "2f88d686-0a94-4485-8e4a-5e7d45f2dc5b",
   "metadata": {},
   "source": [
    "## 1. Setup and Libraries"
   ]
  },
  {
   "cell_type": "code",
   "execution_count": 8,
   "id": "52a0711d-48d9-457d-a6f6-e663fd0e7351",
   "metadata": {},
   "outputs": [],
   "source": [
    "library(stringi)"
   ]
  },
  {
   "cell_type": "code",
   "execution_count": 2,
   "id": "825adc17-b6d2-4df0-bb2b-82464c5b1b3b",
   "metadata": {},
   "outputs": [],
   "source": [
    "library(ggplot2)"
   ]
  },
  {
   "cell_type": "code",
   "execution_count": 4,
   "id": "c03c47ea-77bb-4d63-a5ba-f58d3caaa5f8",
   "metadata": {},
   "outputs": [
    {
     "name": "stderr",
     "output_type": "stream",
     "text": [
      "Warning message:\n",
      "\"package 'ggplot2' is in use and will not be installed\"\n"
     ]
    }
   ],
   "source": [
    "install.packages(\"ggplot2\")"
   ]
  },
  {
   "cell_type": "code",
   "execution_count": 47,
   "id": "3d6c1085-0caf-4c2e-9c26-82152c1779c8",
   "metadata": {},
   "outputs": [
    {
     "name": "stderr",
     "output_type": "stream",
     "text": [
      "\n",
      "Attaching package: 'scales'\n",
      "\n",
      "\n",
      "The following object is masked from 'package:purrr':\n",
      "\n",
      "    discard\n",
      "\n",
      "\n",
      "The following object is masked from 'package:readr':\n",
      "\n",
      "    col_factor\n",
      "\n",
      "\n"
     ]
    }
   ],
   "source": [
    "library(scales)"
   ]
  },
  {
   "cell_type": "code",
   "execution_count": 114,
   "id": "dab089d5-1314-421f-94b2-e0438d4bdd26",
   "metadata": {},
   "outputs": [
    {
     "name": "stderr",
     "output_type": "stream",
     "text": [
      "also installing the dependencies 'SnowballC', 'janeaustenr', 'tokenizers'\n",
      "\n",
      "\n"
     ]
    },
    {
     "name": "stdout",
     "output_type": "stream",
     "text": [
      "\n",
      "  There are binary versions available but the source versions are later:\n",
      "          binary source needs_compilation\n",
      "SnowballC  0.7.0  0.7.1              TRUE\n",
      "tidytext   0.4.1  0.4.2             FALSE\n",
      "\n",
      "  Binaries will be installed\n",
      "package 'SnowballC' successfully unpacked and MD5 sums checked\n",
      "package 'janeaustenr' successfully unpacked and MD5 sums checked\n",
      "package 'tokenizers' successfully unpacked and MD5 sums checked\n",
      "\n",
      "The downloaded binary packages are in\n",
      "\tC:\\Users\\ACER\\AppData\\Local\\Temp\\RtmpSwuXYQ\\downloaded_packages\n"
     ]
    },
    {
     "name": "stderr",
     "output_type": "stream",
     "text": [
      "installing the source package 'tidytext'\n",
      "\n",
      "\n"
     ]
    }
   ],
   "source": [
    "install.packages(\"tidytext\")"
   ]
  },
  {
   "cell_type": "code",
   "execution_count": 115,
   "id": "b7ed7b93-9eac-492f-b8cd-528122743a86",
   "metadata": {},
   "outputs": [],
   "source": [
    "library(tidytext)"
   ]
  },
  {
   "cell_type": "code",
   "execution_count": 157,
   "id": "334fa6fd-7513-41a2-87ba-0ae7e640be9b",
   "metadata": {},
   "outputs": [
    {
     "name": "stderr",
     "output_type": "stream",
     "text": [
      "also installing the dependencies 'pkgbuild', 'rprojroot', 'diffobj', 'brio', 'desc', 'pkgload', 'praise', 'waldo', 'testthat', 'numDeriv', 'SparseM', 'MatrixModels', 'survival', 'boot', 'minqa', 'nloptr', 'RcppEigen', 'carData', 'abind', 'nnet', 'pbkrtest', 'quantreg', 'lme4'\n",
      "\n",
      "\n"
     ]
    },
    {
     "name": "stdout",
     "output_type": "stream",
     "text": [
      "\n",
      "  There are binary versions available but the source versions are later:\n",
      "                binary    source needs_compilation\n",
      "pkgbuild         1.4.0     1.4.4             FALSE\n",
      "rprojroot        2.0.3     2.0.4             FALSE\n",
      "brio             1.1.3     1.1.5              TRUE\n",
      "desc             1.4.2     1.4.3             FALSE\n",
      "pkgload          1.3.2     1.3.4             FALSE\n",
      "waldo            0.4.0     0.5.2             FALSE\n",
      "testthat         3.1.7   3.2.1.1              TRUE\n",
      "SparseM           1.81      1.83              TRUE\n",
      "MatrixModels     0.5-1     0.5-3             FALSE\n",
      "survival         3.5-5     3.7-0              TRUE\n",
      "boot          1.3-28.1    1.3-30             FALSE\n",
      "minqa            1.2.5     1.2.7              TRUE\n",
      "RcppEigen    0.3.3.9.3 0.3.4.0.0              TRUE\n",
      "nnet            7.3-18    7.3-19              TRUE\n",
      "quantreg          5.95      5.98              TRUE\n",
      "lme4            1.1-32  1.1-35.3              TRUE\n",
      "\n",
      "  Binaries will be installed\n",
      "package 'diffobj' successfully unpacked and MD5 sums checked\n",
      "package 'brio' successfully unpacked and MD5 sums checked\n",
      "package 'praise' successfully unpacked and MD5 sums checked\n",
      "package 'testthat' successfully unpacked and MD5 sums checked\n",
      "package 'numDeriv' successfully unpacked and MD5 sums checked\n",
      "package 'SparseM' successfully unpacked and MD5 sums checked\n",
      "package 'survival' successfully unpacked and MD5 sums checked\n",
      "package 'minqa' successfully unpacked and MD5 sums checked\n",
      "package 'nloptr' successfully unpacked and MD5 sums checked\n",
      "package 'RcppEigen' successfully unpacked and MD5 sums checked\n",
      "package 'carData' successfully unpacked and MD5 sums checked\n",
      "package 'abind' successfully unpacked and MD5 sums checked\n",
      "package 'nnet' successfully unpacked and MD5 sums checked\n",
      "package 'pbkrtest' successfully unpacked and MD5 sums checked\n",
      "package 'quantreg' successfully unpacked and MD5 sums checked\n",
      "package 'lme4' successfully unpacked and MD5 sums checked\n",
      "package 'car' successfully unpacked and MD5 sums checked\n",
      "\n",
      "The downloaded binary packages are in\n",
      "\tC:\\Users\\ACER\\AppData\\Local\\Temp\\RtmpSwuXYQ\\downloaded_packages\n"
     ]
    },
    {
     "name": "stderr",
     "output_type": "stream",
     "text": [
      "installing the source packages 'pkgbuild', 'rprojroot', 'desc', 'pkgload', 'waldo', 'MatrixModels', 'boot'\n",
      "\n",
      "\n"
     ]
    }
   ],
   "source": [
    "install.packages(\"car\")"
   ]
  },
  {
   "cell_type": "code",
   "execution_count": 158,
   "id": "b039480b-c15d-4418-94e3-3f587e58338e",
   "metadata": {},
   "outputs": [
    {
     "name": "stderr",
     "output_type": "stream",
     "text": [
      "Loading required package: carData\n",
      "\n",
      "\n",
      "Attaching package: 'car'\n",
      "\n",
      "\n",
      "The following object is masked from 'package:dplyr':\n",
      "\n",
      "    recode\n",
      "\n",
      "\n",
      "The following object is masked from 'package:purrr':\n",
      "\n",
      "    some\n",
      "\n",
      "\n"
     ]
    }
   ],
   "source": [
    "library(car)"
   ]
  },
  {
   "cell_type": "code",
   "execution_count": 163,
   "id": "a53fd270-1e60-4d5f-aca5-1bc86c29e3ed",
   "metadata": {},
   "outputs": [
    {
     "name": "stderr",
     "output_type": "stream",
     "text": [
      "also installing the dependencies 'listenv', 'parallelly', 'future', 'globals', 'shape', 'future.apply', 'progressr', 'SQUAREM', 'diagram', 'KernSmooth', 'lava', 'rpart', 'prodlim', 'class', 'proxy', 'codetools', 'iterators', 'clock', 'gower', 'hardhat', 'ipred', 'timeDate', 'e1071', 'foreach', 'ModelMetrics', 'plyr', 'pROC', 'recipes', 'reshape2'\n",
      "\n",
      "\n"
     ]
    },
    {
     "name": "stdout",
     "output_type": "stream",
     "text": [
      "\n",
      "  There are binary versions available but the source versions are later:\n",
      "                 binary     source needs_compilation\n",
      "listenv           0.9.0      0.9.1             FALSE\n",
      "parallelly       1.35.0     1.37.1              TRUE\n",
      "future           1.32.0     1.33.2             FALSE\n",
      "globals          0.16.2     0.16.3             FALSE\n",
      "shape             1.4.6    1.4.6.1             FALSE\n",
      "future.apply     1.10.0     1.11.2             FALSE\n",
      "progressr        0.13.0     0.14.0             FALSE\n",
      "KernSmooth      2.23-20    2.23-24              TRUE\n",
      "lava            1.7.2.1      1.8.0             FALSE\n",
      "rpart            4.1.19     4.1.23              TRUE\n",
      "prodlim      2023.03.31 2023.08.28              TRUE\n",
      "class            7.3-21     7.3-22              TRUE\n",
      "codetools        0.2-19     0.2-20             FALSE\n",
      "clock             0.6.1      0.7.0              TRUE\n",
      "hardhat           1.3.0      1.4.0             FALSE\n",
      "timeDate       4022.108   4032.109             FALSE\n",
      "e1071            1.7-13     1.7-14              TRUE\n",
      "plyr              1.8.8      1.8.9              TRUE\n",
      "pROC             1.18.0     1.18.5              TRUE\n",
      "recipes           1.0.5     1.0.10             FALSE\n",
      "\n",
      "  Binaries will be installed\n",
      "package 'parallelly' successfully unpacked and MD5 sums checked\n",
      "package 'SQUAREM' successfully unpacked and MD5 sums checked\n",
      "package 'diagram' successfully unpacked and MD5 sums checked\n",
      "package 'KernSmooth' successfully unpacked and MD5 sums checked\n",
      "package 'rpart' successfully unpacked and MD5 sums checked\n",
      "package 'prodlim' successfully unpacked and MD5 sums checked\n",
      "package 'class' successfully unpacked and MD5 sums checked\n",
      "package 'proxy' successfully unpacked and MD5 sums checked\n",
      "package 'iterators' successfully unpacked and MD5 sums checked\n",
      "package 'clock' successfully unpacked and MD5 sums checked\n",
      "package 'gower' successfully unpacked and MD5 sums checked\n",
      "package 'ipred' successfully unpacked and MD5 sums checked\n",
      "package 'e1071' successfully unpacked and MD5 sums checked\n",
      "package 'foreach' successfully unpacked and MD5 sums checked\n",
      "package 'ModelMetrics' successfully unpacked and MD5 sums checked\n",
      "package 'plyr' successfully unpacked and MD5 sums checked\n",
      "package 'pROC' successfully unpacked and MD5 sums checked\n",
      "package 'reshape2' successfully unpacked and MD5 sums checked\n",
      "package 'caret' successfully unpacked and MD5 sums checked\n",
      "\n",
      "The downloaded binary packages are in\n",
      "\tC:\\Users\\ACER\\AppData\\Local\\Temp\\RtmpSwuXYQ\\downloaded_packages\n"
     ]
    },
    {
     "name": "stderr",
     "output_type": "stream",
     "text": [
      "installing the source packages 'listenv', 'future', 'globals', 'shape', 'future.apply', 'progressr', 'lava', 'codetools', 'hardhat', 'timeDate', 'recipes'\n",
      "\n",
      "\n",
      "Warning message in install.packages(\"caret\"):\n",
      "\"installation of package 'recipes' had non-zero exit status\"\n"
     ]
    }
   ],
   "source": [
    "install.packages(\"caret\")"
   ]
  },
  {
   "cell_type": "code",
   "execution_count": 170,
   "id": "dd77b627-702e-4211-b84a-78c1937cad52",
   "metadata": {},
   "outputs": [
    {
     "name": "stderr",
     "output_type": "stream",
     "text": [
      "\n",
      "Attaching package: 'caret'\n",
      "\n",
      "\n",
      "The following object is masked from 'package:purrr':\n",
      "\n",
      "    lift\n",
      "\n",
      "\n"
     ]
    }
   ],
   "source": [
    "library(caret)"
   ]
  },
  {
   "cell_type": "code",
   "execution_count": 167,
   "id": "0eb1e807-d075-402e-b560-e4017d43540f",
   "metadata": {},
   "outputs": [],
   "source": [
    "library(lattice)"
   ]
  },
  {
   "cell_type": "code",
   "execution_count": 169,
   "id": "9353df68-e545-4834-9a4d-1ca9eb5ea2e4",
   "metadata": {},
   "outputs": [
    {
     "name": "stdout",
     "output_type": "stream",
     "text": [
      "\n",
      "  There is a binary version available but the source version is later:\n",
      "        binary source needs_compilation\n",
      "recipes  1.0.5 1.0.10             FALSE\n",
      "\n"
     ]
    },
    {
     "name": "stderr",
     "output_type": "stream",
     "text": [
      "installing the source package 'recipes'\n",
      "\n",
      "\n"
     ]
    }
   ],
   "source": [
    "install.packages(\"recipes\")"
   ]
  },
  {
   "cell_type": "code",
   "execution_count": 190,
   "id": "86d6d0ab-5070-4413-9f5e-f16f6984fb04",
   "metadata": {},
   "outputs": [
    {
     "name": "stdout",
     "output_type": "stream",
     "text": [
      "package 'randomForest' successfully unpacked and MD5 sums checked\n",
      "\n",
      "The downloaded binary packages are in\n",
      "\tC:\\Users\\ACER\\AppData\\Local\\Temp\\RtmpSwuXYQ\\downloaded_packages\n"
     ]
    },
    {
     "name": "stderr",
     "output_type": "stream",
     "text": [
      "randomForest 4.7-1.1\n",
      "\n",
      "Type rfNews() to see new features/changes/bug fixes.\n",
      "\n",
      "\n",
      "Attaching package: 'randomForest'\n",
      "\n",
      "\n",
      "The following object is masked from 'package:dplyr':\n",
      "\n",
      "    combine\n",
      "\n",
      "\n",
      "The following object is masked from 'package:ggplot2':\n",
      "\n",
      "    margin\n",
      "\n",
      "\n"
     ]
    }
   ],
   "source": [
    "install.packages(\"randomForest\")\n",
    "library(randomForest)"
   ]
  },
  {
   "cell_type": "code",
   "execution_count": 197,
   "id": "2be6e9d5-7378-4e48-90f5-f75f00c74913",
   "metadata": {},
   "outputs": [
    {
     "name": "stdout",
     "output_type": "stream",
     "text": [
      "\n",
      "  There is a binary version available but the source version is later:\n",
      "           binary source needs_compilation\n",
      "rpart.plot  3.1.1  3.1.2             FALSE\n",
      "\n"
     ]
    },
    {
     "name": "stderr",
     "output_type": "stream",
     "text": [
      "installing the source package 'rpart.plot'\n",
      "\n",
      "\n",
      "Loading required package: rpart\n",
      "\n",
      "also installing the dependencies 'libcoin', 'mvtnorm', 'Formula', 'inum'\n",
      "\n",
      "\n"
     ]
    },
    {
     "name": "stdout",
     "output_type": "stream",
     "text": [
      "\n",
      "  There are binary versions available but the source versions are later:\n",
      "        binary source needs_compilation\n",
      "libcoin  1.0-9 1.0-10              TRUE\n",
      "mvtnorm  1.1-3  1.2-5              TRUE\n",
      "\n",
      "  Binaries will be installed\n",
      "package 'libcoin' successfully unpacked and MD5 sums checked\n",
      "package 'mvtnorm' successfully unpacked and MD5 sums checked\n",
      "package 'Formula' successfully unpacked and MD5 sums checked\n",
      "package 'inum' successfully unpacked and MD5 sums checked\n",
      "package 'partykit' successfully unpacked and MD5 sums checked\n",
      "\n",
      "The downloaded binary packages are in\n",
      "\tC:\\Users\\ACER\\AppData\\Local\\Temp\\RtmpSwuXYQ\\downloaded_packages\n"
     ]
    },
    {
     "name": "stderr",
     "output_type": "stream",
     "text": [
      "Loading required package: grid\n",
      "\n",
      "Loading required package: libcoin\n",
      "\n",
      "Loading required package: mvtnorm\n",
      "\n"
     ]
    }
   ],
   "source": [
    "install.packages(\"rpart.plot\")\n",
    "library(rpart.plot)\n",
    "install.packages(\"partykit\")\n",
    "library(partykit)"
   ]
  },
  {
   "cell_type": "markdown",
   "id": "87653f08-568e-4185-a9af-b5fae5a4b225",
   "metadata": {},
   "source": [
    "## 2. Data Import and Initial Exploration"
   ]
  },
  {
   "cell_type": "code",
   "execution_count": 22,
   "id": "9f9e1d82-9759-43f7-bfe9-2996a86cf10b",
   "metadata": {},
   "outputs": [],
   "source": [
    "data <- read.csv(\"C:/Users/ACER/Downloads/instagram_data.csv\")"
   ]
  },
  {
   "cell_type": "code",
   "execution_count": 23,
   "id": "f2dfbaf8-393f-4353-a0d7-fe9c081ff021",
   "metadata": {},
   "outputs": [
    {
     "data": {
      "text/html": [
       "<style>\n",
       ".list-inline {list-style: none; margin:0; padding: 0}\n",
       ".list-inline>li {display: inline-block}\n",
       ".list-inline>li:not(:last-child)::after {content: \"\\00b7\"; padding: 0 .5ex}\n",
       "</style>\n",
       "<ol class=list-inline><li>'owner_id'</li><li>'owner_username'</li><li>'shortcode'</li><li>'is_video'</li><li>'caption'</li><li>'comments'</li><li>'likes'</li><li>'created_at'</li><li>'location'</li><li>'imageUrl'</li><li>'multiple_images'</li><li>'username'</li><li>'followers'</li><li>'following'</li></ol>\n"
      ],
      "text/latex": [
       "\\begin{enumerate*}\n",
       "\\item 'owner\\_id'\n",
       "\\item 'owner\\_username'\n",
       "\\item 'shortcode'\n",
       "\\item 'is\\_video'\n",
       "\\item 'caption'\n",
       "\\item 'comments'\n",
       "\\item 'likes'\n",
       "\\item 'created\\_at'\n",
       "\\item 'location'\n",
       "\\item 'imageUrl'\n",
       "\\item 'multiple\\_images'\n",
       "\\item 'username'\n",
       "\\item 'followers'\n",
       "\\item 'following'\n",
       "\\end{enumerate*}\n"
      ],
      "text/markdown": [
       "1. 'owner_id'\n",
       "2. 'owner_username'\n",
       "3. 'shortcode'\n",
       "4. 'is_video'\n",
       "5. 'caption'\n",
       "6. 'comments'\n",
       "7. 'likes'\n",
       "8. 'created_at'\n",
       "9. 'location'\n",
       "10. 'imageUrl'\n",
       "11. 'multiple_images'\n",
       "12. 'username'\n",
       "13. 'followers'\n",
       "14. 'following'\n",
       "\n",
       "\n"
      ],
      "text/plain": [
       " [1] \"owner_id\"        \"owner_username\"  \"shortcode\"       \"is_video\"       \n",
       " [5] \"caption\"         \"comments\"        \"likes\"           \"created_at\"     \n",
       " [9] \"location\"        \"imageUrl\"        \"multiple_images\" \"username\"       \n",
       "[13] \"followers\"       \"following\"      "
      ]
     },
     "metadata": {},
     "output_type": "display_data"
    }
   ],
   "source": [
    "names(data)"
   ]
  },
  {
   "cell_type": "code",
   "execution_count": 24,
   "id": "8965d2b6-36b8-403c-bdbe-45516da0caf8",
   "metadata": {},
   "outputs": [
    {
     "data": {
      "text/html": [
       "<table class=\"dataframe\">\n",
       "<caption>A data.frame: 6 × 14</caption>\n",
       "<thead>\n",
       "\t<tr><th></th><th scope=col>owner_id</th><th scope=col>owner_username</th><th scope=col>shortcode</th><th scope=col>is_video</th><th scope=col>caption</th><th scope=col>comments</th><th scope=col>likes</th><th scope=col>created_at</th><th scope=col>location</th><th scope=col>imageUrl</th><th scope=col>multiple_images</th><th scope=col>username</th><th scope=col>followers</th><th scope=col>following</th></tr>\n",
       "\t<tr><th></th><th scope=col>&lt;chr&gt;</th><th scope=col>&lt;chr&gt;</th><th scope=col>&lt;chr&gt;</th><th scope=col>&lt;chr&gt;</th><th scope=col>&lt;chr&gt;</th><th scope=col>&lt;chr&gt;</th><th scope=col>&lt;chr&gt;</th><th scope=col>&lt;dbl&gt;</th><th scope=col>&lt;chr&gt;</th><th scope=col>&lt;chr&gt;</th><th scope=col>&lt;chr&gt;</th><th scope=col>&lt;chr&gt;</th><th scope=col>&lt;dbl&gt;</th><th scope=col>&lt;dbl&gt;</th></tr>\n",
       "</thead>\n",
       "<tbody>\n",
       "\t<tr><th scope=row>1</th><td>36063641</td><td>christendominique</td><td>C3_GS1ASeWI</td><td>False</td><td><span style=white-space:pre-wrap>Iâ€™m a brunch &amp; Iced Coffee girlieâ˜•ï¸ðŸ³ \n",
       "\n",
       "Top @ta3 X @nazaninkavari \n",
       "\n",
       "hbu?                                                                                                                                                                                                                                                                                                                                                                                                                                                                                                                                                                                     </span></td><td>268 </td><td>16382</td><td>1709326758</td><td></td><td>https://instagram.flba2-1.fna.fbcdn.net/v/t39.30808-6/430974774_18418670632031642_5697489775672449864_n.jpg?stp=dst-jpg_e35_p1080x1080_sh0.08&amp;_nc_ht=instagram.flba2-1.fna.fbcdn.net&amp;_nc_cat=102&amp;_nc_ohc=nYbyc3bq0TUAX8IOwlm&amp;edm=AOQ1c0wAAAAA&amp;ccb=7-5&amp;oh=00_AfARXlvLAt1ALtcbKPME-_PopUpz0RCCr5Ga0_Ag3H7mvw&amp;oe=65E871E6&amp;_nc_sid=8b3546</td><td>True </td><td>christendominique</td><td>2144626</td><td>1021</td></tr>\n",
       "\t<tr><th scope=row>2</th><td>36063641</td><td>christendominique</td><td>C38ivgNS3IX</td><td>True </td><td><span style=white-space:pre-wrap>ðŸ˜®â€ðŸ’¨Brow tips I really wish I would have know when I first started makeupðŸ«£ðŸ™„\n",
       "\n",
       "Brow Frame Pencil @dominiquecosmetics \n",
       "Shade: Cool deep brown\n",
       "Brow Blowout Gel @dominiquecosmetics \n",
       "Brow powder @sigmabeauty \n",
       "Shade: Medium\n",
       "\n",
       "#browtips #eyebrowtutorial #browmakeup #eyebrowtutorial #makeup #makeuptips                                                                                                                                                                                                                                                                                                                                               </span></td><td>138 </td><td>9267 </td><td>1709241048</td><td></td><td><span style=white-space:pre-wrap>https://instagram.flba2-1.fna.fbcdn.net/v/t51.2885-15/430476546_377253591918347_6302610600098341121_n.jpg?stp=dst-jpg_e15&amp;_nc_ht=instagram.flba2-1.fna.fbcdn.net&amp;_nc_cat=111&amp;_nc_ohc=2S1Jd8tJS24AX_C-vSA&amp;edm=AOQ1c0wBAAAA&amp;ccb=7-5&amp;oh=00_AfCWntEuRxNPKxDgBM10kr-gfRDebiMoOpsIiFwRbMnjGg&amp;oe=65E55F07&amp;_nc_sid=8b3546                    </span></td><td>False</td><td>christendominique</td><td>2144626</td><td>1021</td></tr>\n",
       "\t<tr><th scope=row>3</th><td>36063641</td><td>christendominique</td><td>C35-Dd9SO1b</td><td>True </td><td>OMG I canâ€™t believe itâ€™s already been 1 yr since launching my collab brush collection with @sigmabeauty ðŸ¥²ðŸ«¶ Iâ€™m exciting to do this giveaway for you guys just comment below what makes you feel beautiful and Iâ€™ll pick a winner this Friday! Iâ€™ll announce in stories and DMðŸ©· Good luckðŸ˜˜\n",
       "\n",
       "MAKEUP \n",
       "Dry skin\n",
       "@milk Hydro grip\n",
       "@toofaced skin tint and concealer \n",
       "\n",
       "Oily skin \n",
       "@smashboxcosmetics OG Primer\n",
       "@hauslabs foundation\n",
       "@hourglasscosmetics Concealer \n",
       "\n",
       "Medium deep setting powder as bronzer @lunarbeauty \n",
       "Sun Pop Blush @r.e.m.beauty \n",
       "\n",
       "#sigmaxchristendominique #makeupforbeginners #beginnermakeup #makeup #makeuptutorial</td><td>1089</td><td>10100</td><td>1709154707</td><td></td><td><span style=white-space:pre-wrap>https://instagram.flba2-1.fna.fbcdn.net/v/t51.2885-15/430195796_1090020002251078_273021475404128574_n.jpg?stp=dst-jpg_e15&amp;_nc_ht=instagram.flba2-1.fna.fbcdn.net&amp;_nc_cat=110&amp;_nc_ohc=xiy-Uv41l9wAX_VapE8&amp;edm=AOQ1c0wBAAAA&amp;ccb=7-5&amp;oh=00_AfDypfw9w0--H5YcJYq7rD78-2LR0GeUDm7l_cgs1yZCUw&amp;oe=65E55DEA&amp;_nc_sid=8b3546                    </span></td><td>False</td><td>christendominique</td><td>2144626</td><td>1021</td></tr>\n",
       "\t<tr><th scope=row>4</th><td>36063641</td><td>christendominique</td><td>C33TadDMisq</td><td>True </td><td><span style=white-space:pre-wrap>90â€™s Glam was Pam! \n",
       "\n",
       "Makeup \n",
       "@smashboxcosmetics OG Primer @ultabeauty \n",
       "Always on Foundation, Cover shot eyeshadow matte palette, Medium brown lip liner, stepping out lipstick \n",
       "@dominiquecosmetics Brow Gel &amp; Brow Frame Pencil\n",
       "Setting powder, Creamer Gloss\n",
       "\n",
       "#90smakeup \n",
       " @hourglasscosmetics Concealer \n",
       "@gxvebeauty Black Pencil liner \n",
       "@lunarbeauty So icy shade from Nude prism Palette \n",
       "@rarebeauty Mascara\n",
       "\n",
       " #sbxambassador #90smakeup #glammakeup #pamelaanderson #makeup #makeuptutorial                                                                                                                                                       </span></td><td>271 </td><td>6943 </td><td>1709065322</td><td></td><td><span style=white-space:pre-wrap>https://instagram.flba2-1.fna.fbcdn.net/v/t51.2885-15/430234461_2511216325719852_6044708940416132323_n.jpg?stp=dst-jpg_e15&amp;_nc_ht=instagram.flba2-1.fna.fbcdn.net&amp;_nc_cat=100&amp;_nc_ohc=mz1fe9L6CJIAX98OBla&amp;edm=AOQ1c0wBAAAA&amp;ccb=7-5&amp;oh=00_AfDzY4lTHx5B0vWQB8MN3WncDHSoAbrLDl-al_xaHU97_Q&amp;oe=65E564A6&amp;_nc_sid=8b3546                   </span></td><td>False</td><td>christendominique</td><td>2144626</td><td>1021</td></tr>\n",
       "\t<tr><th scope=row>5</th><td>36063641</td><td>christendominique</td><td>C3s-Cm1yCba</td><td>True </td><td><span style=white-space:pre-wrap>Chiseled &amp; Sculptured ðŸ›ï¸\n",
       "\n",
       " Contour @westmanatelier \n",
       "Face trace \n",
       "\n",
       "Brush @nudestix Blend &amp; buff brush\n",
       "\n",
       "#contour #makeup #makeuptutorial #contourtutorial                                                                                                                                                                                                                                                                                                                                                                                                                                                                                                       </span></td><td>145 </td><td>17158</td><td>1708718486</td><td></td><td><span style=white-space:pre-wrap>https://instagram.flba2-1.fna.fbcdn.net/v/t51.2885-15/429323592_377089618501769_449776109189645104_n.jpg?stp=dst-jpg_e15&amp;_nc_ht=instagram.flba2-1.fna.fbcdn.net&amp;_nc_cat=105&amp;_nc_ohc=tzBki6TmwvIAX8muR2z&amp;edm=AOQ1c0wBAAAA&amp;ccb=7-5&amp;oh=00_AfBdZL3B7j_b1fXmKk6tK9Yv-MB_5kltDXIQxDutVEaCAw&amp;oe=65E5070B&amp;_nc_sid=8b3546                     </span></td><td>False</td><td>christendominique</td><td>2144626</td><td>1021</td></tr>\n",
       "\t<tr><th scope=row>6</th><td>36063641</td><td>christendominique</td><td>C3n0pZJvG-G</td><td>True </td><td><span style=white-space:pre-wrap>No foundation but all this coverage ðŸ˜‹ I love how flawless it came out! \n",
       "\n",
       "Concealer @dominiquecosmetics \n",
       "Cream contour @dibsbeauty \n",
       "Setting powder Translucent &amp; Medium Deep @dominiquecosmetics \n",
       "Powder bronzer @lorealparis \n",
       "@r.e.m.beauty Pinking of U blush\n",
       "@toofaced Watermelon Rain\n",
       "Nudie lip liner @dominiquecosmetics \n",
       "Flaunt 2 lip liner @hourglasscosmetics \n",
       "Lanny lipstick @lunarbeauty X @lauraleelosangeles \n",
       "Peach tea gloss @dominiquecosmetics \n",
       "Shooting star highlight @toofaced \n",
       "Skin mist enhancer @lisaeldridgemakeup \n",
       "\n",
       "#nofoundationmakeup #nofoundation #makeup #makeuptutorial #everydaymakeup                                    </span></td><td>143 </td><td>9683 </td><td>1708546185</td><td></td><td><span style=white-space:pre-wrap>https://instagram.flba2-1.fna.fbcdn.net/v/t51.2885-15/429446159_755569773124491_1258377146530980146_n.jpg?stp=dst-jpg_e15&amp;_nc_ht=instagram.flba2-1.fna.fbcdn.net&amp;_nc_cat=103&amp;_nc_ohc=GAp7_i_sWT8AX-rrbNX&amp;edm=AOQ1c0wBAAAA&amp;ccb=7-5&amp;oh=00_AfCEkZrxSBsFphw5eWSCTheTpDLZageJ_ZIVBP3oxkjKZg&amp;oe=65E59D33&amp;_nc_sid=8b3546                    </span></td><td>False</td><td>christendominique</td><td>2144626</td><td>1021</td></tr>\n",
       "</tbody>\n",
       "</table>\n"
      ],
      "text/latex": [
       "A data.frame: 6 × 14\n",
       "\\begin{tabular}{r|llllllllllllll}\n",
       "  & owner\\_id & owner\\_username & shortcode & is\\_video & caption & comments & likes & created\\_at & location & imageUrl & multiple\\_images & username & followers & following\\\\\n",
       "  & <chr> & <chr> & <chr> & <chr> & <chr> & <chr> & <chr> & <dbl> & <chr> & <chr> & <chr> & <chr> & <dbl> & <dbl>\\\\\n",
       "\\hline\n",
       "\t1 & 36063641 & christendominique & C3\\_GS1ASeWI & False & Iâ€™m a brunch \\& Iced Coffee girlieâ˜•ï¸ðŸ³ \n",
       "\n",
       "Top @ta3 X @nazaninkavari \n",
       "\n",
       "hbu?                                                                                                                                                                                                                                                                                                                                                                                                                                                                                                                                                                                      & 268  & 16382 & 1709326758 &  & https://instagram.flba2-1.fna.fbcdn.net/v/t39.30808-6/430974774\\_18418670632031642\\_5697489775672449864\\_n.jpg?stp=dst-jpg\\_e35\\_p1080x1080\\_sh0.08\\&\\_nc\\_ht=instagram.flba2-1.fna.fbcdn.net\\&\\_nc\\_cat=102\\&\\_nc\\_ohc=nYbyc3bq0TUAX8IOwlm\\&edm=AOQ1c0wAAAAA\\&ccb=7-5\\&oh=00\\_AfARXlvLAt1ALtcbKPME-\\_PopUpz0RCCr5Ga0\\_Ag3H7mvw\\&oe=65E871E6\\&\\_nc\\_sid=8b3546 & True  & christendominique & 2144626 & 1021\\\\\n",
       "\t2 & 36063641 & christendominique & C38ivgNS3IX & True  & ðŸ˜®â€ðŸ’¨Brow tips I really wish I would have know when I first started makeupðŸ«£ðŸ™„\n",
       "\n",
       "Brow Frame Pencil @dominiquecosmetics \n",
       "Shade: Cool deep brown\n",
       "Brow Blowout Gel @dominiquecosmetics \n",
       "Brow powder @sigmabeauty \n",
       "Shade: Medium\n",
       "\n",
       "\\#browtips \\#eyebrowtutorial \\#browmakeup \\#eyebrowtutorial \\#makeup \\#makeuptips                                                                                                                                                                                                                                                                                                                                                & 138  & 9267  & 1709241048 &  & https://instagram.flba2-1.fna.fbcdn.net/v/t51.2885-15/430476546\\_377253591918347\\_6302610600098341121\\_n.jpg?stp=dst-jpg\\_e15\\&\\_nc\\_ht=instagram.flba2-1.fna.fbcdn.net\\&\\_nc\\_cat=111\\&\\_nc\\_ohc=2S1Jd8tJS24AX\\_C-vSA\\&edm=AOQ1c0wBAAAA\\&ccb=7-5\\&oh=00\\_AfCWntEuRxNPKxDgBM10kr-gfRDebiMoOpsIiFwRbMnjGg\\&oe=65E55F07\\&\\_nc\\_sid=8b3546                     & False & christendominique & 2144626 & 1021\\\\\n",
       "\t3 & 36063641 & christendominique & C35-Dd9SO1b & True  & OMG I canâ€™t believe itâ€™s already been 1 yr since launching my collab brush collection with @sigmabeauty ðŸ¥²ðŸ«¶ Iâ€™m exciting to do this giveaway for you guys just comment below what makes you feel beautiful and Iâ€™ll pick a winner this Friday! Iâ€™ll announce in stories and DMðŸ©· Good luckðŸ˜˜\n",
       "\n",
       "MAKEUP \n",
       "Dry skin\n",
       "@milk Hydro grip\n",
       "@toofaced skin tint and concealer \n",
       "\n",
       "Oily skin \n",
       "@smashboxcosmetics OG Primer\n",
       "@hauslabs foundation\n",
       "@hourglasscosmetics Concealer \n",
       "\n",
       "Medium deep setting powder as bronzer @lunarbeauty \n",
       "Sun Pop Blush @r.e.m.beauty \n",
       "\n",
       "\\#sigmaxchristendominique \\#makeupforbeginners \\#beginnermakeup \\#makeup \\#makeuptutorial & 1089 & 10100 & 1709154707 &  & https://instagram.flba2-1.fna.fbcdn.net/v/t51.2885-15/430195796\\_1090020002251078\\_273021475404128574\\_n.jpg?stp=dst-jpg\\_e15\\&\\_nc\\_ht=instagram.flba2-1.fna.fbcdn.net\\&\\_nc\\_cat=110\\&\\_nc\\_ohc=xiy-Uv41l9wAX\\_VapE8\\&edm=AOQ1c0wBAAAA\\&ccb=7-5\\&oh=00\\_AfDypfw9w0--H5YcJYq7rD78-2LR0GeUDm7l\\_cgs1yZCUw\\&oe=65E55DEA\\&\\_nc\\_sid=8b3546                     & False & christendominique & 2144626 & 1021\\\\\n",
       "\t4 & 36063641 & christendominique & C33TadDMisq & True  & 90â€™s Glam was Pam! \n",
       "\n",
       "Makeup \n",
       "@smashboxcosmetics OG Primer @ultabeauty \n",
       "Always on Foundation, Cover shot eyeshadow matte palette, Medium brown lip liner, stepping out lipstick \n",
       "@dominiquecosmetics Brow Gel \\& Brow Frame Pencil\n",
       "Setting powder, Creamer Gloss\n",
       "\n",
       "\\#90smakeup \n",
       " @hourglasscosmetics Concealer \n",
       "@gxvebeauty Black Pencil liner \n",
       "@lunarbeauty So icy shade from Nude prism Palette \n",
       "@rarebeauty Mascara\n",
       "\n",
       " \\#sbxambassador \\#90smakeup \\#glammakeup \\#pamelaanderson \\#makeup \\#makeuptutorial                                                                                                                                                        & 271  & 6943  & 1709065322 &  & https://instagram.flba2-1.fna.fbcdn.net/v/t51.2885-15/430234461\\_2511216325719852\\_6044708940416132323\\_n.jpg?stp=dst-jpg\\_e15\\&\\_nc\\_ht=instagram.flba2-1.fna.fbcdn.net\\&\\_nc\\_cat=100\\&\\_nc\\_ohc=mz1fe9L6CJIAX98OBla\\&edm=AOQ1c0wBAAAA\\&ccb=7-5\\&oh=00\\_AfDzY4lTHx5B0vWQB8MN3WncDHSoAbrLDl-al\\_xaHU97\\_Q\\&oe=65E564A6\\&\\_nc\\_sid=8b3546                    & False & christendominique & 2144626 & 1021\\\\\n",
       "\t5 & 36063641 & christendominique & C3s-Cm1yCba & True  & Chiseled \\& Sculptured ðŸ›ï¸\n",
       "\n",
       " Contour @westmanatelier \n",
       "Face trace \n",
       "\n",
       "Brush @nudestix Blend \\& buff brush\n",
       "\n",
       "\\#contour \\#makeup \\#makeuptutorial \\#contourtutorial                                                                                                                                                                                                                                                                                                                                                                                                                                                                                                        & 145  & 17158 & 1708718486 &  & https://instagram.flba2-1.fna.fbcdn.net/v/t51.2885-15/429323592\\_377089618501769\\_449776109189645104\\_n.jpg?stp=dst-jpg\\_e15\\&\\_nc\\_ht=instagram.flba2-1.fna.fbcdn.net\\&\\_nc\\_cat=105\\&\\_nc\\_ohc=tzBki6TmwvIAX8muR2z\\&edm=AOQ1c0wBAAAA\\&ccb=7-5\\&oh=00\\_AfBdZL3B7j\\_b1fXmKk6tK9Yv-MB\\_5kltDXIQxDutVEaCAw\\&oe=65E5070B\\&\\_nc\\_sid=8b3546                      & False & christendominique & 2144626 & 1021\\\\\n",
       "\t6 & 36063641 & christendominique & C3n0pZJvG-G & True  & No foundation but all this coverage ðŸ˜‹ I love how flawless it came out! \n",
       "\n",
       "Concealer @dominiquecosmetics \n",
       "Cream contour @dibsbeauty \n",
       "Setting powder Translucent \\& Medium Deep @dominiquecosmetics \n",
       "Powder bronzer @lorealparis \n",
       "@r.e.m.beauty Pinking of U blush\n",
       "@toofaced Watermelon Rain\n",
       "Nudie lip liner @dominiquecosmetics \n",
       "Flaunt 2 lip liner @hourglasscosmetics \n",
       "Lanny lipstick @lunarbeauty X @lauraleelosangeles \n",
       "Peach tea gloss @dominiquecosmetics \n",
       "Shooting star highlight @toofaced \n",
       "Skin mist enhancer @lisaeldridgemakeup \n",
       "\n",
       "\\#nofoundationmakeup \\#nofoundation \\#makeup \\#makeuptutorial \\#everydaymakeup                                     & 143  & 9683  & 1708546185 &  & https://instagram.flba2-1.fna.fbcdn.net/v/t51.2885-15/429446159\\_755569773124491\\_1258377146530980146\\_n.jpg?stp=dst-jpg\\_e15\\&\\_nc\\_ht=instagram.flba2-1.fna.fbcdn.net\\&\\_nc\\_cat=103\\&\\_nc\\_ohc=GAp7\\_i\\_sWT8AX-rrbNX\\&edm=AOQ1c0wBAAAA\\&ccb=7-5\\&oh=00\\_AfCEkZrxSBsFphw5eWSCTheTpDLZageJ\\_ZIVBP3oxkjKZg\\&oe=65E59D33\\&\\_nc\\_sid=8b3546                     & False & christendominique & 2144626 & 1021\\\\\n",
       "\\end{tabular}\n"
      ],
      "text/markdown": [
       "\n",
       "A data.frame: 6 × 14\n",
       "\n",
       "| <!--/--> | owner_id &lt;chr&gt; | owner_username &lt;chr&gt; | shortcode &lt;chr&gt; | is_video &lt;chr&gt; | caption &lt;chr&gt; | comments &lt;chr&gt; | likes &lt;chr&gt; | created_at &lt;dbl&gt; | location &lt;chr&gt; | imageUrl &lt;chr&gt; | multiple_images &lt;chr&gt; | username &lt;chr&gt; | followers &lt;dbl&gt; | following &lt;dbl&gt; |\n",
       "|---|---|---|---|---|---|---|---|---|---|---|---|---|---|---|\n",
       "| 1 | 36063641 | christendominique | C3_GS1ASeWI | False | Iâ€™m a brunch &amp; Iced Coffee girlieâ˜•ï¸ðŸ³ \n",
       "\n",
       "Top @ta3 X @nazaninkavari \n",
       "\n",
       "hbu?                                                                                                                                                                                                                                                                                                                                                                                                                                                                                                                                                                                      | 268  | 16382 | 1709326758 | <!----> | https://instagram.flba2-1.fna.fbcdn.net/v/t39.30808-6/430974774_18418670632031642_5697489775672449864_n.jpg?stp=dst-jpg_e35_p1080x1080_sh0.08&amp;_nc_ht=instagram.flba2-1.fna.fbcdn.net&amp;_nc_cat=102&amp;_nc_ohc=nYbyc3bq0TUAX8IOwlm&amp;edm=AOQ1c0wAAAAA&amp;ccb=7-5&amp;oh=00_AfARXlvLAt1ALtcbKPME-_PopUpz0RCCr5Ga0_Ag3H7mvw&amp;oe=65E871E6&amp;_nc_sid=8b3546 | True  | christendominique | 2144626 | 1021 |\n",
       "| 2 | 36063641 | christendominique | C38ivgNS3IX | True  | ðŸ˜®â€ðŸ’¨Brow tips I really wish I would have know when I first started makeupðŸ«£ðŸ™„\n",
       "\n",
       "Brow Frame Pencil @dominiquecosmetics \n",
       "Shade: Cool deep brown\n",
       "Brow Blowout Gel @dominiquecosmetics \n",
       "Brow powder @sigmabeauty \n",
       "Shade: Medium\n",
       "\n",
       "#browtips #eyebrowtutorial #browmakeup #eyebrowtutorial #makeup #makeuptips                                                                                                                                                                                                                                                                                                                                                | 138  | 9267  | 1709241048 | <!----> | https://instagram.flba2-1.fna.fbcdn.net/v/t51.2885-15/430476546_377253591918347_6302610600098341121_n.jpg?stp=dst-jpg_e15&amp;_nc_ht=instagram.flba2-1.fna.fbcdn.net&amp;_nc_cat=111&amp;_nc_ohc=2S1Jd8tJS24AX_C-vSA&amp;edm=AOQ1c0wBAAAA&amp;ccb=7-5&amp;oh=00_AfCWntEuRxNPKxDgBM10kr-gfRDebiMoOpsIiFwRbMnjGg&amp;oe=65E55F07&amp;_nc_sid=8b3546                     | False | christendominique | 2144626 | 1021 |\n",
       "| 3 | 36063641 | christendominique | C35-Dd9SO1b | True  | OMG I canâ€™t believe itâ€™s already been 1 yr since launching my collab brush collection with @sigmabeauty ðŸ¥²ðŸ«¶ Iâ€™m exciting to do this giveaway for you guys just comment below what makes you feel beautiful and Iâ€™ll pick a winner this Friday! Iâ€™ll announce in stories and DMðŸ©· Good luckðŸ˜˜\n",
       "\n",
       "MAKEUP \n",
       "Dry skin\n",
       "@milk Hydro grip\n",
       "@toofaced skin tint and concealer \n",
       "\n",
       "Oily skin \n",
       "@smashboxcosmetics OG Primer\n",
       "@hauslabs foundation\n",
       "@hourglasscosmetics Concealer \n",
       "\n",
       "Medium deep setting powder as bronzer @lunarbeauty \n",
       "Sun Pop Blush @r.e.m.beauty \n",
       "\n",
       "#sigmaxchristendominique #makeupforbeginners #beginnermakeup #makeup #makeuptutorial | 1089 | 10100 | 1709154707 | <!----> | https://instagram.flba2-1.fna.fbcdn.net/v/t51.2885-15/430195796_1090020002251078_273021475404128574_n.jpg?stp=dst-jpg_e15&amp;_nc_ht=instagram.flba2-1.fna.fbcdn.net&amp;_nc_cat=110&amp;_nc_ohc=xiy-Uv41l9wAX_VapE8&amp;edm=AOQ1c0wBAAAA&amp;ccb=7-5&amp;oh=00_AfDypfw9w0--H5YcJYq7rD78-2LR0GeUDm7l_cgs1yZCUw&amp;oe=65E55DEA&amp;_nc_sid=8b3546                     | False | christendominique | 2144626 | 1021 |\n",
       "| 4 | 36063641 | christendominique | C33TadDMisq | True  | 90â€™s Glam was Pam! \n",
       "\n",
       "Makeup \n",
       "@smashboxcosmetics OG Primer @ultabeauty \n",
       "Always on Foundation, Cover shot eyeshadow matte palette, Medium brown lip liner, stepping out lipstick \n",
       "@dominiquecosmetics Brow Gel &amp; Brow Frame Pencil\n",
       "Setting powder, Creamer Gloss\n",
       "\n",
       "#90smakeup \n",
       " @hourglasscosmetics Concealer \n",
       "@gxvebeauty Black Pencil liner \n",
       "@lunarbeauty So icy shade from Nude prism Palette \n",
       "@rarebeauty Mascara\n",
       "\n",
       " #sbxambassador #90smakeup #glammakeup #pamelaanderson #makeup #makeuptutorial                                                                                                                                                        | 271  | 6943  | 1709065322 | <!----> | https://instagram.flba2-1.fna.fbcdn.net/v/t51.2885-15/430234461_2511216325719852_6044708940416132323_n.jpg?stp=dst-jpg_e15&amp;_nc_ht=instagram.flba2-1.fna.fbcdn.net&amp;_nc_cat=100&amp;_nc_ohc=mz1fe9L6CJIAX98OBla&amp;edm=AOQ1c0wBAAAA&amp;ccb=7-5&amp;oh=00_AfDzY4lTHx5B0vWQB8MN3WncDHSoAbrLDl-al_xaHU97_Q&amp;oe=65E564A6&amp;_nc_sid=8b3546                    | False | christendominique | 2144626 | 1021 |\n",
       "| 5 | 36063641 | christendominique | C3s-Cm1yCba | True  | Chiseled &amp; Sculptured ðŸ›ï¸\n",
       "\n",
       " Contour @westmanatelier \n",
       "Face trace \n",
       "\n",
       "Brush @nudestix Blend &amp; buff brush\n",
       "\n",
       "#contour #makeup #makeuptutorial #contourtutorial                                                                                                                                                                                                                                                                                                                                                                                                                                                                                                        | 145  | 17158 | 1708718486 | <!----> | https://instagram.flba2-1.fna.fbcdn.net/v/t51.2885-15/429323592_377089618501769_449776109189645104_n.jpg?stp=dst-jpg_e15&amp;_nc_ht=instagram.flba2-1.fna.fbcdn.net&amp;_nc_cat=105&amp;_nc_ohc=tzBki6TmwvIAX8muR2z&amp;edm=AOQ1c0wBAAAA&amp;ccb=7-5&amp;oh=00_AfBdZL3B7j_b1fXmKk6tK9Yv-MB_5kltDXIQxDutVEaCAw&amp;oe=65E5070B&amp;_nc_sid=8b3546                      | False | christendominique | 2144626 | 1021 |\n",
       "| 6 | 36063641 | christendominique | C3n0pZJvG-G | True  | No foundation but all this coverage ðŸ˜‹ I love how flawless it came out! \n",
       "\n",
       "Concealer @dominiquecosmetics \n",
       "Cream contour @dibsbeauty \n",
       "Setting powder Translucent &amp; Medium Deep @dominiquecosmetics \n",
       "Powder bronzer @lorealparis \n",
       "@r.e.m.beauty Pinking of U blush\n",
       "@toofaced Watermelon Rain\n",
       "Nudie lip liner @dominiquecosmetics \n",
       "Flaunt 2 lip liner @hourglasscosmetics \n",
       "Lanny lipstick @lunarbeauty X @lauraleelosangeles \n",
       "Peach tea gloss @dominiquecosmetics \n",
       "Shooting star highlight @toofaced \n",
       "Skin mist enhancer @lisaeldridgemakeup \n",
       "\n",
       "#nofoundationmakeup #nofoundation #makeup #makeuptutorial #everydaymakeup                                     | 143  | 9683  | 1708546185 | <!----> | https://instagram.flba2-1.fna.fbcdn.net/v/t51.2885-15/429446159_755569773124491_1258377146530980146_n.jpg?stp=dst-jpg_e15&amp;_nc_ht=instagram.flba2-1.fna.fbcdn.net&amp;_nc_cat=103&amp;_nc_ohc=GAp7_i_sWT8AX-rrbNX&amp;edm=AOQ1c0wBAAAA&amp;ccb=7-5&amp;oh=00_AfCEkZrxSBsFphw5eWSCTheTpDLZageJ_ZIVBP3oxkjKZg&amp;oe=65E59D33&amp;_nc_sid=8b3546                     | False | christendominique | 2144626 | 1021 |\n",
       "\n"
      ],
      "text/plain": [
       "  owner_id owner_username    shortcode   is_video\n",
       "1 36063641 christendominique C3_GS1ASeWI False   \n",
       "2 36063641 christendominique C38ivgNS3IX True    \n",
       "3 36063641 christendominique C35-Dd9SO1b True    \n",
       "4 36063641 christendominique C33TadDMisq True    \n",
       "5 36063641 christendominique C3s-Cm1yCba True    \n",
       "6 36063641 christendominique C3n0pZJvG-G True    \n",
       "  caption                                                                                                                                                                                                                                                                                                                                                                                                                                                                                                                                                                                                                                                                  \n",
       "1 Iâ\\200\\231m a brunch & Iced Coffee girlieâ\\230•ï¸\\217ðŸ\\215³ \\n\\nTop @ta3 X @nazaninkavari \\n\\nhbu?                                                                                                                                                                                                                                                                                                                                                                                                                                                                                                                                                                                     \n",
       "2 ðŸ\\230®â\\200\\215ðŸ’¨Brow tips I really wish I would have know when I first started makeupðŸ«£ðŸ\\231„\\n\\nBrow Frame Pencil @dominiquecosmetics \\nShade: Cool deep brown\\nBrow Blowout Gel @dominiquecosmetics \\nBrow powder @sigmabeauty \\nShade: Medium\\n\\n#browtips #eyebrowtutorial #browmakeup #eyebrowtutorial #makeup #makeuptips                                                                                                                                                                                                                                                                                                                                               \n",
       "3 OMG I canâ\\200\\231t believe itâ\\200\\231s already been 1 yr since launching my collab brush collection with @sigmabeauty ðŸ¥²ðŸ«¶ Iâ\\200\\231m exciting to do this giveaway for you guys just comment below what makes you feel beautiful and Iâ\\200\\231ll pick a winner this Friday! Iâ\\200\\231ll announce in stories and DMðŸ©· Good luckðŸ\\230\\230\\n\\nMAKEUP \\nDry skin\\n@milk Hydro grip\\n@toofaced skin tint and concealer \\n\\nOily skin \\n@smashboxcosmetics OG Primer\\n@hauslabs foundation\\n@hourglasscosmetics Concealer \\n\\nMedium deep setting powder as bronzer @lunarbeauty \\nSun Pop Blush @r.e.m.beauty \\n\\n#sigmaxchristendominique #makeupforbeginners #beginnermakeup #makeup #makeuptutorial\n",
       "4 90â\\200\\231s Glam was Pam! \\n\\nMakeup \\n@smashboxcosmetics OG Primer @ultabeauty \\nAlways on Foundation, Cover shot eyeshadow matte palette, Medium brown lip liner, stepping out lipstick \\n@dominiquecosmetics Brow Gel & Brow Frame Pencil\\nSetting powder, Creamer Gloss\\n\\n#90smakeup \\n @hourglasscosmetics Concealer \\n@gxvebeauty Black Pencil liner \\n@lunarbeauty So icy shade from Nude prism Palette \\n@rarebeauty Mascara\\n\\n #sbxambassador #90smakeup #glammakeup #pamelaanderson #makeup #makeuptutorial                                                                                                                                                       \n",
       "5 Chiseled & Sculptured ðŸ\\217›ï¸\\217\\n\\n Contour @westmanatelier \\nFace trace \\n\\nBrush @nudestix Blend & buff brush\\n\\n#contour #makeup #makeuptutorial #contourtutorial                                                                                                                                                                                                                                                                                                                                                                                                                                                                                                       \n",
       "6 No foundation but all this coverage ðŸ\\230‹ I love how flawless it came out! \\n\\nConcealer @dominiquecosmetics \\nCream contour @dibsbeauty \\nSetting powder Translucent & Medium Deep @dominiquecosmetics \\nPowder bronzer @lorealparis \\n@r.e.m.beauty Pinking of U blush\\n@toofaced Watermelon Rain\\nNudie lip liner @dominiquecosmetics \\nFlaunt 2 lip liner @hourglasscosmetics \\nLanny lipstick @lunarbeauty X @lauraleelosangeles \\nPeach tea gloss @dominiquecosmetics \\nShooting star highlight @toofaced \\nSkin mist enhancer @lisaeldridgemakeup \\n\\n#nofoundationmakeup #nofoundation #makeup #makeuptutorial #everydaymakeup                                    \n",
       "  comments likes created_at location\n",
       "1 268      16382 1709326758         \n",
       "2 138      9267  1709241048         \n",
       "3 1089     10100 1709154707         \n",
       "4 271      6943  1709065322         \n",
       "5 145      17158 1708718486         \n",
       "6 143      9683  1708546185         \n",
       "  imageUrl                                                                                                                                                                                                                                                                                                                             \n",
       "1 https://instagram.flba2-1.fna.fbcdn.net/v/t39.30808-6/430974774_18418670632031642_5697489775672449864_n.jpg?stp=dst-jpg_e35_p1080x1080_sh0.08&_nc_ht=instagram.flba2-1.fna.fbcdn.net&_nc_cat=102&_nc_ohc=nYbyc3bq0TUAX8IOwlm&edm=AOQ1c0wAAAAA&ccb=7-5&oh=00_AfARXlvLAt1ALtcbKPME-_PopUpz0RCCr5Ga0_Ag3H7mvw&oe=65E871E6&_nc_sid=8b3546\n",
       "2 https://instagram.flba2-1.fna.fbcdn.net/v/t51.2885-15/430476546_377253591918347_6302610600098341121_n.jpg?stp=dst-jpg_e15&_nc_ht=instagram.flba2-1.fna.fbcdn.net&_nc_cat=111&_nc_ohc=2S1Jd8tJS24AX_C-vSA&edm=AOQ1c0wBAAAA&ccb=7-5&oh=00_AfCWntEuRxNPKxDgBM10kr-gfRDebiMoOpsIiFwRbMnjGg&oe=65E55F07&_nc_sid=8b3546                    \n",
       "3 https://instagram.flba2-1.fna.fbcdn.net/v/t51.2885-15/430195796_1090020002251078_273021475404128574_n.jpg?stp=dst-jpg_e15&_nc_ht=instagram.flba2-1.fna.fbcdn.net&_nc_cat=110&_nc_ohc=xiy-Uv41l9wAX_VapE8&edm=AOQ1c0wBAAAA&ccb=7-5&oh=00_AfDypfw9w0--H5YcJYq7rD78-2LR0GeUDm7l_cgs1yZCUw&oe=65E55DEA&_nc_sid=8b3546                    \n",
       "4 https://instagram.flba2-1.fna.fbcdn.net/v/t51.2885-15/430234461_2511216325719852_6044708940416132323_n.jpg?stp=dst-jpg_e15&_nc_ht=instagram.flba2-1.fna.fbcdn.net&_nc_cat=100&_nc_ohc=mz1fe9L6CJIAX98OBla&edm=AOQ1c0wBAAAA&ccb=7-5&oh=00_AfDzY4lTHx5B0vWQB8MN3WncDHSoAbrLDl-al_xaHU97_Q&oe=65E564A6&_nc_sid=8b3546                   \n",
       "5 https://instagram.flba2-1.fna.fbcdn.net/v/t51.2885-15/429323592_377089618501769_449776109189645104_n.jpg?stp=dst-jpg_e15&_nc_ht=instagram.flba2-1.fna.fbcdn.net&_nc_cat=105&_nc_ohc=tzBki6TmwvIAX8muR2z&edm=AOQ1c0wBAAAA&ccb=7-5&oh=00_AfBdZL3B7j_b1fXmKk6tK9Yv-MB_5kltDXIQxDutVEaCAw&oe=65E5070B&_nc_sid=8b3546                     \n",
       "6 https://instagram.flba2-1.fna.fbcdn.net/v/t51.2885-15/429446159_755569773124491_1258377146530980146_n.jpg?stp=dst-jpg_e15&_nc_ht=instagram.flba2-1.fna.fbcdn.net&_nc_cat=103&_nc_ohc=GAp7_i_sWT8AX-rrbNX&edm=AOQ1c0wBAAAA&ccb=7-5&oh=00_AfCEkZrxSBsFphw5eWSCTheTpDLZageJ_ZIVBP3oxkjKZg&oe=65E59D33&_nc_sid=8b3546                    \n",
       "  multiple_images username          followers following\n",
       "1 True            christendominique 2144626   1021     \n",
       "2 False           christendominique 2144626   1021     \n",
       "3 False           christendominique 2144626   1021     \n",
       "4 False           christendominique 2144626   1021     \n",
       "5 False           christendominique 2144626   1021     \n",
       "6 False           christendominique 2144626   1021     "
      ]
     },
     "metadata": {},
     "output_type": "display_data"
    }
   ],
   "source": [
    "head(data)"
   ]
  },
  {
   "cell_type": "code",
   "execution_count": 25,
   "id": "31a70467-66b0-4c41-af51-236ea1f4e4d9",
   "metadata": {},
   "outputs": [
    {
     "data": {
      "text/plain": [
       "   owner_id         owner_username      shortcode           is_video        \n",
       " Length:11692       Length:11692       Length:11692       Length:11692      \n",
       " Class :character   Class :character   Class :character   Class :character  \n",
       " Mode  :character   Mode  :character   Mode  :character   Mode  :character  \n",
       "                                                                            \n",
       "                                                                            \n",
       "                                                                            \n",
       "                                                                            \n",
       "   caption            comments            likes             created_at       \n",
       " Length:11692       Length:11692       Length:11692       Min.   :1.316e+09  \n",
       " Class :character   Class :character   Class :character   1st Qu.:1.689e+09  \n",
       " Mode  :character   Mode  :character   Mode  :character   Median :1.706e+09  \n",
       "                                                          Mean   :1.682e+09  \n",
       "                                                          3rd Qu.:1.709e+09  \n",
       "                                                          Max.   :1.710e+09  \n",
       "                                                          NA's   :3          \n",
       "   location           imageUrl         multiple_images      username        \n",
       " Length:11692       Length:11692       Length:11692       Length:11692      \n",
       " Class :character   Class :character   Class :character   Class :character  \n",
       " Mode  :character   Mode  :character   Mode  :character   Mode  :character  \n",
       "                                                                            \n",
       "                                                                            \n",
       "                                                                            \n",
       "                                                                            \n",
       "   followers           following      \n",
       " Min.   :        1   Min.   :      0  \n",
       " 1st Qu.:   210485   1st Qu.:    294  \n",
       " Median :   521749   Median :    685  \n",
       " Mean   :  2460785   Mean   :   4933  \n",
       " 3rd Qu.:  1337823   3rd Qu.:   1167  \n",
       " Max.   :429831091   Max.   :1568394  \n",
       " NA's   :2115        NA's   :2115     "
      ]
     },
     "metadata": {},
     "output_type": "display_data"
    }
   ],
   "source": [
    "summary(data)"
   ]
  },
  {
   "cell_type": "markdown",
   "id": "56737aee-1a2d-4ce1-ae18-eb721d8775a0",
   "metadata": {},
   "source": [
    "## 3. Handling Missing Values"
   ]
  },
  {
   "cell_type": "code",
   "execution_count": 26,
   "id": "d60945be-6bc8-46a2-b135-d5ac3df64552",
   "metadata": {},
   "outputs": [],
   "source": [
    "missing_values <- is.na(data)"
   ]
  },
  {
   "cell_type": "code",
   "execution_count": 27,
   "id": "2d7b410e-6136-47d6-9b42-d35029abeca9",
   "metadata": {},
   "outputs": [],
   "source": [
    "missing_counts <- colSums(missing_values)"
   ]
  },
  {
   "cell_type": "code",
   "execution_count": 28,
   "id": "be315c71-1891-4912-b50e-a8bd392f4163",
   "metadata": {},
   "outputs": [
    {
     "data": {
      "text/html": [
       "<style>\n",
       ".dl-inline {width: auto; margin:0; padding: 0}\n",
       ".dl-inline>dt, .dl-inline>dd {float: none; width: auto; display: inline-block}\n",
       ".dl-inline>dt::after {content: \":\\0020\"; padding-right: .5ex}\n",
       ".dl-inline>dt:not(:first-of-type) {padding-left: .5ex}\n",
       "</style><dl class=dl-inline><dt>owner_id</dt><dd>0</dd><dt>owner_username</dt><dd>0</dd><dt>shortcode</dt><dd>0</dd><dt>is_video</dt><dd>0</dd><dt>caption</dt><dd>0</dd><dt>comments</dt><dd>0</dd></dl>\n"
      ],
      "text/latex": [
       "\\begin{description*}\n",
       "\\item[owner\\textbackslash{}\\_id] 0\n",
       "\\item[owner\\textbackslash{}\\_username] 0\n",
       "\\item[shortcode] 0\n",
       "\\item[is\\textbackslash{}\\_video] 0\n",
       "\\item[caption] 0\n",
       "\\item[comments] 0\n",
       "\\end{description*}\n"
      ],
      "text/markdown": [
       "owner_id\n",
       ":   0owner_username\n",
       ":   0shortcode\n",
       ":   0is_video\n",
       ":   0caption\n",
       ":   0comments\n",
       ":   0\n",
       "\n"
      ],
      "text/plain": [
       "      owner_id owner_username      shortcode       is_video        caption \n",
       "             0              0              0              0              0 \n",
       "      comments \n",
       "             0 "
      ]
     },
     "metadata": {},
     "output_type": "display_data"
    }
   ],
   "source": [
    "head(missing_counts)"
   ]
  },
  {
   "cell_type": "code",
   "execution_count": 29,
   "id": "24621371-c040-4bdd-b1aa-a73fde50b6e6",
   "metadata": {},
   "outputs": [
    {
     "name": "stdout",
     "output_type": "stream",
     "text": [
      "       owner_id  owner_username       shortcode        is_video         caption \n",
      "              0               2               2               2             161 \n",
      "       comments           likes        location        imageUrl multiple_images \n",
      "              2               2            7169               3               3 \n",
      "       username \n",
      "           2115 \n"
     ]
    }
   ],
   "source": [
    "character_columns <- sapply(data, is.character)\n",
    "missing_values <- sapply(data[character_columns], function(x) sum(is.na(x) | x == \"\"))\n",
    "print(missing_values)"
   ]
  },
  {
   "cell_type": "code",
   "execution_count": 200,
   "id": "6ec76685-b5df-48b2-b6ae-eecd4c60ddf6",
   "metadata": {},
   "outputs": [],
   "source": [
    "## eliminación de filas vacías"
   ]
  },
  {
   "cell_type": "code",
   "execution_count": 30,
   "id": "8e1fd7f7-c0fd-4883-9b0f-8f8fe8ec86da",
   "metadata": {},
   "outputs": [
    {
     "name": "stdout",
     "output_type": "stream",
     "text": [
      "            owner_id owner_username shortcode is_video caption comments likes\n",
      "11661        =======                                                         \n",
      "11692 >>>>>>> origin                                                         \n",
      "      created_at location imageUrl multiple_images username followers following\n",
      "11661         NA                                                   NA        NA\n",
      "11692         NA                                                   NA        NA\n"
     ]
    }
   ],
   "source": [
    "column_name <- \"owner_username\"\n",
    "rows_with_empty_values <- data[data[[column_name]] == \"\", ]\n",
    "print(rows_with_empty_values)"
   ]
  },
  {
   "cell_type": "code",
   "execution_count": 31,
   "id": "f07a6569-622d-4c0f-a392-a7ae0c02eb0a",
   "metadata": {},
   "outputs": [],
   "source": [
    "rows_to_delete <- c(11661, 11692)\n",
    "clean_data <- data[-rows_to_delete, ]"
   ]
  },
  {
   "cell_type": "code",
   "execution_count": 32,
   "id": "0603bba7-468d-49a7-8b85-eb042b61691e",
   "metadata": {},
   "outputs": [
    {
     "name": "stdout",
     "output_type": "stream",
     "text": [
      "       owner_id  owner_username       shortcode        is_video         caption \n",
      "              0               0               0               0             159 \n",
      "       comments           likes        location        imageUrl multiple_images \n",
      "              0               0            7167               1               1 \n",
      "       username \n",
      "           2113 \n"
     ]
    }
   ],
   "source": [
    "character_columns <- sapply(clean_data, is.character)\n",
    "missing_values <- sapply(clean_data[character_columns], function(x) sum(is.na(x) | x == \"\"))\n",
    "print(missing_values)"
   ]
  },
  {
   "cell_type": "code",
   "execution_count": 201,
   "id": "33e8a9b6-56f9-4840-a3b6-3cff975174fd",
   "metadata": {},
   "outputs": [],
   "source": [
    "##eliminación de columna \"imageUrl\""
   ]
  },
  {
   "cell_type": "code",
   "execution_count": 33,
   "id": "5e706f00-809e-4a3e-bc70-319e42909ee3",
   "metadata": {},
   "outputs": [
    {
     "name": "stdout",
     "output_type": "stream",
     "text": [
      "                        owner_id owner_username shortcode   is_video\n",
      "11662 ðŸ“¸ @itslitt_photography\"             37      2683 1707433865\n",
      "                                                                                   caption\n",
      "11662 {'id': '8627549', 'has_public_page': True, 'name': 'Temple SF', 'slug': 'temple-sf'}\n",
      "                                                                                                                                                                                                                                                                                                                                   comments\n",
      "11662 https://instagram.flba2-1.fna.fbcdn.net/v/t39.30808-6/426157323_18413778982028583_6822104549103946081_n.jpg?stp=dst-jpg_e35_p1080x1080_sh0.08&_nc_ht=instagram.flba2-1.fna.fbcdn.net&_nc_cat=103&_nc_ohc=Tqn0rDabusMAX_jr1vL&edm=AOQ1c0wAAAAA&ccb=7-5&oh=00_AfA-azX_fhSycJkLG9WF4EFUXH3KIxU2sgBdmsHJgWJlHw&oe=65E8CA52&_nc_sid=8b3546\n",
      "      likes created_at location imageUrl multiple_images username followers\n",
      "11662  True         NA                                                   NA\n",
      "      following\n",
      "11662        NA\n"
     ]
    }
   ],
   "source": [
    "column_name2 <- \"imageUrl\"\n",
    "rows_with_empty_values2 <- clean_data[clean_data[[column_name2]] == \"\", ]\n",
    "print(rows_with_empty_values2)"
   ]
  },
  {
   "cell_type": "code",
   "execution_count": 202,
   "id": "24957b0f-55a5-4f21-9af3-3e28276a7451",
   "metadata": {},
   "outputs": [],
   "source": [
    "## eliminación columnas vacías"
   ]
  },
  {
   "cell_type": "code",
   "execution_count": 34,
   "id": "e3d062a8-e27a-4f82-91c8-55dcb055123e",
   "metadata": {},
   "outputs": [],
   "source": [
    "row_to_delete2 <- 11662\n",
    "clean_data2 <- clean_data[-row_to_delete2, ]"
   ]
  },
  {
   "cell_type": "code",
   "execution_count": 35,
   "id": "71acb48c-f329-483b-9bf4-d2a956b296eb",
   "metadata": {},
   "outputs": [],
   "source": [
    "row_to_delete2 <- 11661\n",
    "clean_data2 <- clean_data[-row_to_delete2, ]"
   ]
  },
  {
   "cell_type": "code",
   "execution_count": 36,
   "id": "9a5532b7-b9bf-4203-82e8-987baca7028a",
   "metadata": {},
   "outputs": [],
   "source": [
    "clean_data <- clean_data2"
   ]
  },
  {
   "cell_type": "code",
   "execution_count": 37,
   "id": "edee462b-6fac-4f56-b5ef-ede1191fbdc7",
   "metadata": {},
   "outputs": [],
   "source": [
    "rm(clean_data2)"
   ]
  },
  {
   "cell_type": "code",
   "execution_count": 38,
   "id": "22eb5c23-94b3-4c62-936d-0a02810d5d46",
   "metadata": {},
   "outputs": [],
   "source": [
    "rm(row_to_delete2)"
   ]
  },
  {
   "cell_type": "code",
   "execution_count": 39,
   "id": "77bbd163-5ca3-4a45-b40c-c839e6651784",
   "metadata": {},
   "outputs": [
    {
     "name": "stdout",
     "output_type": "stream",
     "text": [
      "'data.frame':\t11689 obs. of  14 variables:\n",
      " $ owner_id       : chr  \"36063641\" \"36063641\" \"36063641\" \"36063641\" ...\n",
      " $ owner_username : chr  \"christendominique\" \"christendominique\" \"christendominique\" \"christendominique\" ...\n",
      " $ shortcode      : chr  \"C3_GS1ASeWI\" \"C38ivgNS3IX\" \"C35-Dd9SO1b\" \"C33TadDMisq\" ...\n",
      " $ is_video       : chr  \"False\" \"True\" \"True\" \"True\" ...\n",
      " $ caption        : chr  \"Iâ\\200\\231m a brunch & Iced Coffee girlieâ\\230•ï¸\\217ðŸ\\215³ \\n\\nTop @ta3 X @nazaninkavari \\n\\nhbu?\" \"ðŸ\\230®â\\200\\215ðŸ’¨Brow tips I really wish I would have know when I first started makeupðŸ«£ðŸ\\231„\\n\\nBrow Fr\"| __truncated__ \"OMG I canâ\\200\\231t believe itâ\\200\\231s already been 1 yr since launching my collab brush collection with @sig\"| __truncated__ \"90â\\200\\231s Glam was Pam! \\n\\nMakeup \\n@smashboxcosmetics OG Primer @ultabeauty \\nAlways on Foundation, Cover \"| __truncated__ ...\n",
      " $ comments       : chr  \"268\" \"138\" \"1089\" \"271\" ...\n",
      " $ likes          : chr  \"16382\" \"9267\" \"10100\" \"6943\" ...\n",
      " $ created_at     : num  1.71e+09 1.71e+09 1.71e+09 1.71e+09 1.71e+09 ...\n",
      " $ location       : chr  \"\" \"\" \"\" \"\" ...\n",
      " $ imageUrl       : chr  \"https://instagram.flba2-1.fna.fbcdn.net/v/t39.30808-6/430974774_18418670632031642_5697489775672449864_n.jpg?stp\"| __truncated__ \"https://instagram.flba2-1.fna.fbcdn.net/v/t51.2885-15/430476546_377253591918347_6302610600098341121_n.jpg?stp=d\"| __truncated__ \"https://instagram.flba2-1.fna.fbcdn.net/v/t51.2885-15/430195796_1090020002251078_273021475404128574_n.jpg?stp=d\"| __truncated__ \"https://instagram.flba2-1.fna.fbcdn.net/v/t51.2885-15/430234461_2511216325719852_6044708940416132323_n.jpg?stp=\"| __truncated__ ...\n",
      " $ multiple_images: chr  \"True\" \"False\" \"False\" \"False\" ...\n",
      " $ username       : chr  \"christendominique\" \"christendominique\" \"christendominique\" \"christendominique\" ...\n",
      " $ followers      : num  2144626 2144626 2144626 2144626 2144626 ...\n",
      " $ following      : num  1021 1021 1021 1021 1021 ...\n"
     ]
    }
   ],
   "source": [
    "str(clean_data)"
   ]
  },
  {
   "cell_type": "code",
   "execution_count": 40,
   "id": "0a4ce9e5-8773-481b-b9f3-7db7daaf7dcd",
   "metadata": {},
   "outputs": [],
   "source": [
    "clean_data$comments <- as.numeric(clean_data$comments)\n",
    "clean_data$likes <- as.numeric(clean_data$likes)"
   ]
  },
  {
   "cell_type": "code",
   "execution_count": 41,
   "id": "08e085ca-6fb8-4428-979c-55d9dcc3f454",
   "metadata": {},
   "outputs": [
    {
     "data": {
      "text/plain": [
       "   owner_id         owner_username      shortcode           is_video        \n",
       " Length:11689       Length:11689       Length:11689       Length:11689      \n",
       " Class :character   Class :character   Class :character   Class :character  \n",
       " Mode  :character   Mode  :character   Mode  :character   Mode  :character  \n",
       "                                                                            \n",
       "                                                                            \n",
       "                                                                            \n",
       "                                                                            \n",
       "   caption             comments            likes            created_at       \n",
       " Length:11689       Min.   :     0.0   Min.   :       0   Min.   :1.316e+09  \n",
       " Class :character   1st Qu.:    11.0   1st Qu.:     583   1st Qu.:1.689e+09  \n",
       " Mode  :character   Median :    39.0   Median :    2250   Median :1.706e+09  \n",
       "                    Mean   :   415.8   Mean   :   32110   Mean   :1.682e+09  \n",
       "                    3rd Qu.:   129.0   3rd Qu.:    9381   3rd Qu.:1.709e+09  \n",
       "                    Max.   :122771.0   Max.   :12685879   Max.   :1.710e+09  \n",
       "                                                                             \n",
       "   location           imageUrl         multiple_images      username        \n",
       " Length:11689       Length:11689       Length:11689       Length:11689      \n",
       " Class :character   Class :character   Class :character   Class :character  \n",
       " Mode  :character   Mode  :character   Mode  :character   Mode  :character  \n",
       "                                                                            \n",
       "                                                                            \n",
       "                                                                            \n",
       "                                                                            \n",
       "   followers           following      \n",
       " Min.   :        1   Min.   :      0  \n",
       " 1st Qu.:   210485   1st Qu.:    294  \n",
       " Median :   521749   Median :    685  \n",
       " Mean   :  2460785   Mean   :   4933  \n",
       " 3rd Qu.:  1337823   3rd Qu.:   1167  \n",
       " Max.   :429831091   Max.   :1568394  \n",
       " NA's   :2112        NA's   :2112     "
      ]
     },
     "metadata": {},
     "output_type": "display_data"
    }
   ],
   "source": [
    "summary(clean_data)"
   ]
  },
  {
   "cell_type": "code",
   "execution_count": 42,
   "id": "d6c241aa-a06e-4a0a-bfd6-4ba95675f954",
   "metadata": {},
   "outputs": [
    {
     "name": "stdout",
     "output_type": "stream",
     "text": [
      "      owner_id owner_username   shortcode is_video\n",
      "2219 460563723    selenagomez C3tZfutvw22     True\n",
      "2220 460563723    selenagomez C3q1S8xPd0U    False\n",
      "2221 460563723    selenagomez C3qtNhlP5mP     True\n",
      "2222 460563723    selenagomez C3ntQL0v1Qw     True\n",
      "2223 460563723    selenagomez C3lMn2Pv045    False\n",
      "2224 460563723    selenagomez C3hNjg6N2Hh    False\n",
      "2225 460563723    selenagomez C3YDG0sJ16Z    False\n",
      "2226 460563723    selenagomez C3VlP9nRQgQ    False\n",
      "2227 460563723    selenagomez C3RBdCJPpCe    False\n",
      "2228 460563723    selenagomez C3InQ3MpZ6m     True\n",
      "2229 460563723    selenagomez C2oapE8LkA3    False\n",
      "2230 460563723    selenagomez C13MPLExGl1    False\n",
      "4628 253625977            433 C4EeQKeNjSV     True\n",
      "4629 253625977            433 C4EaMd3N2Rh    False\n",
      "4630 253625977            433 C4EXALBtuXA    False\n",
      "                                                                                                                                                                                                                                                                                       caption\n",
      "2219                                                                                                                                                                                                                                                      Youâ\\200\\231re what I wanna love on â\\231¥ï¸\\217\n",
      "2220                                                                                                                                                                                                                                                                                 lOvE On +\n",
      "2221                                                                                                                                                                                                                           Clock in, baby get to workâ\\200¦Â â\\200œLove Onâ\\200\\235 is OUT NOW! â\\231¥ï¸\\217\n",
      "2222                                                                                                                                                                                                                 â\\200œLove Onâ\\200\\235 premieres tomorrow at 3 pm PT/ 6 pm ET/ midnight CET â\\231¥ï¸\\217\n",
      "2223                                                                                                                                                                                Quâ\\200\\231est-ce que je vais te nommer?\\nJe vais te nommer. \\nLâ\\200\\231amour\\nLâ\\200\\231amour tendre.\\n#LoveOn 2.22 â\\231¥ï¸\\217\n",
      "2224                                                                                                                                                                                                                                                    40 hours. Paris. LOVE ON 2/22 ðŸ¤\\215ðŸ”’\n",
      "2225                                                                                                                                                                                                                 Wait â\\200\\230til I turn my love on. Presave my new song â\\200œLove Onâ\\200\\235 out 2.22\n",
      "2226                                                                                                                                                                                                                                          You guys will always be my true Valentine â\\235¤ï¸\\217\n",
      "2227                                                                                                                                                                                                                                                                              My bes fwend\n",
      "2228 SOOâ\\200¦there are two fun things about my @rarebeauty Find Comfort Hydrating Hand Cream you might not know about that I wanted to show you!â\\200‹\\n\\n1. The bottle twists to open so youâ\\200\\231ll never have a rogue hand cream cap in your bag ever again. â\\200‹\\n2. It doubles as a hand massager!\n",
      "2229                                                                                                                                                                                                                                                                                      ðŸŒ\\215\n",
      "2230                                                                                                                    @erinwalshstyle @marissa.marino @tombachik @makeupbymelissam @giorgioarmani @bulgari thank you for such a wonderful evening. Honored to be there in such good company.\n",
      "4628                                                                                                                                                                   Cristiano Ronaldo Jr. lifting the trophy after winning the league with Al Nassrâ\\200\\231s U13 team ðŸ\\230\\201ðŸ\\217†\\n\\nðŸŽ¥ @olyan15k\n",
      "4629                                                                                                                                                                     Porto shake up Liga Portugal with a ð\\235\\231\\210ð\\235\\231Šð\\235\\231‰ð\\235\\231Žð\\235\\231\\217ð\\235\\231\\200ð\\235\\231\\215 ð\\235\\231‘ð\\235\\231„ð\\235\\230¾ð\\235\\231\\217ð\\235\\231Šð\\235\\231\\215ð\\235\\231” in O ClÃ¡ssico ðŸ”µðŸ\\220‰\n",
      "4630                                                                                                                                                                                                                                                            It ends goalless in Bilbao â\\235Œ\n",
      "     comments    likes created_at\n",
      "2219       19  3764323 1708732800\n",
      "2220       23  4140132 1708646757\n",
      "2221       14  3432789 1708642811\n",
      "2222       13  2533684 1708542057\n",
      "2223       18  3702202 1708457661\n",
      "2224       24  9100574 1708323932\n",
      "2225       29  2530001 1708016464\n",
      "2226       17  3946841 1707933701\n",
      "2227       29 12685879 1707780716\n",
      "2228        7  3716310 1707498791\n",
      "2229       19  7813813 1706418190\n",
      "2230       25  8698871 1704766471\n",
      "4628     2949   941259 1709507165\n",
      "4629     2326   461491 1709504964\n",
      "4630     2016   536555 1709503290\n",
      "                                                                                                        location\n",
      "2219                                                                                                            \n",
      "2220                                                                                                            \n",
      "2221                                                                                                            \n",
      "2222                                                                                                            \n",
      "2223                                                                                                            \n",
      "2224                                                                                                            \n",
      "2225                                                                                                            \n",
      "2226                                                                                                            \n",
      "2227                                                                                                            \n",
      "2228                                                                                                            \n",
      "2229                                                                                                            \n",
      "2230                                                                                                            \n",
      "4628 {'id': '213008247', 'has_public_page': True, 'name': 'Riyadh, Saudi Arabia', 'slug': 'riyadh-saudi-arabia'}\n",
      "4629            {'id': '24960421', 'has_public_page': True, 'name': 'Porto, Portugal', 'slug': 'porto-portugal'}\n",
      "4630               {'id': '213957569', 'has_public_page': True, 'name': 'Bilbao, Spain', 'slug': 'bilbao-spain'}\n",
      "                                                                                                                                                                                                                                                                                                                                imageUrl\n",
      "2219                    https://instagram.faep6-2.fna.fbcdn.net/v/t51.2885-15/429331209_3470304336555802_6959774397391987789_n.jpg?stp=dst-jpg_e15&_nc_ht=instagram.faep6-2.fna.fbcdn.net&_nc_cat=1&_nc_ohc=WuSoqB3EdxkAX_eO1U5&edm=AOQ1c0wBAAAA&ccb=7-5&oh=00_AfD7AdocvYj3mZQgVVkNAnNL8tQAh2wto4HbGffq5pxMEg&oe=65E4EAF2&_nc_sid=8b3546\n",
      "2220          https://instagram.faep6-2.fna.fbcdn.net/v/t51.2885-15/429198217_362835453232982_5152359381529926509_n.jpg?stp=dst-jpg_e35_p1080x1080&_nc_ht=instagram.faep6-2.fna.fbcdn.net&_nc_cat=1&_nc_ohc=a5kB3cnwy8UAX_9O_O1&edm=AOQ1c0wBAAAA&ccb=7-5&oh=00_AfDrOPNn1iPphDfOOXgP5PnZ0Xw-xQ4Psx2TKxXm0jsFOg&oe=65E72C51&_nc_sid=8b3546\n",
      "2221                      https://instagram.faep6-2.fna.fbcdn.net/v/t51.2885-15/429354504_718785383726524_994361158389031081_n.jpg?stp=dst-jpg_e15&_nc_ht=instagram.faep6-2.fna.fbcdn.net&_nc_cat=1&_nc_ohc=sXqtl9b60REAX_LMJCo&edm=AOQ1c0wBAAAA&ccb=7-5&oh=00_AfC09Jsd_5TRfix4wBo-esQqRIpnHxKgUqE_T0XF1y0bYQ&oe=65E4E448&_nc_sid=8b3546\n",
      "2222                     https://instagram.faep6-2.fna.fbcdn.net/v/t51.2885-15/429181688_420630923867955_2190793847517236480_n.jpg?stp=dst-jpg_e15&_nc_ht=instagram.faep6-2.fna.fbcdn.net&_nc_cat=1&_nc_ohc=4YvefulCXAUAX_oTsYj&edm=AOQ1c0wBAAAA&ccb=7-5&oh=00_AfCvrGsOTJbwrgMGIRvZ00bIipK7Lutt_kfrWYN9IKOvxA&oe=65E449C1&_nc_sid=8b3546\n",
      "2223          https://instagram.faep6-2.fna.fbcdn.net/v/t51.2885-15/429285785_695839012461061_4680238320737962831_n.jpg?stp=dst-jpg_e35_s1080x1080&_nc_ht=instagram.faep6-2.fna.fbcdn.net&_nc_cat=1&_nc_ohc=JvPuv0c-PJMAX8QyzKI&edm=AOQ1c0wBAAAA&ccb=7-5&oh=00_AfA07d6DNt7MuaPW9BdoP4iotzd4zH_NWHAC6ueKIwVzpA&oe=65E79121&_nc_sid=8b3546\n",
      "2224         https://instagram.faep6-2.fna.fbcdn.net/v/t51.2885-15/428585957_1588288188662774_7159323764779870469_n.jpg?stp=dst-jpg_e35_p1080x1080&_nc_ht=instagram.faep6-2.fna.fbcdn.net&_nc_cat=1&_nc_ohc=ezuVoqX0coMAX8ukH1k&edm=AOQ1c0wBAAAA&ccb=7-5&oh=00_AfAbixVb6O6IIos-PcuGKKPfxnLNkRFRUoI3-ts4b06S-Q&oe=65E8ACAF&_nc_sid=8b3546\n",
      "2225        https://instagram.faep6-2.fna.fbcdn.net/v/t51.2885-15/427377287_25069990462592259_8434952282412786036_n.jpg?stp=dst-jpg_e35_s1080x1080&_nc_ht=instagram.faep6-2.fna.fbcdn.net&_nc_cat=1&_nc_ohc=ftRtPy5ZS0UAX9znpMi&edm=AOQ1c0wBAAAA&ccb=7-5&oh=00_AfBm2wu1SKShVgDcIkAIzVJqQFBaOUptLUYX5eL_y9zAaQ&oe=65E7D70C&_nc_sid=8b3546\n",
      "2226                     https://instagram.faep6-2.fna.fbcdn.net/v/t51.2885-15/427488186_310397952034958_7108635791680892310_n.jpg?stp=dst-jpg_e35&_nc_ht=instagram.faep6-2.fna.fbcdn.net&_nc_cat=1&_nc_ohc=_TfbJSMfLHIAX9x1iis&edm=AOQ1c0wBAAAA&ccb=7-5&oh=00_AfDfR4gHQ1TpBEvHdE8ssNFyOrbT79MzjW2Em3QILSbq5g&oe=65E80409&_nc_sid=8b3546\n",
      "2227          https://instagram.faep6-2.fna.fbcdn.net/v/t51.2885-15/426586838_820644003200704_9157872000929372387_n.jpg?stp=dst-jpg_e35_p1080x1080&_nc_ht=instagram.faep6-2.fna.fbcdn.net&_nc_cat=1&_nc_ohc=Dh5AJm_X5dsAX-OrH-Y&edm=AOQ1c0wBAAAA&ccb=7-5&oh=00_AfDMftcWycFm0Ziphn84IDOdByjda1BB0vq4GtxNUAy1iw&oe=65E7CD52&_nc_sid=8b3546\n",
      "2228                     https://instagram.faep6-2.fna.fbcdn.net/v/t51.2885-15/427246193_412455347840399_5924913558072528757_n.jpg?stp=dst-jpg_e15&_nc_ht=instagram.faep6-2.fna.fbcdn.net&_nc_cat=1&_nc_ohc=nb0Mp5YrYo0AX_ouR9R&edm=AOQ1c0wBAAAA&ccb=7-5&oh=00_AfBG15yglzf0kr3WdtqPH6nWUkZ8KwzjpmD1LCB_xIZ7WQ&oe=65E4C1C1&_nc_sid=8b3546\n",
      "2229          https://instagram.faep6-2.fna.fbcdn.net/v/t51.2885-15/422509397_961699962140357_7117641334978629040_n.jpg?stp=dst-jpg_e35_s1080x1080&_nc_ht=instagram.faep6-2.fna.fbcdn.net&_nc_cat=1&_nc_ohc=5GOXIWV7Ma8AX_RZBPB&edm=AOQ1c0wBAAAA&ccb=7-5&oh=00_AfBikroCUHOcXa-zlwUNgWR3IV-IR0_zR5h6_8a7u60bUQ&oe=65E8DE1D&_nc_sid=8b3546\n",
      "2230         https://instagram.faep6-2.fna.fbcdn.net/v/t51.2885-15/417946424_1676473239543585_4625510388793204155_n.jpg?stp=dst-jpg_e35_p1080x1080&_nc_ht=instagram.faep6-2.fna.fbcdn.net&_nc_cat=1&_nc_ohc=YJVeOXWSulUAX-3Z_Qj&edm=AOQ1c0wBAAAA&ccb=7-5&oh=00_AfD-5PnyMVO0hnYk-on209X_6dA4vI7b7kURDmn1Q4lYfw&oe=65E89B15&_nc_sid=8b3546\n",
      "4628                     https://instagram.flba2-1.fna.fbcdn.net/v/t51.2885-15/431262143_367129262952183_1699467772290431925_n.jpg?stp=dst-jpg_e15&_nc_ht=instagram.flba2-1.fna.fbcdn.net&_nc_cat=1&_nc_ohc=Y027AKtxh7QAX80OBmy&edm=AOQ1c0wBAAAA&ccb=7-5&oh=00_AfDd7eKxsydpxgWERLZAGhJe3BbPn5GGZv24tbcCUVrqnQ&oe=65E6D287&_nc_sid=8b3546\n",
      "4629 https://instagram.flba2-1.fna.fbcdn.net/v/t39.30808-6/430673519_18504804481057978_6715274925165318083_n.jpg?stp=dst-jpg_e35_p1080x1080_sh0.08&_nc_ht=instagram.flba2-1.fna.fbcdn.net&_nc_cat=1&_nc_ohc=5LSlBXv7yAMAX-7sszJ&edm=AOQ1c0wAAAAA&ccb=7-5&oh=00_AfAjuSXDMD75JGPmgmhjoGu1T6Vx_U_UsHd5SmDMJEcwMw&oe=65EA9B6F&_nc_sid=8b3546\n",
      "4630 https://instagram.flba2-1.fna.fbcdn.net/v/t39.30808-6/429978180_18504801214057978_5826387401153453970_n.jpg?stp=dst-jpg_e35_p1080x1080_sh0.08&_nc_ht=instagram.flba2-1.fna.fbcdn.net&_nc_cat=1&_nc_ohc=DTfvu8hpa1IAX_fWlix&edm=AOQ1c0wAAAAA&ccb=7-5&oh=00_AfDxLMW8oVcVfQZEiagCPOvAemg3DpEICfGoUXnSbO5zhA&oe=65EAF242&_nc_sid=8b3546\n",
      "     multiple_images    username followers following\n",
      "2219           False selenagomez 429831091       291\n",
      "2220            True selenagomez 429831091       291\n",
      "2221           False selenagomez 429831091       291\n",
      "2222           False selenagomez 429831091       291\n",
      "2223            True selenagomez 429831091       291\n",
      "2224            True selenagomez 429831091       291\n",
      "2225           False selenagomez 429831091       291\n",
      "2226            True selenagomez 429831091       291\n",
      "2227            True selenagomez 429831091       291\n",
      "2228           False selenagomez 429831091       291\n",
      "2229            True selenagomez 429831091       291\n",
      "2230            True selenagomez 429831091       291\n",
      "4628           False         433  71807503      3258\n",
      "4629            True         433  71807503      3258\n",
      "4630            True         433  71807503      3258\n"
     ]
    }
   ],
   "source": [
    "clean_data_sorted <- clean_data[order(-clean_data$followers), ]\n",
    "print(head(clean_data_sorted,15))"
   ]
  },
  {
   "cell_type": "code",
   "execution_count": 43,
   "id": "1b7c0694-8687-4adf-9406-e9517285b4dc",
   "metadata": {},
   "outputs": [],
   "source": [
    "clean_data$created_at <- as.POSIXct(clean_data$created_at, origin = \"1970-01-01\", tz=\"UTC\")"
   ]
  },
  {
   "cell_type": "code",
   "execution_count": 44,
   "id": "ed2e5c66-cb5f-44a0-81c1-71d20aea89b3",
   "metadata": {},
   "outputs": [
    {
     "data": {
      "text/plain": [
       "   owner_id         owner_username      shortcode           is_video        \n",
       " Length:11689       Length:11689       Length:11689       Length:11689      \n",
       " Class :character   Class :character   Class :character   Class :character  \n",
       " Mode  :character   Mode  :character   Mode  :character   Mode  :character  \n",
       "                                                                            \n",
       "                                                                            \n",
       "                                                                            \n",
       "                                                                            \n",
       "   caption             comments            likes         \n",
       " Length:11689       Min.   :     0.0   Min.   :       0  \n",
       " Class :character   1st Qu.:    11.0   1st Qu.:     583  \n",
       " Mode  :character   Median :    39.0   Median :    2250  \n",
       "                    Mean   :   415.8   Mean   :   32110  \n",
       "                    3rd Qu.:   129.0   3rd Qu.:    9381  \n",
       "                    Max.   :122771.0   Max.   :12685879  \n",
       "                                                         \n",
       "   created_at                    location           imageUrl        \n",
       " Min.   :2011-09-10 19:00:45   Length:11689       Length:11689      \n",
       " 1st Qu.:2023-07-11 20:07:35   Class :character   Class :character  \n",
       " Median :2024-01-24 04:07:56   Mode  :character   Mode  :character  \n",
       " Mean   :2023-04-25 09:44:33                                        \n",
       " 3rd Qu.:2024-02-22 10:10:01                                        \n",
       " Max.   :2024-03-04 06:47:46                                        \n",
       "                                                                    \n",
       " multiple_images      username           followers           following      \n",
       " Length:11689       Length:11689       Min.   :        1   Min.   :      0  \n",
       " Class :character   Class :character   1st Qu.:   210485   1st Qu.:    294  \n",
       " Mode  :character   Mode  :character   Median :   521749   Median :    685  \n",
       "                                       Mean   :  2460785   Mean   :   4933  \n",
       "                                       3rd Qu.:  1337823   3rd Qu.:   1167  \n",
       "                                       Max.   :429831091   Max.   :1568394  \n",
       "                                       NA's   :2112        NA's   :2112     "
      ]
     },
     "metadata": {},
     "output_type": "display_data"
    }
   ],
   "source": [
    "summary(clean_data)"
   ]
  },
  {
   "cell_type": "markdown",
   "id": "6fc89bef-bdbb-4172-b4b4-9eb349e03da1",
   "metadata": {},
   "source": [
    "## 4. Descriptive Statistics and Visualizations"
   ]
  },
  {
   "cell_type": "code",
   "execution_count": 45,
   "id": "3e10d72f-45d3-4528-acb6-e13e885e1738",
   "metadata": {},
   "outputs": [
    {
     "data": {
      "image/png": "[encoded data removed]",
      "text/plain": [
       "plot without title"
      ]
     },
     "metadata": {
      "image/png": {
       "height": 420,
       "width": 420
      }
     },
     "output_type": "display_data"
    }
   ],
   "source": [
    "##boxplot likes\n",
    "ggplot(clean_data, aes(x = likes)) +\n",
    "  geom_histogram(binwidth = 1000000, fill = \"skyblue\", color = \"black\") +\n",
    "  labs(title = \"Distribution of Likes\",\n",
    "       x = \"Number of Likes\",\n",
    "       y = \"Frequency\")"
   ]
  },
  {
   "cell_type": "code",
   "execution_count": 203,
   "id": "cbc936cf-0221-4861-b1ab-5fb40b66db65",
   "metadata": {},
   "outputs": [],
   "source": [
    "## se observa que la cantidad de likes están concentradas en una pequeña franja"
   ]
  },
  {
   "cell_type": "code",
   "execution_count": 48,
   "id": "bd0a8319-9851-43a0-bbfd-372102269974",
   "metadata": {},
   "outputs": [
    {
     "name": "stderr",
     "output_type": "stream",
     "text": [
      "Warning message:\n",
      "\"\u001b[1m\u001b[22mTransformation introduced infinite values in continuous x-axis\"\n",
      "Warning message:\n",
      "\"\u001b[1m\u001b[22mRemoved 40 rows containing non-finite values (`stat_bin()`).\"\n"
     ]
    },
    {
     "data": {
      "image/png": "[encoded data removed]",
      "text/plain": [
       "plot without title"
      ]
     },
     "metadata": {
      "image/png": {
       "height": 420,
       "width": 420
      }
     },
     "output_type": "display_data"
    }
   ],
   "source": [
    "ggplot(clean_data, aes(x = likes)) +\n",
    "  geom_histogram(binwidth = 0.1, fill = \"skyblue\", color = \"black\") +\n",
    "  scale_x_continuous(trans = \"log10\", breaks = trans_breaks(\"log10\", function(x) 10^x),\n",
    "                     labels = scales::comma) +\n",
    "  labs(title = \"Distribution of Likes (Log Scale)\",\n",
    "       x = \"Number of Likes (Log Scale)\",\n",
    "       y = \"Frequency\")"
   ]
  },
  {
   "cell_type": "code",
   "execution_count": 204,
   "id": "cb0a9fb6-e75c-4e3f-9e81-2162787d7ed1",
   "metadata": {},
   "outputs": [],
   "source": [
    "## con una transformación logarítmica vemos una distibución más normal"
   ]
  },
  {
   "cell_type": "code",
   "execution_count": 49,
   "id": "9a753ce7-f594-4eca-8007-ddd375527b27",
   "metadata": {},
   "outputs": [],
   "source": [
    "cutoff <- quantile(clean_data$likes, 0.90)"
   ]
  },
  {
   "cell_type": "code",
   "execution_count": 50,
   "id": "f83303f4-0c23-4f50-ac67-52b9c62d94e2",
   "metadata": {},
   "outputs": [],
   "source": [
    "# Filter the data to exclude extreme values\n",
    "clean_data_filtered <- clean_data[clean_data$likes <= cutoff, ]"
   ]
  },
  {
   "cell_type": "code",
   "execution_count": 51,
   "id": "85bfa980-2b4a-437a-95ca-2bd48d0e6d45",
   "metadata": {},
   "outputs": [
    {
     "data": {
      "image/png": "[encoded data removed]",
      "text/plain": [
       "plot without title"
      ]
     },
     "metadata": {
      "image/png": {
       "height": 420,
       "width": 420
      }
     },
     "output_type": "display_data"
    }
   ],
   "source": [
    "# Create a boxplot of the filtered data\n",
    "ggplot(clean_data_filtered, aes(x = \"\", y = likes)) +\n",
    "  geom_boxplot() +\n",
    "  labs(title = \"Boxplot of Likes (Excluding Extreme Values)\",\n",
    "       x = \"\",\n",
    "       y = \"Likes\")"
   ]
  },
  {
   "cell_type": "code",
   "execution_count": 52,
   "id": "4d196194-4304-47ca-aa88-e994ff5de5b9",
   "metadata": {},
   "outputs": [
    {
     "data": {
      "image/png": "[encoded data removed]",
      "text/plain": [
       "plot without title"
      ]
     },
     "metadata": {
      "image/png": {
       "height": 420,
       "width": 420
      }
     },
     "output_type": "display_data"
    }
   ],
   "source": [
    "# Create a density plot of the likes variable\n",
    "ggplot(clean_data, aes(x = likes)) +\n",
    "  geom_density(fill = \"skyblue\", color = \"blue\") +\n",
    "  labs(title = \"Density Plot of Likes\",\n",
    "       x = \"Likes\",\n",
    "       y = \"Density\")"
   ]
  },
  {
   "cell_type": "code",
   "execution_count": 53,
   "id": "481ddf53-e8db-4fa0-b1ae-3649a852a494",
   "metadata": {},
   "outputs": [],
   "source": [
    "# Apply logarithmic transformation to the likes variable\n",
    "clean_data$log_likes <- log(clean_data$likes)"
   ]
  },
  {
   "cell_type": "code",
   "execution_count": 54,
   "id": "6a74b424-d1f8-49a5-a661-ec2c8239afe9",
   "metadata": {},
   "outputs": [
    {
     "name": "stderr",
     "output_type": "stream",
     "text": [
      "Warning message:\n",
      "\"\u001b[1m\u001b[22mRemoved 40 rows containing non-finite values (`stat_boxplot()`).\"\n"
     ]
    },
    {
     "data": {
      "image/png": "[encoded data removed]",
      "text/plain": [
       "plot without title"
      ]
     },
     "metadata": {
      "image/png": {
       "height": 420,
       "width": 420
      }
     },
     "output_type": "display_data"
    }
   ],
   "source": [
    "# Create a boxplot of the transformed variable\n",
    "ggplot(clean_data, aes(x = \"\", y = log_likes)) +\n",
    "  geom_boxplot() +\n",
    "  labs(title = \"Boxplot of Log-transformed Likes\",\n",
    "       x = \"\",\n",
    "       y = \"Log-transformed Likes\")"
   ]
  },
  {
   "cell_type": "code",
   "execution_count": 55,
   "id": "ce12026e-5e80-444b-a12f-5dbf6b978d2e",
   "metadata": {},
   "outputs": [
    {
     "name": "stderr",
     "output_type": "stream",
     "text": [
      "Warning message:\n",
      "\"\u001b[1m\u001b[22mRemoved 40 rows containing non-finite values (`stat_density()`).\"\n"
     ]
    },
    {
     "data": {
      "image/png": "[encoded data removed]",
      "text/plain": [
       "plot without title"
      ]
     },
     "metadata": {
      "image/png": {
       "height": 420,
       "width": 420
      }
     },
     "output_type": "display_data"
    }
   ],
   "source": [
    "# Create a density plot of the log_likes variable\n",
    "ggplot(clean_data, aes(x = log_likes)) +\n",
    "  geom_density(fill = \"skyblue\", color = \"blue\") +\n",
    "  labs(title = \"Density Plot of Log-transformed Likes\",\n",
    "       x = \"Log-transformed Likes\",\n",
    "       y = \"Density\")"
   ]
  },
  {
   "cell_type": "code",
   "execution_count": 56,
   "id": "7666ffe2-7a63-45b4-9ec1-96b0cd0f5c63",
   "metadata": {},
   "outputs": [
    {
     "name": "stderr",
     "output_type": "stream",
     "text": [
      "Warning message:\n",
      "\"\u001b[1m\u001b[22mRemoved 2112 rows containing non-finite values (`stat_bin()`).\"\n"
     ]
    },
    {
     "data": {
      "image/png": "[encoded data removed]",
      "text/plain": [
       "plot without title"
      ]
     },
     "metadata": {
      "image/png": {
       "height": 420,
       "width": 420
      }
     },
     "output_type": "display_data"
    }
   ],
   "source": [
    "ggplot(clean_data, aes(x = followers)) +\n",
    "  geom_histogram(binwidth = 10000, fill = \"skyblue\", color = \"black\") +\n",
    "  labs(title = \"Histogram of Followers\",\n",
    "       x = \"Followers Count\",\n",
    "       y = \"Frequency\")"
   ]
  },
  {
   "cell_type": "code",
   "execution_count": 57,
   "id": "8b32d089-7467-4fa6-9c8d-1febe6bb09a9",
   "metadata": {},
   "outputs": [],
   "source": [
    "# Trim extreme values\n",
    "clean_data_trimmed <- clean_data[clean_data$followers < 1000000 & clean_data$following < 1000, ]"
   ]
  },
  {
   "cell_type": "code",
   "execution_count": 58,
   "id": "e4efa540-641a-4ee6-8cf8-d44f8ee53a91",
   "metadata": {},
   "outputs": [
    {
     "name": "stderr",
     "output_type": "stream",
     "text": [
      "Warning message:\n",
      "\"\u001b[1m\u001b[22mRemoved 2112 rows containing non-finite values (`stat_bin()`).\"\n"
     ]
    },
    {
     "data": {
      "image/png": "[encoded data removed]",
      "text/plain": [
       "plot without title"
      ]
     },
     "metadata": {
      "image/png": {
       "height": 420,
       "width": 420
      }
     },
     "output_type": "display_data"
    }
   ],
   "source": [
    "# Create histograms for trimmed data\n",
    "ggplot(clean_data_trimmed, aes(x = followers)) +\n",
    "  geom_histogram(binwidth = 10000, fill = \"skyblue\", color = \"black\") +\n",
    "  labs(title = \"Histogram of Followers (Trimmed)\",\n",
    "       x = \"Followers Count\",\n",
    "       y = \"Frequency\")"
   ]
  },
  {
   "cell_type": "code",
   "execution_count": 59,
   "id": "dea03ba2-960d-4bb2-be22-749bcf56e725",
   "metadata": {},
   "outputs": [
    {
     "name": "stderr",
     "output_type": "stream",
     "text": [
      "Warning message:\n",
      "\"\u001b[1m\u001b[22mRemoved 2112 rows containing non-finite values (`stat_bin()`).\"\n"
     ]
    },
    {
     "data": {
      "image/png": "[encoded data removed]",
      "text/plain": [
       "plot without title"
      ]
     },
     "metadata": {
      "image/png": {
       "height": 420,
       "width": 420
      }
     },
     "output_type": "display_data"
    }
   ],
   "source": [
    "ggplot(clean_data_trimmed, aes(x = following)) +\n",
    "  geom_histogram(binwidth = 100, fill = \"lightgreen\", color = \"black\") +\n",
    "  labs(title = \"Histogram of Following (Trimmed)\",\n",
    "       x = \"Following Count\",\n",
    "       y = \"Frequency\")"
   ]
  },
  {
   "cell_type": "code",
   "execution_count": 60,
   "id": "dad14837-5bc2-4cce-9766-8b5a363746c9",
   "metadata": {},
   "outputs": [
    {
     "name": "stderr",
     "output_type": "stream",
     "text": [
      "Warning message:\n",
      "\"\u001b[1m\u001b[22mRemoved 2112 rows containing missing values (`geom_point()`).\"\n"
     ]
    },
    {
     "data": {
      "image/png": "[encoded data removed]",
      "text/plain": [
       "plot without title"
      ]
     },
     "metadata": {
      "image/png": {
       "height": 420,
       "width": 420
      }
     },
     "output_type": "display_data"
    }
   ],
   "source": [
    "# Create a scatter plot of likes against followers\n",
    "ggplot(clean_data, aes(x = followers, y = likes)) +\n",
    "  geom_point() +\n",
    "  labs(title = \"Scatter Plot of Likes vs Followers\",\n",
    "       x = \"Followers\",\n",
    "       y = \"Likes\")"
   ]
  },
  {
   "cell_type": "code",
   "execution_count": 61,
   "id": "692fc2c4-17b1-4341-94cf-d1197dd7c8d6",
   "metadata": {},
   "outputs": [],
   "source": [
    "# Calculate correlation coefficients between likes, followers, and following\n",
    "correlation_matrix <- cor(clean_data[, c(\"likes\", \"followers\", \"following\")])"
   ]
  },
  {
   "cell_type": "code",
   "execution_count": 62,
   "id": "a6155d73-a9ad-4160-bbfa-bb427d2f54c6",
   "metadata": {},
   "outputs": [
    {
     "name": "stdout",
     "output_type": "stream",
     "text": [
      "          likes followers following\n",
      "likes         1        NA        NA\n",
      "followers    NA         1        NA\n",
      "following    NA        NA         1\n"
     ]
    }
   ],
   "source": [
    "# Print correlation matrix\n",
    "print(correlation_matrix)"
   ]
  },
  {
   "cell_type": "markdown",
   "id": "f58f8a1a-4c31-418c-983d-d7b223f5c832",
   "metadata": {},
   "source": [
    "## 5. Data Transformation and Cleaning"
   ]
  },
  {
   "cell_type": "code",
   "execution_count": 63,
   "id": "f04bc7fe-dd30-4d08-8a1c-2ec2b665259b",
   "metadata": {},
   "outputs": [],
   "source": [
    "# Remove rows with missing values in any of the columns\n",
    "clean_datap <- na.omit(clean_data)"
   ]
  },
  {
   "cell_type": "code",
   "execution_count": 64,
   "id": "375b1175-1a93-416a-a061-c6e92fe761c6",
   "metadata": {},
   "outputs": [],
   "source": [
    "# Recalculate correlation coefficients\n",
    "correlation_matrix <- cor(clean_datap[, c(\"likes\", \"followers\", \"following\")])\n"
   ]
  },
  {
   "cell_type": "code",
   "execution_count": 65,
   "id": "5cbda18c-8467-4c43-8ec2-e548aca8a3d8",
   "metadata": {},
   "outputs": [
    {
     "name": "stdout",
     "output_type": "stream",
     "text": [
      "                 likes    followers    following\n",
      "likes      1.000000000  0.801363869 -0.005959403\n",
      "followers  0.801363869  1.000000000 -0.007064583\n",
      "following -0.005959403 -0.007064583  1.000000000\n"
     ]
    }
   ],
   "source": [
    "# Print correlation matrix\n",
    "print(correlation_matrix)"
   ]
  },
  {
   "cell_type": "code",
   "execution_count": 66,
   "id": "312f4633-4d0f-4399-b017-b814b66c26ed",
   "metadata": {},
   "outputs": [],
   "source": [
    "clean_data$shortcode <- stri_trans_nfd(clean_data$shortcode)\n",
    "clean_data$shortcode <- gsub(\"\\\\s+\", \"\", clean_data$shortcode)"
   ]
  },
  {
   "cell_type": "code",
   "execution_count": 67,
   "id": "1e0d5ba1-a331-4319-b1ac-59bcbf8aa9ee",
   "metadata": {},
   "outputs": [],
   "source": [
    "duplicated_rows <- duplicated(clean_data)\n"
   ]
  },
  {
   "cell_type": "code",
   "execution_count": 68,
   "id": "e2f69bd8-6a64-42d7-a2ec-bee90ff3e3c0",
   "metadata": {},
   "outputs": [
    {
     "name": "stdout",
     "output_type": "stream",
     "text": [
      "[1] 1047 1049 1051 1053 1055 1057\n"
     ]
    }
   ],
   "source": [
    "# Print the indices of duplicate rows\n",
    "print(head(which(duplicated_rows)))"
   ]
  },
  {
   "cell_type": "code",
   "execution_count": 69,
   "id": "71c24c9f-bb03-478a-9eb2-aafd1bbf24ab",
   "metadata": {},
   "outputs": [],
   "source": [
    "duplicate_data <- clean_data[duplicated_rows, ]"
   ]
  },
  {
   "cell_type": "code",
   "execution_count": 70,
   "id": "232fd075-4712-4064-9159-2b1d04a33720",
   "metadata": {},
   "outputs": [],
   "source": [
    "clean_data_no_duplicates <- clean_data[!duplicated_rows, ]"
   ]
  },
  {
   "cell_type": "code",
   "execution_count": 71,
   "id": "a79d489f-28b7-4b19-844b-db170c4ca556",
   "metadata": {},
   "outputs": [
    {
     "name": "stdout",
     "output_type": "stream",
     "text": [
      "  owner_id    owner_username   shortcode is_video\n",
      "1 36063641 christendominique C3_GS1ASeWI    False\n",
      "2 36063641 christendominique C38ivgNS3IX     True\n",
      "3 36063641 christendominique C35-Dd9SO1b     True\n",
      "4 36063641 christendominique C33TadDMisq     True\n",
      "5 36063641 christendominique C3s-Cm1yCba     True\n",
      "6 36063641 christendominique C3n0pZJvG-G     True\n",
      "                                                                                                                                                                                                                                                                                                                                                                                                                                                                                                                                                                                                                                                                    caption\n",
      "1                                                                                                                                                                                                                                                                                                                                                                                                                                                                                                                                                                                      Iâ\\200\\231m a brunch & Iced Coffee girlieâ\\230•ï¸\\217ðŸ\\215³ \\n\\nTop @ta3 X @nazaninkavari \\n\\nhbu?\n",
      "2                                                                                                                                                                                                                                                                                                                                                ðŸ\\230®â\\200\\215ðŸ’¨Brow tips I really wish I would have know when I first started makeupðŸ«£ðŸ\\231„\\n\\nBrow Frame Pencil @dominiquecosmetics \\nShade: Cool deep brown\\nBrow Blowout Gel @dominiquecosmetics \\nBrow powder @sigmabeauty \\nShade: Medium\\n\\n#browtips #eyebrowtutorial #browmakeup #eyebrowtutorial #makeup #makeuptips\n",
      "3 OMG I canâ\\200\\231t believe itâ\\200\\231s already been 1 yr since launching my collab brush collection with @sigmabeauty ðŸ¥²ðŸ«¶ Iâ\\200\\231m exciting to do this giveaway for you guys just comment below what makes you feel beautiful and Iâ\\200\\231ll pick a winner this Friday! Iâ\\200\\231ll announce in stories and DMðŸ©· Good luckðŸ\\230\\230\\n\\nMAKEUP \\nDry skin\\n@milk Hydro grip\\n@toofaced skin tint and concealer \\n\\nOily skin \\n@smashboxcosmetics OG Primer\\n@hauslabs foundation\\n@hourglasscosmetics Concealer \\n\\nMedium deep setting powder as bronzer @lunarbeauty \\nSun Pop Blush @r.e.m.beauty \\n\\n#sigmaxchristendominique #makeupforbeginners #beginnermakeup #makeup #makeuptutorial\n",
      "4                                                                                                                                                        90â\\200\\231s Glam was Pam! \\n\\nMakeup \\n@smashboxcosmetics OG Primer @ultabeauty \\nAlways on Foundation, Cover shot eyeshadow matte palette, Medium brown lip liner, stepping out lipstick \\n@dominiquecosmetics Brow Gel & Brow Frame Pencil\\nSetting powder, Creamer Gloss\\n\\n#90smakeup \\n @hourglasscosmetics Concealer \\n@gxvebeauty Black Pencil liner \\n@lunarbeauty So icy shade from Nude prism Palette \\n@rarebeauty Mascara\\n\\n #sbxambassador #90smakeup #glammakeup #pamelaanderson #makeup #makeuptutorial\n",
      "5                                                                                                                                                                                                                                                                                                                                                                                                                                                                                                        Chiseled & Sculptured ðŸ\\217›ï¸\\217\\n\\n Contour @westmanatelier \\nFace trace \\n\\nBrush @nudestix Blend & buff brush\\n\\n#contour #makeup #makeuptutorial #contourtutorial\n",
      "6                                     No foundation but all this coverage ðŸ\\230‹ I love how flawless it came out! \\n\\nConcealer @dominiquecosmetics \\nCream contour @dibsbeauty \\nSetting powder Translucent & Medium Deep @dominiquecosmetics \\nPowder bronzer @lorealparis \\n@r.e.m.beauty Pinking of U blush\\n@toofaced Watermelon Rain\\nNudie lip liner @dominiquecosmetics \\nFlaunt 2 lip liner @hourglasscosmetics \\nLanny lipstick @lunarbeauty X @lauraleelosangeles \\nPeach tea gloss @dominiquecosmetics \\nShooting star highlight @toofaced \\nSkin mist enhancer @lisaeldridgemakeup \\n\\n#nofoundationmakeup #nofoundation #makeup #makeuptutorial #everydaymakeup\n",
      "  comments likes          created_at location\n",
      "1      268 16382 2024-03-01 20:59:18         \n",
      "2      138  9267 2024-02-29 21:10:48         \n",
      "3     1089 10100 2024-02-28 21:11:47         \n",
      "4      271  6943 2024-02-27 20:22:02         \n",
      "5      145 17158 2024-02-23 20:01:26         \n",
      "6      143  9683 2024-02-21 20:09:45         \n",
      "                                                                                                                                                                                                                                                                                                                               imageUrl\n",
      "1 https://instagram.flba2-1.fna.fbcdn.net/v/t39.30808-6/430974774_18418670632031642_5697489775672449864_n.jpg?stp=dst-jpg_e35_p1080x1080_sh0.08&_nc_ht=instagram.flba2-1.fna.fbcdn.net&_nc_cat=102&_nc_ohc=nYbyc3bq0TUAX8IOwlm&edm=AOQ1c0wAAAAA&ccb=7-5&oh=00_AfARXlvLAt1ALtcbKPME-_PopUpz0RCCr5Ga0_Ag3H7mvw&oe=65E871E6&_nc_sid=8b3546\n",
      "2                     https://instagram.flba2-1.fna.fbcdn.net/v/t51.2885-15/430476546_377253591918347_6302610600098341121_n.jpg?stp=dst-jpg_e15&_nc_ht=instagram.flba2-1.fna.fbcdn.net&_nc_cat=111&_nc_ohc=2S1Jd8tJS24AX_C-vSA&edm=AOQ1c0wBAAAA&ccb=7-5&oh=00_AfCWntEuRxNPKxDgBM10kr-gfRDebiMoOpsIiFwRbMnjGg&oe=65E55F07&_nc_sid=8b3546\n",
      "3                     https://instagram.flba2-1.fna.fbcdn.net/v/t51.2885-15/430195796_1090020002251078_273021475404128574_n.jpg?stp=dst-jpg_e15&_nc_ht=instagram.flba2-1.fna.fbcdn.net&_nc_cat=110&_nc_ohc=xiy-Uv41l9wAX_VapE8&edm=AOQ1c0wBAAAA&ccb=7-5&oh=00_AfDypfw9w0--H5YcJYq7rD78-2LR0GeUDm7l_cgs1yZCUw&oe=65E55DEA&_nc_sid=8b3546\n",
      "4                    https://instagram.flba2-1.fna.fbcdn.net/v/t51.2885-15/430234461_2511216325719852_6044708940416132323_n.jpg?stp=dst-jpg_e15&_nc_ht=instagram.flba2-1.fna.fbcdn.net&_nc_cat=100&_nc_ohc=mz1fe9L6CJIAX98OBla&edm=AOQ1c0wBAAAA&ccb=7-5&oh=00_AfDzY4lTHx5B0vWQB8MN3WncDHSoAbrLDl-al_xaHU97_Q&oe=65E564A6&_nc_sid=8b3546\n",
      "5                      https://instagram.flba2-1.fna.fbcdn.net/v/t51.2885-15/429323592_377089618501769_449776109189645104_n.jpg?stp=dst-jpg_e15&_nc_ht=instagram.flba2-1.fna.fbcdn.net&_nc_cat=105&_nc_ohc=tzBki6TmwvIAX8muR2z&edm=AOQ1c0wBAAAA&ccb=7-5&oh=00_AfBdZL3B7j_b1fXmKk6tK9Yv-MB_5kltDXIQxDutVEaCAw&oe=65E5070B&_nc_sid=8b3546\n",
      "6                     https://instagram.flba2-1.fna.fbcdn.net/v/t51.2885-15/429446159_755569773124491_1258377146530980146_n.jpg?stp=dst-jpg_e15&_nc_ht=instagram.flba2-1.fna.fbcdn.net&_nc_cat=103&_nc_ohc=GAp7_i_sWT8AX-rrbNX&edm=AOQ1c0wBAAAA&ccb=7-5&oh=00_AfCEkZrxSBsFphw5eWSCTheTpDLZageJ_ZIVBP3oxkjKZg&oe=65E59D33&_nc_sid=8b3546\n",
      "  multiple_images          username followers following log_likes\n",
      "1            True christendominique   2144626      1021  9.703938\n",
      "2           False christendominique   2144626      1021  9.134215\n",
      "3           False christendominique   2144626      1021  9.220291\n",
      "4           False christendominique   2144626      1021  8.845489\n",
      "5           False christendominique   2144626      1021  9.750220\n",
      "6           False christendominique   2144626      1021  9.178127\n"
     ]
    }
   ],
   "source": [
    "print(head(clean_data_no_duplicates))"
   ]
  },
  {
   "cell_type": "code",
   "execution_count": 72,
   "id": "e287fe51-3dfd-4cb5-80f7-4fbeecae03d3",
   "metadata": {},
   "outputs": [],
   "source": [
    "rows_with_na <- clean_data_no_duplicates %>%\n",
    "  filter(rowSums(is.na(.)) > 0)"
   ]
  },
  {
   "cell_type": "code",
   "execution_count": 73,
   "id": "121f3460-3935-4777-bdb1-5f7123e0eb9c",
   "metadata": {},
   "outputs": [
    {
     "name": "stdout",
     "output_type": "stream",
     "text": [
      "     owner_id            owner_username   shortcode is_video\n",
      "1 46755025637 mangrovephotographyawards CuU74i5Krh-    False\n",
      "2   330497544              images_vevey C3pcxFHoYRY    False\n",
      "3   352125728             kameraexpress Cy-cUTDoBu5     True\n",
      "4  5803476947                  phu_srpa C2aC7LuJJNa    False\n",
      "5   458305551            petzl_official C2IGHOFNiSK     True\n",
      "6    14492595              jamesqmartin C1AbGQFpmvn     True\n",
      "                                                                                                                                                                                                                                                                                                                                                                                                                                                                                                                                                                                                                                                                                                                                                                                                                                                                                                                                                                                                                                                                                                                                                                                                                                                                                                                                                                                                                                                                                                                                                                                                                                                                                                                                                                                                                                                                                                                                                                                                                                                                                                                                                                                                                                                                                                                                           caption\n",
      "1                                                                                                                                                                                                                                                                                                                                                                                                                                                                                                                                                                                                                                                                                                                                                                                                                                                                                                                                                                                                                                                                                                                                                                                                                                                                                                                                                                                                                                                                                                                                                                 ðŸ‘\\200 Photography is a powerful medium for connecting people to a beautiful world they otherwise may not be able to see. And we canâ\\200\\231t protect what we donâ\\200\\231t know about.\\n \\nTropical ecologist turned photojournalist and former Awards judge @christianziegler has seen with his own eyes how important Belizeâ\\200\\231s mangroves are for people and wildlife. Today, he gives people a glimpse of the forestâ\\200\\231s incredible three life zones and the unique species that rely on each. \\n\\nðŸ‘‰ Journey over the canopy, through the roots, and below the water. Link in bio.\\n\\nImage credit: Christian Ziegler\\n\\n#mangrove #mangroveforests #generationrestoration #photojournalist #conservation #treecanopy #mangroveroots #wildlife #marinelife #underwater #explorebelize\n",
      "2 Christopher Anderson - Family Trilogy\\n\\nðŸ“\\215Lâ\\200\\231Appartement â\\200“ Espace Images Vevey\\nLES CHAMBRES\\n\\nChristopher Anderson a commencÃ© Ã  photographier sa famille de maniÃ¨re quasiment organique dÃ¨s la naissance de son fils Atlas en 2008. Ã\\200 la naissance de sa fille Pia il poursuit cette quÃªte dâ\\200\\231un pÃ¨re essayant dâ\\200\\231arrÃªÂ­ter le temps, de ne laisser fuir aucun instant de sa nouvelle vie. Marion est omniprÃ©sente dans ces albums Ã  la fois comme femme, mÃ¨re et partenaire. En tant que photographe documentaire, Anderson nâ\\200\\231avait jamais considÃ©rÃ© ces photos personnelles comme une vÃ©ritable sÃ©rie, jusquâ\\200\\231Ã  ce que le photographe de guerre Tim Hetherington lui dise : Â« Il sâ\\200\\231agit du temps qui passe Â». Anderson a commencÃ© Ã  voir ses images personnelles sous un nouveau jour et a fini par penser que ces photoÂ­graphies Ã©taient lâ\\200\\231oeuvre de sa vie. Pia, Son et Marion ont Ã©tÃ© publiÃ©s en trois livres distincts, formant une trilogie familiale unique, tendre et intime.\\n\\n- - -\\n\\nChristopher Anderson naturally began photographing his family after his son Atlas came into the world in 2008. When his daughter Pia was born, he continued the fatherly attempt to stop time and not let a single moment of this new life slip away. Marion features throughout these albums, as a woman, mother, and partner. As a documentary photographer, Christopher Anderson had never considered these personal photos as a â\\200\\230seriesâ\\200\\231, but his opinion changed when war photographer Tim Hetherington pointed out that â\\200œTheyâ\\200\\231re all about the passage of time.â\\200\\235 Christopher Anderson began seeing his family pictures in a new light and realised that they may well be his best work. Pia, Son and Marion were published as three separate books, forming a unique and moving intimate family trilogy.\\n\\n@christopherandersonphoto\\n\\nCanada (1970)\\nFamily Trilogy, 2020\\n\\nPia, 2020\\nSon, 2021\\nMarion, 2022\\npublished by @stanleybarkerbooks\\n\\nðŸ“\\215Gare CFF de Vevey / Vevey Train Station\\nJusquâ\\200\\231au 14 avril / Until April 14th\\nMer-dim, 14h-18h / Wed-Sun, 2-6 pm\\nâœ¨EntrÃ©e libre / Free admission\\n\\nDonâ\\200\\231t miss Echo in the toilet ðŸ\\220• ðŸ‘\\200\\n\\nVues dâ\\200\\231installation / Installation views ðŸ“¸ @margauxcorda\\n\\n#lappartementimages\\n#imagesvevey\\n#photography\n",
      "3                                                                                                                                                                                                                                                                                                                                                                                                                                                                                                                                                                                                                                                                                                                                                                                                                                                                                                                                                                                                                                                                                                                                                                                                                                                                                                                                                                                                                                                                                                                                                                                                                                                                                                                                                                                                                                                                                                                                                                                                                                                                                                                                       @claireonline laat zich graag betoveren door de stilte en neemt je mee naar Ã©Ã©n van haar fotografiesessies in de vroege ochtend. Wat vind jij van het eindresultaat? ðŸ“· #DagvandeStilte #kameraexpress\n",
      "4                                                                                                                                                                                                                                                                                                                                                                                                                                                                                                                                                                                                                                                                                                                                                                                                                                                                                                                                                                                                                                                                                                                                                                                                                                                                                                                                                                                                                                                                                                                                                                                                                                                                                                                                                                                                                                                                                                                                                                   Todayâ\\200\\231s an auspicious day . We KCC family feels beyond grateful and happy to welcome  the gift for our 20th anniversary , Guru Ringboche  to KCC . Building This 20 years has been wonderful and letâ\\200\\231s all hope and pray for an even more amazing 20 years in the future. ðŸ\\231\\217ðŸ\\231\\217ðŸ\\231\\217 @khumbuclimbingcenter @himalayanquests @conrad_anker @jenniloweanker @everestoutfit\n",
      "5                                                                                                                                                                                                                                                                                                                                                                                                                                                                                                                                                                                                                                                                                                                                                                                                                                                                                                                                                                                                                                                                                                                                                                                                                                                                                                                                                                                                                                                                                                                                                                                                                                                                                                                                                                                                                                                                                                                                                                                                                                                                                                                         #PetzlTips - Organize your ice screws with CARITOOL EVO.\\n\\nFind out how @conrad_anker uses the CARITOOL EVO to manage his gear while climbing.\\n\\n#Petzl #Petzlgram #AccessTheInaccessible #IceClimbing #Mountaineering\n",
      "6                                                                                                                                                                                                                                                                                                                                                                                                                                                                                                                                                                                                                                                                                                                                                                                                                                                                                                                                                                                            We need your help - link in @jamesqmartin bio \\n\\nStand in solidarity with Alaskaâ\\200\\231s Indigenous communities, advocate for clean water and connected ecosystems and urge them to select the â\\200œNo Action Alternative.â\\200\\235 \\n\\nThe Ambler industrial road is a 211-mile corridor across the western Brooks Range that would risk loosing North Americaâ\\200\\231s largest ecologically connected area to endless open pit mining and development. It would cross 1200 rivers and streams, disrupt the migration of the Western Arctic\\ncaribou herd, slice through Gates of the Arctic National Preserve and dismantle the subsistence livelihood of at least 66 communities. \\n\\nSeventy-four tribes and First Nations on the Yukon River watershed, 37 tribal governments in the Tanana Chiefs Conference, 23 Yupik tribes, 10 Inupiaq tribal governments, and five Athabascan tribes\\nclosest to the road corridor all have standing resolutions in opposition to this disastrous development project.\\n\\nThe Biden Administration and the Bureau of Land Management have the authority to revoke permits and end itâ\\200\\231s trajectory forward. \\n\\nPlease submit your comment now before the public comment period is closed on Dec. 22, and tell the Bureau of Land Management NO to the Ambler industrial road.\\n@noamblerroad @defendbrooksrange  #noamble\n",
      "  comments likes          created_at\n",
      "1        1   292 2023-07-05 19:17:41\n",
      "2       11  1977 2024-02-22 11:12:23\n",
      "3       23   800 2023-10-29 08:17:18\n",
      "4        5   766 2024-01-22 15:06:34\n",
      "5       25  3448 2024-01-15 15:49:11\n",
      "6        5   530 2023-12-18 20:28:59\n",
      "                                                                                                                                        location\n",
      "1                                                                                                                                               \n",
      "2                                                                                                                                               \n",
      "3                                                                                                                                               \n",
      "4 {'id': '880072107', 'has_public_page': True, 'name': 'Khumbu Climbing Center, Phortse, Nepal', 'slug': 'khumbu-climbing-center-phortse-nepal'}\n",
      "5                                                                                                                                               \n",
      "6                                                                                                                                               \n",
      "                                                                                                                                                                                                                                                                                                                               imageUrl\n",
      "1          https://instagram.flba2-1.fna.fbcdn.net/v/t51.2885-15/357756681_998609204488489_211088206779482092_n.webp?stp=dst-jpg_e35_s1080x1080&_nc_ht=instagram.flba2-1.fna.fbcdn.net&_nc_cat=101&_nc_ohc=ERMlwHbXY7UAX949f0H&edm=AOQ1c0wBAAAA&ccb=7-5&oh=00_AfDFTV08w0vsByg6QWoDWotNl9FAQMfc2FdxUUO1-UVU8g&oe=65E85708&_nc_sid=8b3546\n",
      "2 https://instagram.fgyn2-1.fna.fbcdn.net/v/t39.30808-6/424949502_18416501452001545_5317511270156278496_n.jpg?stp=dst-jpg_e35_p1080x1080_sh0.08&_nc_ht=instagram.fgyn2-1.fna.fbcdn.net&_nc_cat=101&_nc_ohc=uCdjIKXqlJUAX-HIhdB&edm=AOQ1c0wAAAAA&ccb=7-5&oh=00_AfCzIgPSIx5syAyq7jrMWUze5N7WqKD2I4lA3QHxatD7Ew&oe=65E95306&_nc_sid=8b3546\n",
      "3                    https://instagram.flba2-1.fna.fbcdn.net/v/t51.2885-15/396487672_1053784122409632_3684936096098765131_n.jpg?stp=dst-jpg_e15&_nc_ht=instagram.flba2-1.fna.fbcdn.net&_nc_cat=100&_nc_ohc=OTJ-WHumZTMAX8tYCQ5&edm=AOQ1c0wBAAAA&ccb=7-5&oh=00_AfDtPj4hj9aqs8UZi2jwYBiJlBUpK_8S6UQmU2abby4T4w&oe=65E57517&_nc_sid=8b3546\n",
      "4 https://instagram.fmar3-1.fna.fbcdn.net/v/t39.30808-6/421634662_18293078356196948_1362382453721119837_n.jpg?stp=dst-jpg_e35_s1080x1080_sh0.08&_nc_ht=instagram.fmar3-1.fna.fbcdn.net&_nc_cat=108&_nc_ohc=7RgG51zBUYsAX_20Irq&edm=AOQ1c0wAAAAA&ccb=7-5&oh=00_AfDhd_YP0colIJ6VQK1Fkctiv2NVD-jnxBz0WiIVWBLjJA&oe=65E7A57B&_nc_sid=8b3546\n",
      "5      https://instagram.fmar3-1.fna.fbcdn.net/v/t51.2885-15/418876480_1084470152795984_8842147427572338551_n.jpg?stp=dst-jpg_e15_fr_p1080x1080&_nc_ht=instagram.fmar3-1.fna.fbcdn.net&_nc_cat=108&_nc_ohc=SEoaA2Obr04AX9IWYbD&edm=AOQ1c0wBAAAA&ccb=7-5&oh=00_AfB_9AvZz1xoS2jqUrGYe3cYoV3ocZr160cskLY8pfKaIg&oe=65E595C0&_nc_sid=8b3546\n",
      "6                    https://instagram.fmar3-1.fna.fbcdn.net/v/t51.2885-15/412241338_1744494459398059_6770617098523205223_n.jpg?stp=dst-jpg_e15&_nc_ht=instagram.fmar3-1.fna.fbcdn.net&_nc_cat=107&_nc_ohc=fPd4zCiW3AEAX-MM4e-&edm=AOQ1c0wBAAAA&ccb=7-5&oh=00_AfAM4_7TXwCrHZo1heCTaY8DU5L9NcK0kCFMI4JORiRxoA&oe=65E549A5&_nc_sid=8b3546\n",
      "  multiple_images username followers following log_likes\n",
      "1            True                 NA        NA  5.676754\n",
      "2            True                 NA        NA  7.589336\n",
      "3           False                 NA        NA  6.684612\n",
      "4            True                 NA        NA  6.641182\n",
      "5           False                 NA        NA  8.145550\n",
      "6           False                 NA        NA  6.272877\n"
     ]
    }
   ],
   "source": [
    "print(head(rows_with_na))"
   ]
  },
  {
   "cell_type": "code",
   "execution_count": 74,
   "id": "591c8ff6-045c-4467-af50-710c0fc11328",
   "metadata": {},
   "outputs": [],
   "source": [
    "common_owner_ids <- intersect(clean_data_no_duplicates$owner_id, rows_with_na$owner_id)"
   ]
  },
  {
   "cell_type": "code",
   "execution_count": 75,
   "id": "48e6188f-8da1-4e9b-af0b-1dd9f09a3ecf",
   "metadata": {},
   "outputs": [
    {
     "name": "stdout",
     "output_type": "stream",
     "text": [
      "[1] \"There are 307 common owner IDs in the dataframes.\"\n",
      "[1] \"Common owner IDs:\"\n",
      "  [1] \"46755025637\" \"330497544\"   \"352125728\"   \"5803476947\"  \"458305551\"  \n",
      "  [6] \"14492595\"    \"3487199554\"  \"206200385\"   \"63852484397\" \"62091615300\"\n",
      " [11] \"62439507496\" \"1182816418\"  \"41057892\"    \"1721579912\"  \"1548702122\" \n",
      " [16] \"48398435520\" \"188995860\"   \"305619\"      \"4206008232\"  \"55239027\"   \n",
      " [21] \"1087446306\"  \"178166505\"   \"51664667817\" \"1435159133\"  \"506653291\"  \n",
      " [26] \"1712682591\"  \"521479580\"   \"57932761775\" \"57518009129\" \"60000249142\"\n",
      " [31] \"9441276345\"  \"51632234\"    \"852734679\"   \"258674150\"   \"174973641\"  \n",
      " [36] \"8546183263\"  \"178459439\"   \"46334562473\" \"63216424410\" \"486370470\"  \n",
      " [41] \"49879419416\" \"58492153840\" \"1331072548\"  \"928184\"      \"6227770127\" \n",
      " [46] \"216202440\"   \"846311018\"   \"287700597\"   \"60910610837\" \"13613836\"   \n",
      " [51] \"35936560011\" \"620226\"      \"238363267\"   \"492949219\"   \"461426973\"  \n",
      " [56] \"3226279\"     \"1528197397\"  \"46783567\"    \"12488328\"    \"311647550\"  \n",
      " [61] \"1451518234\"  \"21852908\"    \"13327873\"    \"367643209\"   \"48894917114\"\n",
      " [66] \"22800853\"    \"428176873\"   \"5514703338\"  \"44966069097\" \"11699232907\"\n",
      " [71] \"24835013\"    \"48573497593\" \"20949707\"    \"57720128373\" \"1157091466\" \n",
      " [76] \"9278986968\"  \"24452678\"    \"46162163844\" \"17139214\"    \"63181500678\"\n",
      " [81] \"3437300598\"  \"2214300809\"  \"289602056\"   \"63290087580\" \"53126852347\"\n",
      " [86] \"179023978\"   \"62187393962\" \"4751909190\"  \"2131004076\"  \"12317328053\"\n",
      " [91] \"1388427\"     \"3585140282\"  \"1398421403\"  \"435549352\"   \"724934\"     \n",
      " [96] \"6718998699\"  \"7469762381\"  \"49025081502\" \"5794992884\"  \"44007244387\"\n",
      "[101] \"1189344839\"  \"211753590\"   \"487946974\"   \"4455387416\"  \"62734537316\"\n",
      "[106] \"14789962393\" \"146130939\"   \"312115291\"   \"55546045\"    \"6302052180\" \n",
      "[111] \"22714987113\" \"792020704\"   \"5628132560\"  \"22567723\"    \"39486634\"   \n",
      "[116] \"9494949615\"  \"2927560551\"  \"31274174906\" \"6000611659\"  \"2910757291\" \n",
      "[121] \"223640625\"   \"531054898\"   \"197794851\"   \"2432105956\"  \"33850751337\"\n",
      "[126] \"5323341587\"  \"1678962946\"  \"179388748\"   \"46424148\"    \"55013631627\"\n",
      "[131] \"18570059208\" \"13521207308\" \"6100255157\"  \"2243562250\"  \"1420811656\" \n",
      "[136] \"1522007074\"  \"8624949811\"  \"214963297\"   \"145327899\"   \"3980918\"    \n",
      "[141] \"55053672651\" \"8473633416\"  \"4946774310\"  \"986959732\"   \"1383335815\" \n",
      "[146] \"44442892522\" \"2082368949\"  \"63342087116\" \"315164635\"   \"2948894514\" \n",
      "[151] \"6994423\"     \"536687196\"   \"55115594306\" \"238132963\"   \"27977286581\"\n",
      "[156] \"58955326433\" \"260510081\"   \"3617352539\"  \"24883067538\" \"21673248\"   \n",
      "[161] \"4839444\"     \"50719938\"    \"5200739\"     \"269307852\"   \"5353365901\" \n",
      "[166] \"13820473\"    \"2635737\"     \"407520707\"   \"62590947320\" \"38279235\"   \n",
      "[171] \"54682448928\" \"228335563\"   \"6246500970\"  \"2048458238\"  \"7721142836\" \n",
      "[176] \"51085085977\" \"3000674349\"  \"209212866\"   \"235175071\"   \"286628010\"  \n",
      "[181] \"9209561053\"  \"452537124\"   \"49177710\"    \"11374607844\" \"424663317\"  \n",
      "[186] \"22569910\"    \"191399499\"   \"46494745742\" \"14082236\"    \"52575239904\"\n",
      "[191] \"1229205672\"  \"348987541\"   \"57333313693\" \"1649064\"     \"6920388\"    \n",
      "[196] \"216705239\"   \"244408171\"   \"49626521\"    \"16303346\"    \"23969763\"   \n",
      "[201] \"533767716\"   \"242359627\"   \"1589715476\"  \"14103787\"    \"248760623\"  \n",
      "[206] \"188016067\"   \"30828970\"    \"2245319206\"  \"3242690503\"  \"13217105\"   \n",
      "[211] \"7952545\"     \"257780272\"   \"289725540\"   \"4158991860\"  \"192648868\"  \n",
      "[216] \"11963103\"    \"805772888\"   \"273860412\"   \"234331486\"   \"4986448785\" \n",
      "[221] \"6076007\"     \"1710289852\"  \"6650231\"     \"44950\"       \"193331857\"  \n",
      "[226] \"16090397\"    \"2099922997\"  \"1529774990\"  \"447453\"      \"194447624\"  \n",
      "[231] \"1362827056\"  \"8230542\"     \"19769622\"    \"259340744\"   \"178936022\"  \n",
      "[236] \"7093676518\"  \"42675551\"    \"3423565\"     \"514140367\"   \"38086989330\"\n",
      "[241] \"259472224\"   \"46953085\"    \"1043922032\"  \"24044164\"    \"36045182\"   \n",
      "[246] \"194852818\"   \"9036879\"     \"2630\"        \"264724726\"   \"2777374593\" \n",
      "[251] \"481991581\"   \"10247422542\" \"25036051\"    \"59880425097\" \"3608958171\" \n",
      "[256] \"1805338175\"  \"46189202111\" \"4936811789\"  \"31948430\"    \"4589670158\" \n",
      "[261] \"181110452\"   \"209441630\"   \"4357688050\"  \"59603381335\" \"4199784465\" \n",
      "[266] \"11069135654\" \"9524613381\"  \"40533082038\" \"312117503\"   \"8803970\"    \n",
      "[271] \"32575356528\" \"2696872\"     \"1749187449\"  \"13093210\"    \"32697791588\"\n",
      "[276] \"5934669096\"  \"19796273762\" \"8639465249\"  \"7477514\"     \"43386407\"   \n",
      "[281] \"57601166705\" \"1959579780\"  \"5315673004\"  \"30664876339\" \"375101766\"  \n",
      "[286] \"25016632\"    \"3267745678\"  \"188093315\"   \"31872341437\" \"176260494\"  \n",
      "[291] \"60009941940\" \"29192991936\" \"26589203\"    \"2893415828\"  \"1495338308\" \n",
      "[296] \"589557203\"   \"24616422\"    \"47131047596\" \"521049236\"   \"23230397633\"\n",
      "[301] \"13469706\"    \"53445141\"    \"56347355461\" \"563872575\"   \"3740193554\" \n",
      "[306] \"239264125\"   \"19681605\"   \n"
     ]
    }
   ],
   "source": [
    "if (length(common_owner_ids) > 0) {\n",
    "  print(paste(\"There are\", length(common_owner_ids), \"common owner IDs in the dataframes.\"))\n",
    "  print(\"Common owner IDs:\")\n",
    "  print(common_owner_ids)\n",
    "} else {\n",
    "  print(\"There are no common owner IDs in the dataframes.\")\n",
    "}"
   ]
  },
  {
   "cell_type": "code",
   "execution_count": 76,
   "id": "6d0196d8-ef8a-4ed0-86e7-511cfcce056a",
   "metadata": {},
   "outputs": [],
   "source": [
    "instagram_data <- clean_data_no_duplicates"
   ]
  },
  {
   "cell_type": "code",
   "execution_count": 77,
   "id": "8d31f7a8-f1ca-432a-ab55-e96b1a5b1071",
   "metadata": {},
   "outputs": [],
   "source": [
    "data_with_complete <- instagram_data %>%\n",
    "  filter(!is.na(followers) & !is.na(likes))"
   ]
  },
  {
   "cell_type": "code",
   "execution_count": 79,
   "id": "04508453-2e6d-4f60-94ae-b4a7f9f4e376",
   "metadata": {},
   "outputs": [],
   "source": [
    "data_with_missing_followers <- instagram_data %>%\n",
    "  filter(is.na(followers) & !is.na(likes))"
   ]
  },
  {
   "cell_type": "code",
   "execution_count": 81,
   "id": "041a544e-29e3-4d4a-9b9a-4d6edcf0d603",
   "metadata": {},
   "outputs": [],
   "source": [
    "# Step 4: Impute missing values\n",
    "# Assign predicted values to the missing values in the original dataframe\n",
    "instagram_data$followers[is.na(instagram_data$followers) & !is.na(instagram_data$likes)] <- predicted_followers"
   ]
  },
  {
   "cell_type": "code",
   "execution_count": 82,
   "id": "5f2477e9-2c34-4466-95a5-1ef3a68663b9",
   "metadata": {},
   "outputs": [],
   "source": [
    "median_following <- median(instagram_data$following, na.rm = TRUE)"
   ]
  },
  {
   "cell_type": "code",
   "execution_count": 83,
   "id": "52e3a121-7d1c-4c8d-a55b-1599460e93e8",
   "metadata": {},
   "outputs": [],
   "source": [
    "# Impute missing values in 'following' with the median\n",
    "instagram_data$following[is.na(instagram_data$following)] <- median_following"
   ]
  },
  {
   "cell_type": "code",
   "execution_count": 84,
   "id": "eb9ffa64-b405-40c8-a90b-498ad7b1ffcb",
   "metadata": {},
   "outputs": [],
   "source": [
    "# Define the function to cap outliers\n",
    "cap_outliers <- function(x) {\n",
    "  Q1 <- quantile(x, 0.25)\n",
    "  Q3 <- quantile(x, 0.75)\n",
    "  IQR <- Q3 - Q1\n",
    "  lower_bound <- Q1 - 1.5 * IQR\n",
    "  upper_bound <- Q3 + 1.5 * IQR\n",
    "  x[x < lower_bound] <- lower_bound\n",
    "  x[x > upper_bound] <- upper_bound\n",
    "  return(x)\n",
    "}"
   ]
  },
  {
   "cell_type": "code",
   "execution_count": 85,
   "id": "8b2b01d1-a981-4581-aa5f-bf383ccd01dc",
   "metadata": {},
   "outputs": [],
   "source": [
    "# Apply capping to 'likes' and 'following'\n",
    "instagram_data$likes <- cap_outliers(instagram_data$likes)\n",
    "instagram_data$followers <- cap_outliers(instagram_data$followers)"
   ]
  },
  {
   "cell_type": "code",
   "execution_count": 86,
   "id": "d7bde78e-23ea-4763-a007-81112571e52b",
   "metadata": {},
   "outputs": [
    {
     "data": {
      "text/plain": [
       "   Min. 1st Qu.  Median    Mean 3rd Qu.    Max. \n",
       "      0     514    2071    5848    8638   20823 "
      ]
     },
     "metadata": {},
     "output_type": "display_data"
    },
    {
     "data": {
      "text/plain": [
       "   Min. 1st Qu.  Median    Mean 3rd Qu.    Max. \n",
       "      1  223577  671471  922909 1233781 2749088 "
      ]
     },
     "metadata": {},
     "output_type": "display_data"
    }
   ],
   "source": [
    "# Verify the results\n",
    "summary(instagram_data$likes)\n",
    "summary(instagram_data$followers)"
   ]
  },
  {
   "cell_type": "markdown",
   "id": "a03299f2-1fae-46f4-884e-8e3a6dd5de5b",
   "metadata": {},
   "source": [
    "## 6. Feature Engineering"
   ]
  },
  {
   "cell_type": "code",
   "execution_count": 87,
   "id": "d1f348c0-dabf-4831-98cb-4bbe1cca445f",
   "metadata": {},
   "outputs": [],
   "source": [
    "# creación de variable likes/followers\n",
    "\n",
    "instagram_data$likes_to_followers <- instagram_data$likes / instagram_data$followers"
   ]
  },
  {
   "cell_type": "code",
   "execution_count": 88,
   "id": "43eb605b-999d-4ebb-8f7a-5d8b8b494903",
   "metadata": {},
   "outputs": [],
   "source": [
    "# creación de variable likes/following\n",
    "\n",
    "instagram_data$likes_to_following <- instagram_data$likes / instagram_data$following"
   ]
  },
  {
   "cell_type": "code",
   "execution_count": 89,
   "id": "2a655148-7b98-4711-90bb-245a6235cd4e",
   "metadata": {},
   "outputs": [],
   "source": [
    "# creación de variable followers/following\n",
    "\n",
    "instagram_data$followers_to_following <- instagram_data$followers / instagram_data$following"
   ]
  },
  {
   "cell_type": "code",
   "execution_count": 90,
   "id": "3aeadcc0-5959-40a5-8f58-54feb3d762fc",
   "metadata": {},
   "outputs": [],
   "source": [
    "# Diferencia likes and follwers\n",
    "\n",
    "instagram_data$likes_minus_followers <- instagram_data$likes - instagram_data$followers"
   ]
  },
  {
   "cell_type": "code",
   "execution_count": 91,
   "id": "8ea6467d-6d2d-4987-8f9d-987afb5d0c0a",
   "metadata": {},
   "outputs": [],
   "source": [
    "# Diferencia entre following y followers\n",
    "\n",
    "instagram_data$followers_minus_following <- instagram_data$followers - instagram_data$following"
   ]
  },
  {
   "cell_type": "code",
   "execution_count": 92,
   "id": "ed658713-f86e-42f1-83c1-89ee0efe3dd0",
   "metadata": {},
   "outputs": [],
   "source": [
    "# Ratio likes y comments\n",
    "\n",
    "instagram_data$comments_to_likes <- instagram_data$comments / instagram_data$likes"
   ]
  },
  {
   "cell_type": "code",
   "execution_count": 93,
   "id": "a8beac5d-cdbc-493a-9eac-1b9dc4b87ad2",
   "metadata": {},
   "outputs": [],
   "source": [
    "# cantidad de likes promedio por usuario:\n",
    "\n",
    "mean_likes_per_owner <- instagram_data %>%\n",
    "  group_by(owner_id) "
   ]
  },
  {
   "cell_type": "code",
   "execution_count": 94,
   "id": "4ca741f2-6b7b-4134-a39a-d9498dafda5a",
   "metadata": {},
   "outputs": [],
   "source": [
    "# Cantidad de followers promedio por usuario\n",
    "  \n",
    "median_followers_per_owner <- instagram_data %>%\n",
    "group_by(owner_id) %>%\n",
    "summarize(median_followers = median(followers, na.rm = TRUE))"
   ]
  },
  {
   "cell_type": "code",
   "execution_count": 95,
   "id": "829350de-9262-4a9a-a231-6588cd1dc48a",
   "metadata": {},
   "outputs": [],
   "source": [
    "# Cantidad de comments promedio por usuario\n",
    "\n",
    "median_comments_per_owner <- instagram_data %>%\n",
    "group_by(owner_id) %>%\n",
    "summarize(median_comments = median(comments, na.rm = TRUE))"
   ]
  },
  {
   "cell_type": "code",
   "execution_count": 96,
   "id": "5d8fe4f4-abd7-4a4c-84a9-cda3a4ec004e",
   "metadata": {},
   "outputs": [],
   "source": [
    "# Cantidad de likes por usuario\n",
    "\n",
    "total_likes_per_owner <- instagram_data %>%\n",
    "group_by(owner_id) %>%\n",
    "summarize(total_likes = sum(likes, na.rm = TRUE))"
   ]
  },
  {
   "cell_type": "code",
   "execution_count": 97,
   "id": "85072299-7df1-4740-b18e-4d03090012ae",
   "metadata": {},
   "outputs": [],
   "source": [
    "# Cantidad de comments por usuario\n",
    "\n",
    "total_comments_per_owner <- instagram_data %>%\n",
    "  group_by(owner_id) %>%\n",
    "  summarize(total_comments = sum(comments, na.rm = TRUE))"
   ]
  },
  {
   "cell_type": "code",
   "execution_count": 98,
   "id": "c3e011fe-8240-4796-83b6-5e75d720021d",
   "metadata": {},
   "outputs": [],
   "source": [
    "# Cantidad de posts por usuario\n",
    "\n",
    "post_count_per_owner <- instagram_data %>%\n",
    "group_by(owner_id) %>%\n",
    "summarize(post_count = n())"
   ]
  },
  {
   "cell_type": "code",
   "execution_count": 99,
   "id": "09250c6d-a0d6-423a-a6ef-657bac670229",
   "metadata": {},
   "outputs": [],
   "source": [
    "# Cantidad máxima de likes por usuario\n",
    "\n",
    "max_likes_per_owner <- instagram_data %>%\n",
    "group_by(owner_id) %>%\n",
    "summarize(max_likes = max(likes, na.rm = TRUE))"
   ]
  },
  {
   "cell_type": "code",
   "execution_count": 100,
   "id": "a3666479-0911-4f15-af19-54d66ec1873a",
   "metadata": {},
   "outputs": [],
   "source": [
    "# Cantidad mínima de likes por usuario\n",
    "\n",
    "min_followers_per_owner <- instagram_data %>%\n",
    "group_by(owner_id) %>%\n",
    "summarize(min_followers = min(followers, na.rm = TRUE))"
   ]
  },
  {
   "cell_type": "code",
   "execution_count": 101,
   "id": "1c0f8bc4-3445-4e2e-b4d3-b9583e1d4c84",
   "metadata": {},
   "outputs": [],
   "source": [
    "# Desviación standar de likes por usuario:\n",
    "\n",
    "stddev_likes_per_owner <- instagram_data %>%\n",
    "group_by(owner_id) %>%\n",
    "summarize(stddev_likes = sd(likes, na.rm = TRUE))"
   ]
  },
  {
   "cell_type": "code",
   "execution_count": 102,
   "id": "f56ffbfd-82bc-42d0-b716-4830c9ac4eb7",
   "metadata": {},
   "outputs": [],
   "source": [
    "# Creación columna año\n",
    "instagram_data$year <- year(instagram_data$created_at)"
   ]
  },
  {
   "cell_type": "code",
   "execution_count": 103,
   "id": "aced4f48-125b-4fc0-9586-84d8919c3c20",
   "metadata": {},
   "outputs": [],
   "source": [
    "# Creación columna mes\n",
    "instagram_data$month <- month(instagram_data$created_at)"
   ]
  },
  {
   "cell_type": "code",
   "execution_count": 104,
   "id": "c4514abc-bea0-4683-bf72-11381b11ace6",
   "metadata": {},
   "outputs": [],
   "source": [
    "# Creación columna día (número)\n",
    "instagram_data$day <- day(instagram_data$created_at)"
   ]
  },
  {
   "cell_type": "code",
   "execution_count": 105,
   "id": "0d7cf172-85cb-4835-badd-b6dd2ba7360e",
   "metadata": {},
   "outputs": [],
   "source": [
    "# Creación columna día (día de la semana) (1 = lunes, 7 = domingo)\n",
    "instagram_data$day_of_week <- wday(instagram_data$created_at, week_start = 1)"
   ]
  },
  {
   "cell_type": "code",
   "execution_count": 106,
   "id": "e27bf96d-eec7-4b99-be76-bcd3b8c102fc",
   "metadata": {},
   "outputs": [],
   "source": [
    "# Creación columna hora\n",
    "instagram_data$hour <- hour(instagram_data$created_at)"
   ]
  },
  {
   "cell_type": "code",
   "execution_count": 107,
   "id": "883eacbe-3760-4cd6-a428-45b289e15a56",
   "metadata": {},
   "outputs": [],
   "source": [
    "# Creación variable binaria para determinar si es fin de semana el día de la publicación\n",
    "instagram_data$weekend <- ifelse(instagram_data$day_of_week %in% c(6, 7), 1, 0)"
   ]
  },
  {
   "cell_type": "code",
   "execution_count": 108,
   "id": "d4e1798a-092c-4272-86ef-a579fb9930c2",
   "metadata": {},
   "outputs": [],
   "source": [
    "instagram_data$time_of_day <- case_when(\n",
    "  instagram_data$hour >= 0 & instagram_data$hour < 6 ~ \"night\",\n",
    "  instagram_data$hour >= 6 & instagram_data$hour < 12 ~ \"morning\",\n",
    "  instagram_data$hour >= 12 & instagram_data$hour < 18 ~ \"afternoon\",\n",
    "  instagram_data$hour >= 18 & instagram_data$hour < 24 ~ \"evening\",\n",
    "  TRUE ~ NA_character_\n",
    ")"
   ]
  },
  {
   "cell_type": "code",
   "execution_count": 109,
   "id": "9046fbca-9a2d-4ce5-8ead-7ed17a82b7fd",
   "metadata": {},
   "outputs": [],
   "source": [
    "# Creación variable para cantidad de letras del texto\n",
    "\n",
    "instagram_data$text_length <- str_length(instagram_data$caption)"
   ]
  },
  {
   "cell_type": "code",
   "execution_count": 110,
   "id": "6e99e5b4-d144-4dca-9fef-824290382dc0",
   "metadata": {},
   "outputs": [],
   "source": [
    "# Creación variable para cantidad de palabras del texto\n",
    "instagram_data$word_count <- str_count(instagram_data$caption, \"\\\\w+\")"
   ]
  },
  {
   "cell_type": "code",
   "execution_count": 111,
   "id": "47645384-1ca2-46bb-9080-ad337729990c",
   "metadata": {},
   "outputs": [],
   "source": [
    "#Hashtag\n",
    "instagram_data$contains_keyword <- str_detect(instagram_data$caption, \"hashtag\")"
   ]
  },
  {
   "cell_type": "code",
   "execution_count": 116,
   "id": "a6402aba-1559-4508-b76a-1d61bd852ce5",
   "metadata": {},
   "outputs": [],
   "source": [
    "# Análisis de sentimiento de la variable caption\n",
    "instagram_data_sentiment <- instagram_data %>%\n",
    "  unnest_tokens(word, caption) %>%\n",
    "  inner_join(get_sentiments(\"bing\"), by = \"word\") %>%\n",
    "  dplyr::count(owner_id, sentiment) %>%\n",
    "  pivot_wider(names_from = sentiment, values_from = n, values_fill = list(n = 0))"
   ]
  },
  {
   "cell_type": "code",
   "execution_count": 117,
   "id": "6a92b45f-a59a-4d15-8698-f4b845915652",
   "metadata": {},
   "outputs": [],
   "source": [
    "# Define the order of the categories in the 'time_of_day' column\n",
    "time_of_day_order <- c(\"morning\", \"afternoon\", \"evening\", \"night\")"
   ]
  },
  {
   "cell_type": "code",
   "execution_count": 118,
   "id": "d8bf2019-7ea0-494d-a4fc-537df058b3a6",
   "metadata": {},
   "outputs": [],
   "source": [
    "# Convert the 'time_of_day' column to a factor with the specified order\n",
    "instagram_data$time_of_day <- factor(instagram_data$time_of_day, levels = time_of_day_order, ordered = TRUE)"
   ]
  },
  {
   "cell_type": "code",
   "execution_count": 119,
   "id": "1b80b3ea-600e-4792-8c73-f17c912e78b2",
   "metadata": {},
   "outputs": [],
   "source": [
    "# Apply label encoding to the 'time_of_day' column\n",
    "instagram_data$time_of_day_encoded <- as.integer(instagram_data$time_of_day)"
   ]
  },
  {
   "cell_type": "code",
   "execution_count": 120,
   "id": "96d9f8a9-1646-4f44-90fd-6fb83b0cb6a4",
   "metadata": {},
   "outputs": [],
   "source": [
    "instagram_data$time_of_day_encoded <- NULL"
   ]
  },
  {
   "cell_type": "code",
   "execution_count": 121,
   "id": "fa03f6ff-1531-4a27-af72-59d0371867f0",
   "metadata": {},
   "outputs": [],
   "source": [
    "instagram_data <- instagram_data %>%\n",
    "  mutate(\n",
    "    time_of_day_afternoon = ifelse(time_of_day == \"afternoon\", 1, 0),\n",
    "    time_of_day_night = ifelse(time_of_day == \"night\", 1, 0),\n",
    "    time_of_day_evening = ifelse(time_of_day == \"evening\", 1, 0),\n",
    "    time_of_day_morning = ifelse(time_of_day == \"morning\", 1, 0)\n",
    "  )"
   ]
  },
  {
   "cell_type": "code",
   "execution_count": 122,
   "id": "bac80fd1-1412-4bed-bfe4-361c3521c92b",
   "metadata": {},
   "outputs": [],
   "source": [
    "## binning\n",
    "bin_limits <- seq(min(instagram_data$followers), max(instagram_data$followers), length.out = 6)"
   ]
  },
  {
   "cell_type": "code",
   "execution_count": 123,
   "id": "f378862c-780c-40a8-ab40-b250edd267c9",
   "metadata": {},
   "outputs": [],
   "source": [
    "# Perform equal width binning\n",
    "instagram_data$followers_bin <- cut(instagram_data$followers, breaks = bin_limits, labels = FALSE)"
   ]
  },
  {
   "cell_type": "code",
   "execution_count": 124,
   "id": "87377def-94a2-463c-852d-5b7744a3d079",
   "metadata": {},
   "outputs": [],
   "source": [
    "instagram_data <- instagram_data %>% select(-followers_bin)"
   ]
  },
  {
   "cell_type": "code",
   "execution_count": 125,
   "id": "3fb80350-4d13-4a5c-8482-099446954814",
   "metadata": {},
   "outputs": [],
   "source": [
    "num_bins <- 5\n",
    "\n",
    "instagram_data <- instagram_data %>%\n",
    "  mutate(followers_bin = cut(followers, breaks = num_bins))\n",
    "instagram_data <- instagram_data %>% select(-followers_bin)"
   ]
  },
  {
   "cell_type": "code",
   "execution_count": 127,
   "id": "1548db96-f01f-43b8-85b8-af91d80fb784",
   "metadata": {},
   "outputs": [
    {
     "name": "stdout",
     "output_type": "stream",
     "text": [
      "Rows: 8,286\n",
      "Columns: 35\n",
      "$ owner_id                  \u001b[3m\u001b[90m<chr>\u001b[39m\u001b[23m \"36063641\", \"36063641\", \"36063641\", \"3606364~\n",
      "$ owner_username            \u001b[3m\u001b[90m<chr>\u001b[39m\u001b[23m \"christendominique\", \"christendominique\", \"c~\n",
      "$ shortcode                 \u001b[3m\u001b[90m<chr>\u001b[39m\u001b[23m \"C3_GS1ASeWI\", \"C38ivgNS3IX\", \"C35-Dd9SO1b\",~\n",
      "$ is_video                  \u001b[3m\u001b[90m<chr>\u001b[39m\u001b[23m \"False\", \"True\", \"True\", \"True\", \"True\", \"Tr~\n",
      "$ caption                   \u001b[3m\u001b[90m<chr>\u001b[39m\u001b[23m \"Iâ\\200\\231m a brunch & Iced Coffee girlieâ\\~\n",
      "$ comments                  \u001b[3m\u001b[90m<dbl>\u001b[39m\u001b[23m 268, 138, 1089, 271, 145, 143, 356, 132, 128~\n",
      "$ likes                     \u001b[3m\u001b[90m<dbl>\u001b[39m\u001b[23m 16382.00, 9267.00, 10100.00, 6943.00, 17158.~\n",
      "$ created_at                \u001b[3m\u001b[90m<dttm>\u001b[39m\u001b[23m 2024-03-01 20:59:18, 2024-02-29 21:10:48, 2~\n",
      "$ location                  \u001b[3m\u001b[90m<chr>\u001b[39m\u001b[23m \"\", \"\", \"\", \"\", \"\", \"\", \"\", \"\", \"\", \"\", \"\", ~\n",
      "$ imageUrl                  \u001b[3m\u001b[90m<chr>\u001b[39m\u001b[23m \"https://instagram.flba2-1.fna.fbcdn.net/v/t~\n",
      "$ multiple_images           \u001b[3m\u001b[90m<chr>\u001b[39m\u001b[23m \"True\", \"False\", \"False\", \"False\", \"False\", ~\n",
      "$ username                  \u001b[3m\u001b[90m<chr>\u001b[39m\u001b[23m \"christendominique\", \"christendominique\", \"c~\n",
      "$ followers                 \u001b[3m\u001b[90m<dbl>\u001b[39m\u001b[23m 2144626.0, 2144626.0, 2144626.0, 2144626.0, ~\n",
      "$ following                 \u001b[3m\u001b[90m<dbl>\u001b[39m\u001b[23m 1021, 1021, 1021, 1021, 1021, 1021, 1021, 10~\n",
      "$ log_likes                 \u001b[3m\u001b[90m<dbl>\u001b[39m\u001b[23m 9.703938, 9.134215, 9.220291, 8.845489, 9.75~\n",
      "$ likes_to_followers        \u001b[3m\u001b[90m<dbl>\u001b[39m\u001b[23m 0.0076386279, 0.0043210331, 0.0047094458, 0.~\n",
      "$ likes_to_following        \u001b[3m\u001b[90m<dbl>\u001b[39m\u001b[23m 16.0450539, 9.0763957, 9.8922625, 6.8001959,~\n",
      "$ followers_to_following    \u001b[3m\u001b[90m<dbl>\u001b[39m\u001b[23m 2100.5152, 2100.5152, 2100.5152, 2100.5152, ~\n",
      "$ likes_minus_followers     \u001b[3m\u001b[90m<dbl>\u001b[39m\u001b[23m -2128244.0, -2135359.0, -2134526.0, -2137683~\n",
      "$ followers_minus_following \u001b[3m\u001b[90m<dbl>\u001b[39m\u001b[23m 2143605.0, 2143605.0, 2143605.0, 2143605.0, ~\n",
      "$ comments_to_likes         \u001b[3m\u001b[90m<dbl>\u001b[39m\u001b[23m 0.016359419, 0.014891551, 0.107821782, 0.039~\n",
      "$ year                      \u001b[3m\u001b[90m<dbl>\u001b[39m\u001b[23m 2024, 2024, 2024, 2024, 2024, 2024, 2024, 20~\n",
      "$ month                     \u001b[3m\u001b[90m<dbl>\u001b[39m\u001b[23m 3, 2, 2, 2, 2, 2, 2, 2, 2, 2, 2, 2, 12, 11, ~\n",
      "$ day                       \u001b[3m\u001b[90m<int>\u001b[39m\u001b[23m 1, 29, 28, 27, 23, 21, 15, 14, 13, 6, 5, 2, ~\n",
      "$ day_of_week               \u001b[3m\u001b[90m<dbl>\u001b[39m\u001b[23m 5, 4, 3, 2, 5, 3, 4, 3, 2, 2, 1, 5, 6, 3, 2,~\n",
      "$ hour                      \u001b[3m\u001b[90m<int>\u001b[39m\u001b[23m 20, 21, 21, 20, 20, 20, 21, 19, 20, 20, 23, ~\n",
      "$ weekend                   \u001b[3m\u001b[90m<dbl>\u001b[39m\u001b[23m 0, 0, 0, 0, 0, 0, 0, 0, 0, 0, 0, 0, 1, 0, 0,~\n",
      "$ time_of_day               \u001b[3m\u001b[90m<ord>\u001b[39m\u001b[23m evening, evening, evening, evening, evening,~\n",
      "$ text_length               \u001b[3m\u001b[90m<int>\u001b[39m\u001b[23m 80, 306, 634, 484, 155, 598, 501, 146, 94, 5~\n",
      "$ word_count                \u001b[3m\u001b[90m<int>\u001b[39m\u001b[23m 14, 41, 95, 58, 17, 70, 59, 19, 12, 62, 29, ~\n",
      "$ contains_keyword          \u001b[3m\u001b[90m<lgl>\u001b[39m\u001b[23m FALSE, FALSE, FALSE, FALSE, FALSE, FALSE, FA~\n",
      "$ time_of_day_afternoon     \u001b[3m\u001b[90m<dbl>\u001b[39m\u001b[23m 0, 0, 0, 0, 0, 0, 0, 0, 0, 0, 0, 0, 0, 0, 1,~\n",
      "$ time_of_day_night         \u001b[3m\u001b[90m<dbl>\u001b[39m\u001b[23m 0, 0, 0, 0, 0, 0, 0, 0, 0, 0, 0, 0, 1, 0, 0,~\n",
      "$ time_of_day_evening       \u001b[3m\u001b[90m<dbl>\u001b[39m\u001b[23m 1, 1, 1, 1, 1, 1, 1, 1, 1, 1, 1, 1, 0, 0, 0,~\n",
      "$ time_of_day_morning       \u001b[3m\u001b[90m<dbl>\u001b[39m\u001b[23m 0, 0, 0, 0, 0, 0, 0, 0, 0, 0, 0, 0, 0, 1, 0,~\n"
     ]
    }
   ],
   "source": [
    "glimpse(instagram_data)"
   ]
  },
  {
   "cell_type": "markdown",
   "id": "e528b1db-722a-40de-9eb8-08f345aba1fe",
   "metadata": {},
   "source": [
    "## 7. Correlation Analysis"
   ]
  },
  {
   "cell_type": "code",
   "execution_count": 128,
   "id": "6cb54ceb-9cb6-4efa-8ab9-cc56dcdfe8af",
   "metadata": {},
   "outputs": [
    {
     "data": {
      "image/png": "[encoded data removed]",
      "text/plain": [
       "plot without title"
      ]
     },
     "metadata": {
      "image/png": {
       "height": 420,
       "width": 420
      }
     },
     "output_type": "display_data"
    }
   ],
   "source": [
    "#tablas de frecuencias\n",
    "\n",
    "ggplot(instagram_data, aes(x = likes, y = followers)) +\n",
    "  geom_point()"
   ]
  },
  {
   "cell_type": "code",
   "execution_count": 129,
   "id": "c1005b61-6a78-474b-a2cc-1d451f8eabf3",
   "metadata": {},
   "outputs": [
    {
     "data": {
      "image/png": "[encoded data removed]",
      "text/plain": [
       "plot without title"
      ]
     },
     "metadata": {
      "image/png": {
       "height": 420,
       "width": 420
      }
     },
     "output_type": "display_data"
    }
   ],
   "source": [
    "ggplot(instagram_data, aes(x = log_likes, y = followers)) +\n",
    "  geom_point()"
   ]
  },
  {
   "cell_type": "code",
   "execution_count": 130,
   "id": "5c17c367-b445-4273-85e3-bdfdf0023a00",
   "metadata": {},
   "outputs": [],
   "source": [
    "hour_frequency <- table(instagram_data$hour)"
   ]
  },
  {
   "cell_type": "code",
   "execution_count": 131,
   "id": "377c36cb-cd0d-4c8a-8931-7371d7fc4031",
   "metadata": {},
   "outputs": [
    {
     "name": "stdout",
     "output_type": "stream",
     "text": [
      "\n",
      "  0   1   2   3   4   5   6   7   8   9  10  11  12  13  14  15  16  17  18  19 \n",
      "271 208 201 124 111 125 154 188 216 254 286 289 344 360 518 584 691 682 627 590 \n",
      " 20  21  22  23 \n",
      "491 402 308 262 \n"
     ]
    }
   ],
   "source": [
    "# Print the frequency table\n",
    "print(hour_frequency)"
   ]
  },
  {
   "cell_type": "code",
   "execution_count": 132,
   "id": "7e6dbc34-040b-473e-8bd4-5107310d0802",
   "metadata": {},
   "outputs": [],
   "source": [
    "day_frequency <- table(instagram_data$day_of_week)"
   ]
  },
  {
   "cell_type": "code",
   "execution_count": 133,
   "id": "47e620e6-f813-4702-a891-fe40b45bd0f4",
   "metadata": {},
   "outputs": [
    {
     "name": "stdout",
     "output_type": "stream",
     "text": [
      "\n",
      "   1    2    3    4    5    6    7 \n",
      "1179 1164 1278 1301 1205 1005 1154 \n"
     ]
    }
   ],
   "source": [
    "# Print the frequency table\n",
    "print(day_frequency)"
   ]
  },
  {
   "cell_type": "code",
   "execution_count": 134,
   "id": "dbb2da7b-0760-4173-b928-aacd86d57d64",
   "metadata": {},
   "outputs": [],
   "source": [
    "correl <- instagram_data %>% select(-owner_id) %>% select_if(is.numeric) %>%\n",
    "  cor(y = instagram_data$likes, use = \"pairwise.complete.obs\", method = \"spearman\") %>% abs() %>% round(2)"
   ]
  },
  {
   "cell_type": "code",
   "execution_count": 135,
   "id": "6efceab6-c674-4c76-845d-85ee64f71caf",
   "metadata": {},
   "outputs": [
    {
     "data": {
      "text/html": [
       "<style>\n",
       ".dl-inline {width: auto; margin:0; padding: 0}\n",
       ".dl-inline>dt, .dl-inline>dd {float: none; width: auto; display: inline-block}\n",
       ".dl-inline>dt::after {content: \":\\0020\"; padding-right: .5ex}\n",
       ".dl-inline>dt:not(:first-of-type) {padding-left: .5ex}\n",
       "</style><dl class=dl-inline><dt>log_likes</dt><dd>1</dd><dt>comments</dt><dd>0.82</dd><dt>likes_to_following</dt><dd>0.78</dd><dt>followers</dt><dd>0.66</dd><dt>followers_minus_following</dt><dd>0.65</dd><dt>likes_minus_followers</dt><dd>0.64</dd><dt>likes_to_followers</dt><dd>0.56</dd><dt>followers_to_following</dt><dd>0.48</dd><dt>year</dt><dd>0.14</dd><dt>comments_to_likes</dt><dd>0.13</dd><dt>month</dt><dd>0.09</dd><dt>hour</dt><dd>0.07</dd><dt>time_of_day_morning</dt><dd>0.07</dd><dt>following</dt><dd>0.06</dd><dt>time_of_day_afternoon</dt><dd>0.06</dd><dt>text_length</dt><dd>0.05</dd><dt>time_of_day_night</dt><dd>0.04</dd><dt>weekend</dt><dd>0.03</dd><dt>time_of_day_evening</dt><dd>0.03</dd><dt>day</dt><dd>0.02</dd><dt>day_of_week</dt><dd>0.02</dd><dt>word_count</dt><dd>0.02</dd></dl>\n"
      ],
      "text/latex": [
       "\\begin{description*}\n",
       "\\item[log\\textbackslash{}\\_likes] 1\n",
       "\\item[comments] 0.82\n",
       "\\item[likes\\textbackslash{}\\_to\\textbackslash{}\\_following] 0.78\n",
       "\\item[followers] 0.66\n",
       "\\item[followers\\textbackslash{}\\_minus\\textbackslash{}\\_following] 0.65\n",
       "\\item[likes\\textbackslash{}\\_minus\\textbackslash{}\\_followers] 0.64\n",
       "\\item[likes\\textbackslash{}\\_to\\textbackslash{}\\_followers] 0.56\n",
       "\\item[followers\\textbackslash{}\\_to\\textbackslash{}\\_following] 0.48\n",
       "\\item[year] 0.14\n",
       "\\item[comments\\textbackslash{}\\_to\\textbackslash{}\\_likes] 0.13\n",
       "\\item[month] 0.09\n",
       "\\item[hour] 0.07\n",
       "\\item[time\\textbackslash{}\\_of\\textbackslash{}\\_day\\textbackslash{}\\_morning] 0.07\n",
       "\\item[following] 0.06\n",
       "\\item[time\\textbackslash{}\\_of\\textbackslash{}\\_day\\textbackslash{}\\_afternoon] 0.06\n",
       "\\item[text\\textbackslash{}\\_length] 0.05\n",
       "\\item[time\\textbackslash{}\\_of\\textbackslash{}\\_day\\textbackslash{}\\_night] 0.04\n",
       "\\item[weekend] 0.03\n",
       "\\item[time\\textbackslash{}\\_of\\textbackslash{}\\_day\\textbackslash{}\\_evening] 0.03\n",
       "\\item[day] 0.02\n",
       "\\item[day\\textbackslash{}\\_of\\textbackslash{}\\_week] 0.02\n",
       "\\item[word\\textbackslash{}\\_count] 0.02\n",
       "\\end{description*}\n"
      ],
      "text/markdown": [
       "log_likes\n",
       ":   1comments\n",
       ":   0.82likes_to_following\n",
       ":   0.78followers\n",
       ":   0.66followers_minus_following\n",
       ":   0.65likes_minus_followers\n",
       ":   0.64likes_to_followers\n",
       ":   0.56followers_to_following\n",
       ":   0.48year\n",
       ":   0.14comments_to_likes\n",
       ":   0.13month\n",
       ":   0.09hour\n",
       ":   0.07time_of_day_morning\n",
       ":   0.07following\n",
       ":   0.06time_of_day_afternoon\n",
       ":   0.06text_length\n",
       ":   0.05time_of_day_night\n",
       ":   0.04weekend\n",
       ":   0.03time_of_day_evening\n",
       ":   0.03day\n",
       ":   0.02day_of_week\n",
       ":   0.02word_count\n",
       ":   0.02\n",
       "\n"
      ],
      "text/plain": [
       "                log_likes                  comments        likes_to_following \n",
       "                     1.00                      0.82                      0.78 \n",
       "                followers followers_minus_following     likes_minus_followers \n",
       "                     0.66                      0.65                      0.64 \n",
       "       likes_to_followers    followers_to_following                      year \n",
       "                     0.56                      0.48                      0.14 \n",
       "        comments_to_likes                     month                      hour \n",
       "                     0.13                      0.09                      0.07 \n",
       "      time_of_day_morning                 following     time_of_day_afternoon \n",
       "                     0.07                      0.06                      0.06 \n",
       "              text_length         time_of_day_night                   weekend \n",
       "                     0.05                      0.04                      0.03 \n",
       "      time_of_day_evening                       day               day_of_week \n",
       "                     0.03                      0.02                      0.02 \n",
       "               word_count \n",
       "                     0.02 "
      ]
     },
     "metadata": {},
     "output_type": "display_data"
    }
   ],
   "source": [
    "correl <- correl[order(-correl[, 1]),]\n",
    "correl[-1]"
   ]
  },
  {
   "cell_type": "code",
   "execution_count": 136,
   "id": "158c85f4-1af6-4325-929f-3ab5c37a30cf",
   "metadata": {},
   "outputs": [
    {
     "data": {
      "image/png": "[encoded data removed]",
      "text/plain": [
       "plot without title"
      ]
     },
     "metadata": {
      "image/png": {
       "height": 420,
       "width": 420
      }
     },
     "output_type": "display_data"
    }
   ],
   "source": [
    "par(las=2)\n",
    "barplot(correl[-1], horiz = FALSE, cex.names = 0.5, col= \"red\")"
   ]
  },
  {
   "cell_type": "markdown",
   "id": "b1ad5c06-1214-4bc6-bd20-bd5f47b41d7b",
   "metadata": {},
   "source": [
    "## 8. Handling NA / INF values"
   ]
  },
  {
   "cell_type": "code",
   "execution_count": 137,
   "id": "4a2b8a10-b699-4567-940d-351ef353b1d2",
   "metadata": {},
   "outputs": [],
   "source": [
    "# Check for infinite values in the column log_likes\n",
    "inf_indices <- is.infinite(instagram_data$log_likes)"
   ]
  },
  {
   "cell_type": "code",
   "execution_count": 138,
   "id": "6a7c59ff-2e5f-4e26-935e-708ab64c03d4",
   "metadata": {},
   "outputs": [],
   "source": [
    "# Replace infinite values with 0\n",
    "instagram_data$log_likes[inf_indices] <- 0"
   ]
  },
  {
   "cell_type": "code",
   "execution_count": 139,
   "id": "12148d81-f14e-4f58-b808-db90e32a354a",
   "metadata": {},
   "outputs": [],
   "source": [
    "# Check for infinite values in the column comments_to_likes\n",
    "inf_indicescom<- is.infinite(instagram_data$comments_to_likes)"
   ]
  },
  {
   "cell_type": "code",
   "execution_count": 140,
   "id": "05e9a960-aa73-4cf0-a7a8-429bd68975af",
   "metadata": {},
   "outputs": [],
   "source": [
    "# Replace infinite values with 0\n",
    "instagram_data$comments_to_likes[inf_indicescom] <- 0"
   ]
  },
  {
   "cell_type": "code",
   "execution_count": 141,
   "id": "96401430-4f10-4e70-b8e6-0b4967da0cdf",
   "metadata": {},
   "outputs": [],
   "source": [
    "# Replace NaN values in the column 'likes_to_following' with a specific value (e.g., 0)\n",
    "instagram_data$likes_to_following[is.nan(instagram_data$likes_to_following)] <- 0"
   ]
  },
  {
   "cell_type": "code",
   "execution_count": 142,
   "id": "c672b2f5-a415-4c4d-8d12-7dd13e1bbe79",
   "metadata": {},
   "outputs": [],
   "source": [
    "# Replace inf values with 'likes' values\n",
    "instagram_data$likes_to_following[is.infinite(instagram_data$likes_to_following)] <- instagram_data$likes[is.infinite(instagram_data$likes_to_following)]"
   ]
  },
  {
   "cell_type": "code",
   "execution_count": 143,
   "id": "c629c797-43bc-4b03-95f3-9b9284af6694",
   "metadata": {},
   "outputs": [],
   "source": [
    "instagram_data$followers_to_following[is.infinite(instagram_data$followers_to_following)] <- instagram_data$followers[is.infinite(instagram_data$followers_to_following)]"
   ]
  },
  {
   "cell_type": "code",
   "execution_count": 144,
   "id": "4ecb56b9-9ce3-4c28-96c2-e6698dd3c399",
   "metadata": {},
   "outputs": [],
   "source": [
    "# Replace inf values with zero in 'comments_to_like'\n",
    "instagram_data$comments_to_likes[is.infinite(instagram_data$comments_to_likes)] <- 0"
   ]
  },
  {
   "cell_type": "code",
   "execution_count": 145,
   "id": "6b46bf8e-6873-4455-8f0d-f9646301e4e0",
   "metadata": {},
   "outputs": [],
   "source": [
    "# Replace NaN with 0 in the column comments_to_likes\n",
    "instagram_data$comments_to_likes <- ifelse(is.nan(instagram_data$comments_to_likes), 0, instagram_data$comments_to_likes)"
   ]
  },
  {
   "cell_type": "code",
   "execution_count": 146,
   "id": "22e484a4-dbc1-487b-b4c1-c095bdbc06cd",
   "metadata": {},
   "outputs": [],
   "source": [
    "instagram_data <- instagram_data %>%\n",
    "  mutate(is_video_numeric = ifelse(is_video == \"True\", 1, 0))"
   ]
  },
  {
   "cell_type": "code",
   "execution_count": 147,
   "id": "9c2c6630-0217-4fb8-821f-1cec00fdcd6d",
   "metadata": {},
   "outputs": [],
   "source": [
    "instagram_data <- instagram_data %>%\n",
    "  mutate(multiple_images_numeric = ifelse(multiple_images == \"True\", 1, 0))"
   ]
  },
  {
   "cell_type": "code",
   "execution_count": 148,
   "id": "5ee310b6-5749-4373-89f7-1913a5207a53",
   "metadata": {},
   "outputs": [],
   "source": [
    "instagram_data <- instagram_data %>%\n",
    "  mutate(contains_keyword = as.numeric(contains_keyword))"
   ]
  },
  {
   "cell_type": "code",
   "execution_count": 149,
   "id": "73437f17-7d71-4de7-b52a-ad32e8517c32",
   "metadata": {},
   "outputs": [],
   "source": [
    "instagram_data$comments_followers_interaction <- instagram_data$comments * instagram_data$followers\n",
    "instagram_data$comments_followers_ratio <- instagram_data$comments / (instagram_data$followers + 1)  # To avoid division by zero\n",
    "instagram_data$followers_squared <- instagram_data$followers^2\n",
    "instagram_data$log_followers <- log(instagram_data$followers + 1)\n",
    "instagram_data$day_of_month <- as.integer(format(instagram_data$created_at, \"%d\"))\n",
    "instagram_data$month <- as.integer(format(instagram_data$created_at, \"%m\"))\n",
    "instagram_data$year <- as.integer(format(instagram_data$created_at, \"%Y\"))\n",
    "instagram_data$hour <- as.integer(format(instagram_data$created_at, \"%H\"))\n",
    "instagram_data$weekly_likes <- ave(instagram_data$likes, instagram_data$week, FUN = sum)\n",
    "instagram_data <- instagram_data %>%\n",
    "  arrange(created_at) %>%\n",
    "  mutate(lag_likes = lag(likes, n = 1))"
   ]
  },
  {
   "cell_type": "code",
   "execution_count": 150,
   "id": "94902e3b-1a5a-44e3-a828-c5e211d615d5",
   "metadata": {},
   "outputs": [],
   "source": [
    "# Replace NA values with zero in 'lag_likes'\n",
    "instagram_data$lag_likes[is.na(instagram_data$lag_likes)] <- 0"
   ]
  },
  {
   "cell_type": "code",
   "execution_count": 151,
   "id": "d1513592-f02c-4d78-b7e5-0b30b6f90931",
   "metadata": {},
   "outputs": [],
   "source": [
    "selected_data <- instagram_data %>%\n",
    "  select(comments, likes, followers, following, likes_to_followers, likes_to_following, followers_to_following, likes_minus_followers, \n",
    "         followers_minus_following, comments_to_likes, year, month, day, day_of_week, hour, weekend, text_length, word_count, contains_keyword,\n",
    "         time_of_day_afternoon, time_of_day_night, time_of_day_evening, time_of_day_morning, is_video_numeric, multiple_images_numeric,\n",
    "         comments_followers_interaction, comments_followers_ratio, followers_squared, log_followers, day_of_month, weekly_likes, lag_likes)"
   ]
  },
  {
   "cell_type": "code",
   "execution_count": 152,
   "id": "311f3fe7-07da-4da0-bb7e-7cdb3a94cc7b",
   "metadata": {},
   "outputs": [],
   "source": [
    "correlations <- cor(instagram_data %>% select(likes, likes_to_followers, likes_to_following, followers_to_following, likes_minus_followers, followers_minus_following, comments_to_likes), use = \"complete.obs\")"
   ]
  },
  {
   "cell_type": "code",
   "execution_count": 153,
   "id": "0fb36fe0-e0f3-4f85-a848-13199810ca9a",
   "metadata": {},
   "outputs": [
    {
     "name": "stdout",
     "output_type": "stream",
     "text": [
      "                                likes likes_to_followers likes_to_following\n",
      "likes                      1.00000000        0.013262511         0.16175140\n",
      "likes_to_followers         0.01326251        1.000000000         0.03625812\n",
      "likes_to_following         0.16175140        0.036258122         1.00000000\n",
      "followers_to_following     0.10702722       -0.010587944         0.81405005\n",
      "likes_minus_followers     -0.62684581        0.104969134        -0.07611636\n",
      "followers_minus_following  0.63033374       -0.103679619         0.07710599\n",
      "comments_to_likes         -0.01193257       -0.003394102         0.01835755\n",
      "                          followers_to_following likes_minus_followers\n",
      "likes                                 0.10702722           -0.62684581\n",
      "likes_to_followers                   -0.01058794            0.10496913\n",
      "likes_to_following                    0.81405005           -0.07611636\n",
      "followers_to_following                1.00000000           -0.15708646\n",
      "likes_minus_followers                -0.15708646            1.00000000\n",
      "followers_minus_following             0.15691489           -0.99769696\n",
      "comments_to_likes                     0.25039266           -0.07198949\n",
      "                          followers_minus_following comments_to_likes\n",
      "likes                                    0.63033374      -0.011932573\n",
      "likes_to_followers                      -0.10367962      -0.003394102\n",
      "likes_to_following                       0.07710599       0.018357549\n",
      "followers_to_following                   0.15691489       0.250392656\n",
      "likes_minus_followers                   -0.99769696      -0.071989486\n",
      "followers_minus_following                1.00000000       0.071348027\n",
      "comments_to_likes                        0.07134803       1.000000000\n"
     ]
    }
   ],
   "source": [
    "print(correlations)"
   ]
  },
  {
   "cell_type": "code",
   "execution_count": 154,
   "id": "8911c206-a4d7-4ec0-b278-df0a59a153b5",
   "metadata": {},
   "outputs": [],
   "source": [
    "# Remove collinear variables\n",
    "selected_data2 <- selected_data %>% \n",
    "  select(-followers_minus_following, \n",
    "         -time_of_day_morning, \n",
    "         -day_of_month, \n",
    "         -weekly_likes,\n",
    "         -likes_minus_followers,\n",
    "         -text_length,\n",
    "         -followers,\n",
    "         -time_of_day_evening,\n",
    "         -comments_followers_interaction,\n",
    "         -day,\n",
    "         -day_of_week,\n",
    "         -contains_keyword,\n",
    "         -multiple_images_numeric,\n",
    "         -following)\n"
   ]
  },
  {
   "cell_type": "markdown",
   "id": "1489e1bb-481c-453e-88a6-fc5af023c97f",
   "metadata": {},
   "source": [
    "## 9. VIF analysis"
   ]
  },
  {
   "cell_type": "code",
   "execution_count": 155,
   "id": "2ae43f58-f232-4fba-9990-9af588a9db79",
   "metadata": {},
   "outputs": [],
   "source": [
    "# Fit a linear model for VIF calculation\n",
    "vif_model <- lm(likes ~ ., data = selected_data2)"
   ]
  },
  {
   "cell_type": "code",
   "execution_count": 159,
   "id": "8b7baab5-abf5-4647-a2c2-0fbf81502acf",
   "metadata": {},
   "outputs": [],
   "source": [
    "# Calculate VIF\n",
    "vif_values <- vif(vif_model)"
   ]
  },
  {
   "cell_type": "code",
   "execution_count": 160,
   "id": "207eedf1-33ce-46b6-bb95-df74ffc9dd43",
   "metadata": {},
   "outputs": [
    {
     "name": "stdout",
     "output_type": "stream",
     "text": [
      "                comments       likes_to_followers       likes_to_following \n",
      "                1.788650                 1.138445                 3.443210 \n",
      "  followers_to_following        comments_to_likes                     year \n",
      "                3.709716                 2.056750                 1.594050 \n",
      "                   month                     hour                  weekend \n",
      "                1.200064                 2.296309                 1.004930 \n",
      "              word_count    time_of_day_afternoon        time_of_day_night \n",
      "                1.015524                 1.126045                 2.489485 \n",
      "        is_video_numeric comments_followers_ratio        followers_squared \n",
      "                1.059028                 1.155800                 1.464936 \n",
      "           log_followers                lag_likes \n",
      "                1.882266                 1.013535 \n"
     ]
    }
   ],
   "source": [
    "# Print VIF values\n",
    "print(vif_values)"
   ]
  },
  {
   "cell_type": "code",
   "execution_count": 161,
   "id": "826f38c8-f557-4848-b0f7-69622c12e526",
   "metadata": {},
   "outputs": [
    {
     "data": {
      "text/plain": [
       "Model :\n",
       "likes ~ comments + likes_to_followers + likes_to_following + \n",
       "    followers_to_following + comments_to_likes + year + month + \n",
       "    hour + weekend + word_count + time_of_day_afternoon + time_of_day_night + \n",
       "    is_video_numeric + comments_followers_ratio + followers_squared + \n",
       "    log_followers + lag_likes\n"
      ]
     },
     "metadata": {},
     "output_type": "display_data"
    }
   ],
   "source": [
    "alias(vif_model)"
   ]
  },
  {
   "cell_type": "markdown",
   "id": "7d800ca2-4fd7-468b-8779-494d318d237b",
   "metadata": {},
   "source": [
    "## 10. Splitting Data"
   ]
  },
  {
   "cell_type": "code",
   "execution_count": 171,
   "id": "06b7409d-40f0-4c98-9055-4c40497c5aa9",
   "metadata": {},
   "outputs": [],
   "source": [
    "# Split data \n",
    "set.seed(123)  \n",
    "trainIndex <- createDataPartition(selected_data2$likes, p = .8, \n",
    "                                  list = FALSE, \n",
    "                                  times = 1)"
   ]
  },
  {
   "cell_type": "code",
   "execution_count": 172,
   "id": "3ee955b1-dd0e-49df-a2ae-ff859099b9ee",
   "metadata": {},
   "outputs": [],
   "source": [
    "train_data <- selected_data2[trainIndex, ]\n",
    "test_data <- selected_data2[-trainIndex, ]"
   ]
  },
  {
   "cell_type": "markdown",
   "id": "08596f66-02f5-4287-b072-9f68b343dfb1",
   "metadata": {},
   "source": [
    "## 11. Linear regression model"
   ]
  },
  {
   "cell_type": "code",
   "execution_count": 173,
   "id": "15361c20-6902-4ae2-8366-b70dc82ee843",
   "metadata": {},
   "outputs": [
    {
     "data": {
      "text/plain": [
       "\n",
       "Call:\n",
       "lm(formula = .outcome ~ ., data = dat)\n",
       "\n",
       "Residuals:\n",
       "   Min     1Q Median     3Q    Max \n",
       "-35145  -2918  -1258   2199  18331 \n",
       "\n",
       "Coefficients:\n",
       "                           Estimate Std. Error t value Pr(>|t|)    \n",
       "(Intercept)               7.886e+05  8.758e+04   9.005  < 2e-16 ***\n",
       "comments                  2.379e-01  2.522e-02   9.434  < 2e-16 ***\n",
       "likes_to_followers        1.496e+04  1.199e+03  12.477  < 2e-16 ***\n",
       "likes_to_following        1.203e+00  7.375e-02  16.310  < 2e-16 ***\n",
       "followers_to_following   -9.109e-03  7.339e-04 -12.411  < 2e-16 ***\n",
       "comments_to_likes        -6.586e+02  1.000e+02  -6.582 4.99e-11 ***\n",
       "year                     -3.953e+02  4.338e+01  -9.114  < 2e-16 ***\n",
       "month                     3.939e+01  1.885e+01   2.089 0.036734 *  \n",
       "hour                      6.697e+01  1.639e+01   4.085 4.45e-05 ***\n",
       "weekend                   3.922e+02  1.501e+02   2.613 0.008994 ** \n",
       "word_count               -2.528e+00  6.521e-01  -3.877 0.000107 ***\n",
       "time_of_day_afternoon     3.133e+02  1.438e+02   2.179 0.029376 *  \n",
       "time_of_day_night         1.037e+03  3.125e+02   3.319 0.000908 ***\n",
       "is_video_numeric         -1.136e+03  1.394e+02  -8.153 4.23e-16 ***\n",
       "comments_followers_ratio  9.748e+03  5.957e+03   1.636 0.101792    \n",
       "followers_squared         1.463e-09  3.148e-11  46.496  < 2e-16 ***\n",
       "log_followers             1.032e+03  4.568e+01  22.584  < 2e-16 ***\n",
       "lag_likes                 2.747e-02  9.009e-03   3.049 0.002306 ** \n",
       "---\n",
       "Signif. codes:  0 '***' 0.001 '**' 0.01 '*' 0.05 '.' 0.1 ' ' 1\n",
       "\n",
       "Residual standard error: 5356 on 6612 degrees of freedom\n",
       "Multiple R-squared:  0.4698,\tAdjusted R-squared:  0.4684 \n",
       "F-statistic: 344.6 on 17 and 6612 DF,  p-value: < 2.2e-16\n"
      ]
     },
     "metadata": {},
     "output_type": "display_data"
    }
   ],
   "source": [
    "# Train the linear regression model\n",
    "\n",
    "lm_model <- train(likes ~ ., data = train_data, method = \"lm\")\n",
    "summary(lm_model)"
   ]
  },
  {
   "cell_type": "code",
   "execution_count": 174,
   "id": "8b6d9b06-14a6-4c3a-89c2-6116a364e0df",
   "metadata": {},
   "outputs": [],
   "source": [
    "# Make predictions on test data\n",
    "lm_predictions <- predict(lm_model, newdata = test_data)"
   ]
  },
  {
   "cell_type": "code",
   "execution_count": 175,
   "id": "001cd7cd-c8ad-4a26-81ee-0194d0ab5a7a",
   "metadata": {},
   "outputs": [
    {
     "data": {
      "text/html": [
       "5695.8721078792"
      ],
      "text/latex": [
       "5695.8721078792"
      ],
      "text/markdown": [
       "5695.8721078792"
      ],
      "text/plain": [
       "[1] 5695.872"
      ]
     },
     "metadata": {},
     "output_type": "display_data"
    }
   ],
   "source": [
    "# Evaluate model performance\n",
    "lm_rmse <- sqrt(mean((lm_predictions - test_data$likes)^2))\n",
    "lm_rmse  # Print RMSE (Root Mean Squared Error)"
   ]
  },
  {
   "cell_type": "code",
   "execution_count": 176,
   "id": "a0e1e1ed-3803-4ec0-b34b-880ac200719c",
   "metadata": {},
   "outputs": [
    {
     "data": {
      "image/png": "[encoded data removed]",
      "text/plain": [
       "plot without title"
      ]
     },
     "metadata": {
      "image/png": {
       "height": 420,
       "width": 420
      }
     },
     "output_type": "display_data"
    }
   ],
   "source": [
    "par(mfrow = c(2, 2))\n",
    "plot(lm_rmse)"
   ]
  },
  {
   "cell_type": "code",
   "execution_count": 177,
   "id": "f538faf3-6ab8-4880-89e3-d85e23100c0e",
   "metadata": {},
   "outputs": [
    {
     "name": "stdout",
     "output_type": "stream",
     "text": [
      "Linear Regression \n",
      "\n",
      "6630 samples\n",
      "  17 predictor\n",
      "\n",
      "No pre-processing\n",
      "Resampling: Cross-Validated (10 fold) \n",
      "Summary of sample sizes: 5966, 5967, 5967, 5968, 5967, 5968, ... \n",
      "Resampling results:\n",
      "\n",
      "  RMSE      Rsquared   MAE     \n",
      "  5394.305  0.4623919  3901.479\n",
      "\n",
      "Tuning parameter 'intercept' was held constant at a value of TRUE\n"
     ]
    }
   ],
   "source": [
    "set.seed(123)\n",
    "cv_control <- trainControl(method = \"cv\", number = 10)\n",
    "cv_model <- train(likes ~ ., data = train_data, method = \"lm\", trControl = cv_control)\n",
    "print(cv_model)"
   ]
  },
  {
   "cell_type": "code",
   "execution_count": 178,
   "id": "721933aa-a1af-4dc7-a5ce-3de6c30188a2",
   "metadata": {},
   "outputs": [],
   "source": [
    "# Make predictions on the test data\n",
    "test_predictions <- predict(cv_model, newdata = test_data)"
   ]
  },
  {
   "cell_type": "code",
   "execution_count": 179,
   "id": "2275bcd9-9755-4fc9-8a3f-542ce70dce39",
   "metadata": {},
   "outputs": [],
   "source": [
    "# Actual values\n",
    "actual_values <- test_data$likes"
   ]
  },
  {
   "cell_type": "code",
   "execution_count": 180,
   "id": "12738a3d-2333-4077-9900-aec39cb26f26",
   "metadata": {},
   "outputs": [],
   "source": [
    "# Calculate RMSE\n",
    "rmse <- sqrt(mean((test_predictions - actual_values)^2))"
   ]
  },
  {
   "cell_type": "code",
   "execution_count": 181,
   "id": "5eb7ca74-2814-40e6-895f-044e00a01ec9",
   "metadata": {},
   "outputs": [],
   "source": [
    "# Calculate MAE\n",
    "mae <- mean(abs(test_predictions - actual_values))"
   ]
  },
  {
   "cell_type": "code",
   "execution_count": 182,
   "id": "530b296d-3d2a-484b-a5cd-ec87315d4060",
   "metadata": {},
   "outputs": [],
   "source": [
    "# Calculate R-squared\n",
    "rss <- sum((test_predictions - actual_values)^2)\n",
    "tss <- sum((actual_values - mean(actual_values))^2)\n",
    "rsq <- 1 - rss/tss"
   ]
  },
  {
   "cell_type": "code",
   "execution_count": 183,
   "id": "8d3e6668-f38b-4f88-ba03-1e8fad7da47c",
   "metadata": {},
   "outputs": [
    {
     "name": "stdout",
     "output_type": "stream",
     "text": [
      "RMSE:  5695.872 \n",
      "MAE:  3882.203 \n",
      "R-squared:  0.4151628 \n"
     ]
    }
   ],
   "source": [
    "# Print the metrics\n",
    "cat(\"RMSE: \", rmse, \"\\n\")\n",
    "cat(\"MAE: \", mae, \"\\n\")\n",
    "cat(\"R-squared: \", rsq, \"\\n\")"
   ]
  },
  {
   "cell_type": "code",
   "execution_count": 188,
   "id": "37df7f97-4cd2-4f72-99fb-f90ea67be983",
   "metadata": {},
   "outputs": [
    {
     "data": {
      "image/png": "[encoded data removed]",
      "text/plain": [
       "Plot with title \"Predicted vs Actual Values\""
      ]
     },
     "metadata": {
      "image/png": {
       "height": 420,
       "width": 420
      }
     },
     "output_type": "display_data"
    }
   ],
   "source": [
    "# Plot predicted vs actual values\n",
    "plot(actual_values, test_predictions, \n",
    "     main = \"Predicted vs Actual Values\",\n",
    "     xlab = \"Actual Values\", ylab = \"Predicted Values\",\n",
    "     pch = 19, col = \"blue\")\n",
    "# Add a line for perfect predictions\n",
    "abline(a = 0, b = 1, col = \"red\")"
   ]
  },
  {
   "cell_type": "markdown",
   "id": "bddef3fa-2eb3-42c1-a6f9-ea0eb61a6720",
   "metadata": {},
   "source": [
    "## 12. Random forest model"
   ]
  },
  {
   "cell_type": "code",
   "execution_count": 191,
   "id": "606724a4-b053-4d86-befb-969e8d630182",
   "metadata": {},
   "outputs": [],
   "source": [
    "### RF method\n",
    "rf_model <- train(likes ~ ., data = train_data, method = \"rf\")"
   ]
  },
  {
   "cell_type": "code",
   "execution_count": 192,
   "id": "feb72647-3ea3-458b-a529-a8e096492b97",
   "metadata": {},
   "outputs": [
    {
     "name": "stdout",
     "output_type": "stream",
     "text": [
      "Random Forest \n",
      "\n",
      "6630 samples\n",
      "  17 predictor\n",
      "\n",
      "No pre-processing\n",
      "Resampling: Bootstrapped (25 reps) \n",
      "Summary of sample sizes: 6630, 6630, 6630, 6630, 6630, 6630, ... \n",
      "Resampling results across tuning parameters:\n",
      "\n",
      "  mtry  RMSE       Rsquared   MAE     \n",
      "   2    1340.9394  0.9733721  775.2828\n",
      "   9     646.8319  0.9927401  275.3700\n",
      "  17     727.2158  0.9904149  282.8008\n",
      "\n",
      "RMSE was used to select the optimal model using the smallest value.\n",
      "The final value used for the model was mtry = 9.\n"
     ]
    },
    {
     "data": {
      "text/html": [
       "<style>\n",
       ".dl-inline {width: auto; margin:0; padding: 0}\n",
       ".dl-inline>dt, .dl-inline>dd {float: none; width: auto; display: inline-block}\n",
       ".dl-inline>dt::after {content: \":\\0020\"; padding-right: .5ex}\n",
       ".dl-inline>dt:not(:first-of-type) {padding-left: .5ex}\n",
       "</style><dl class=dl-inline><dt>RMSE</dt><dd>530.220497542288</dd><dt>Rsquared</dt><dd>0.995131510350983</dd><dt>MAE</dt><dd>224.123152979066</dd></dl>\n"
      ],
      "text/latex": [
       "\\begin{description*}\n",
       "\\item[RMSE] 530.220497542288\n",
       "\\item[Rsquared] 0.995131510350983\n",
       "\\item[MAE] 224.123152979066\n",
       "\\end{description*}\n"
      ],
      "text/markdown": [
       "RMSE\n",
       ":   530.220497542288Rsquared\n",
       ":   0.995131510350983MAE\n",
       ":   224.123152979066\n",
       "\n"
      ],
      "text/plain": [
       "       RMSE    Rsquared         MAE \n",
       "530.2204975   0.9951315 224.1231530 "
      ]
     },
     "metadata": {},
     "output_type": "display_data"
    }
   ],
   "source": [
    "print(rf_model)\n",
    "predictions_rf <- predict(rf_model, newdata = test_data)\n",
    "postResample(predictions_rf, test_data$likes)"
   ]
  },
  {
   "cell_type": "code",
   "execution_count": 193,
   "id": "35d55e25-eeb1-40ba-a62c-7dcf526526b5",
   "metadata": {},
   "outputs": [
    {
     "data": {
      "text/plain": [
       "                Length Class      Mode     \n",
       "call               4   -none-     call     \n",
       "type               1   -none-     character\n",
       "predicted       6630   -none-     numeric  \n",
       "mse              500   -none-     numeric  \n",
       "rsq              500   -none-     numeric  \n",
       "oob.times       6630   -none-     numeric  \n",
       "importance        17   -none-     numeric  \n",
       "importanceSD       0   -none-     NULL     \n",
       "localImportance    0   -none-     NULL     \n",
       "proximity          0   -none-     NULL     \n",
       "ntree              1   -none-     numeric  \n",
       "mtry               1   -none-     numeric  \n",
       "forest            11   -none-     list     \n",
       "coefs              0   -none-     NULL     \n",
       "y               6630   -none-     numeric  \n",
       "test               0   -none-     NULL     \n",
       "inbag              0   -none-     NULL     \n",
       "xNames            17   -none-     character\n",
       "problemType        1   -none-     character\n",
       "tuneValue          1   data.frame list     \n",
       "obsLevels          1   -none-     logical  \n",
       "param              0   -none-     list     "
      ]
     },
     "metadata": {},
     "output_type": "display_data"
    }
   ],
   "source": [
    "summary(rf_model)"
   ]
  },
  {
   "cell_type": "code",
   "execution_count": 194,
   "id": "3f7c39b3-1599-431d-922c-50dea8fba78e",
   "metadata": {},
   "outputs": [],
   "source": [
    "single_tree <- randomForest::getTree(rf_model$finalModel, k = 1, labelVar = TRUE)"
   ]
  },
  {
   "cell_type": "code",
   "execution_count": 195,
   "id": "af318cb5-b266-4424-b086-0e06e3061f04",
   "metadata": {},
   "outputs": [],
   "source": [
    "# Convert the extracted tree to a data frame\n",
    "tree_df <- as.data.frame(single_tree)"
   ]
  },
  {
   "cell_type": "code",
   "execution_count": 198,
   "id": "d43625bc-16eb-4867-b7d0-75e296c760aa",
   "metadata": {},
   "outputs": [],
   "source": [
    "# Convert the data frame to a party object for plotting\n",
    "party_tree <- as.party(rpart::rpart(likes ~ ., data = train_data))"
   ]
  },
  {
   "cell_type": "code",
   "execution_count": 199,
   "id": "1a6425f2-ace0-4b04-ae6a-a1f2e6000d10",
   "metadata": {},
   "outputs": [
    {
     "data": {
      "image/png": "[encoded data removed]",
      "text/plain": [
       "plot without title"
      ]
     },
     "metadata": {
      "image/png": {
       "height": 420,
       "width": 420
      }
     },
     "output_type": "display_data"
    }
   ],
   "source": [
    "# Plot the tree\n",
    "plot(party_tree, main = \"Single Tree from Random Forest\")"
   ]
  },
  {
   "cell_type": "code",
   "execution_count": null,
   "id": "bb621d32-5cde-457f-8eeb-8b90274948a4",
   "metadata": {},
   "outputs": [],
   "source": []
  }
 ],
 "metadata": {
  "kernelspec": {
   "display_name": "R",
   "language": "R",
   "name": "ir"
  },
  "language_info": {
   "codemirror_mode": "r",
   "file_extension": ".r",
   "mimetype": "text/x-r-source",
   "name": "R",
   "pygments_lexer": "r",
   "version": "4.1.3"
  }
 },
 "nbformat": 4,
 "nbformat_minor": 5
}
